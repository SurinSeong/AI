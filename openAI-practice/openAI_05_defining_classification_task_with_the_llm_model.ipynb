{
 "cells": [
  {
   "cell_type": "markdown",
   "id": "4ffe99ad-b70e-427d-96b5-7c748902deed",
   "metadata": {},
   "source": [
    "# LLM\n",
    "* LM : Language Model (언어 모델)\n",
    "* nlp : natural language processing (자연어 처리)\n",
    "* nlu : natural language understanding (자연어 이해 : 읽고, 듣기 (TOEIC)) | BERT\n",
    "* nlg : natural language generation (자연어 생성 : 말하고 쓰기 (TOEIC SPEAKING/WRITING)) | GPT\n",
    "* LLM : Large Language Model (대규모 언어모델) | openAI, Gemini >> sLLM | 뤼튼, 네이버 클로바 (엔진 : openAI + fine_tuning, 나머지 : llama index)"
   ]
  },
  {
   "cell_type": "code",
   "execution_count": 1,
   "id": "d4aad4b2-83e3-4a19-b0f0-4ffe9784edd2",
   "metadata": {},
   "outputs": [],
   "source": [
    "# 기본 LLM 함수\n",
    "# prompt >> LLM >> response\n",
    "# prompt : text\n",
    "# response : text\n",
    "def llm(prompt):\n",
    "    response = '안녕하세요. 무엇을 도와드릴까요?'\n",
    "    return response"
   ]
  },
  {
   "cell_type": "markdown",
   "id": "3c79abb1-5f93-40cc-bb38-152cbca7976d",
   "metadata": {},
   "source": [
    "# 긍정 / 부정 분류기 (자동화)"
   ]
  },
  {
   "cell_type": "code",
   "execution_count": 2,
   "id": "d8cb9982-d5fd-4aa4-8f67-d21afa499092",
   "metadata": {},
   "outputs": [],
   "source": [
    "def llm(prompt):\n",
    "    response = '긍정'\n",
    "    return response\n",
    "\n",
    "def classify_text(input_text):\n",
    "    # input_text = 긍정 >> '긍정' or 1\n",
    "    # input_text = 부정 >> '부정' or 0\n",
    "    label = llm(input_text)\n",
    "\n",
    "    if label == '긍정':\n",
    "        return 1\n",
    "    \n",
    "    return 0"
   ]
  },
  {
   "cell_type": "markdown",
   "id": "b0f2090a-e74b-4b59-b17a-590272d91954",
   "metadata": {},
   "source": [
    "## 맛집 댓글(리뷰) 데이터셋"
   ]
  },
  {
   "cell_type": "code",
   "execution_count": 5,
   "id": "52f87cae-9fd1-4572-a303-4a6344de28a2",
   "metadata": {
    "scrolled": true
   },
   "outputs": [
    {
     "name": "stdout",
     "output_type": "stream",
     "text": [
      "comment : 여기 음식은 언제 와도 실망시키지 않아요. 최고!\n",
      "class : 1\n",
      "comment : 여기 라멘 진짜 ㄹㅇ 맛있어요. 국물이 진하고 면도 쫄깃해서 너무 좋았습니다.\n",
      "class : 1\n",
      "comment : 진짜 깔끔하고, 맛도 좋았어요. 추천합니다!\n",
      "class : 1\n",
      "comment : 왜 이렇게 유명한지 모르겠음ㅋㅋ ㄹㅈㄷ 맛없음\n",
      "class : 1\n",
      "comment : 인생 타르트를 여기서 만났어요. 달지 않고 고소해서 정말 추천합니다!\n",
      "class : 1\n",
      "comment : 메뉴 설명을 너무 친절하게 해주셔서 고르기 수월했어요.\n",
      "class : 1\n",
      "comment : 사진과 음식이 너무 달라서 실망했습니다.\n",
      "class : 1\n",
      "comment : 주변에 추천하려고 사진도 많이 찍었어요. 좋아요!\n",
      "class : 1\n",
      "comment : 솔직히...? 맛이 그닥이에요. 리뷰랑 너무 다르네.\n",
      "class : 1\n",
      "comment : 진짜 개꿀맛..ㅠ 다른곳 안가.\n",
      "class : 1\n"
     ]
    }
   ],
   "source": [
    "comments = [\n",
    "    \"여기 음식은 언제 와도 실망시키지 않아요. 최고!\",\n",
    "    \"여기 라멘 진짜 ㄹㅇ 맛있어요. 국물이 진하고 면도 쫄깃해서 너무 좋았습니다.\",\n",
    "    \"진짜 깔끔하고, 맛도 좋았어요. 추천합니다!\",\n",
    "    \"왜 이렇게 유명한지 모르겠음ㅋㅋ ㄹㅈㄷ 맛없음\",\n",
    "    \"인생 타르트를 여기서 만났어요. 달지 않고 고소해서 정말 추천합니다!\",\n",
    "    \"메뉴 설명을 너무 친절하게 해주셔서 고르기 수월했어요.\",\n",
    "    \"사진과 음식이 너무 달라서 실망했습니다.\",\n",
    "    \"주변에 추천하려고 사진도 많이 찍었어요. 좋아요!\",\n",
    "    \"솔직히...? 맛이 그닥이에요. 리뷰랑 너무 다르네.\",\n",
    "    \"진짜 개꿀맛..ㅠ 다른곳 안가.\"\n",
    "]\n",
    "\n",
    "# 감성분석의 원리\n",
    "for comment in comments:\n",
    "    comment_class = classify_text(comment)\n",
    "\n",
    "    print('comment :', comment)\n",
    "    print('class :', comment_class)"
   ]
  },
  {
   "cell_type": "code",
   "execution_count": null,
   "id": "490ea018-587c-4cb5-a76a-9692e125dbb9",
   "metadata": {},
   "outputs": [],
   "source": []
  }
 ],
 "metadata": {
  "kernelspec": {
   "display_name": "Python 3 (ipykernel)",
   "language": "python",
   "name": "python3"
  },
  "language_info": {
   "codemirror_mode": {
    "name": "ipython",
    "version": 3
   },
   "file_extension": ".py",
   "mimetype": "text/x-python",
   "name": "python",
   "nbconvert_exporter": "python",
   "pygments_lexer": "ipython3",
   "version": "3.9.19"
  },
  "widgets": {
   "application/vnd.jupyter.widget-state+json": {
    "state": {},
    "version_major": 2,
    "version_minor": 0
   }
  }
 },
 "nbformat": 4,
 "nbformat_minor": 5
}
