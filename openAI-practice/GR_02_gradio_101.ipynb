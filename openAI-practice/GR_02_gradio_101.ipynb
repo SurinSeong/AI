{
 "cells": [
  {
   "cell_type": "markdown",
   "id": "6d9d0097-2e4c-439b-9101-17c8e085c8e1",
   "metadata": {},
   "source": [
    "# Gradio 기본실습 - 입출력 제어하기"
   ]
  },
  {
   "cell_type": "code",
   "execution_count": 2,
   "id": "3936de94-234d-45a7-ae73-8f7678ba4eef",
   "metadata": {},
   "outputs": [],
   "source": [
    "# BMI 계산기 만들기\n",
    "def bmi(name, height, weight):\n",
    "    bmi_val = round(weight / ((height/100)**2), 2)\n",
    "    return (f'안녕하세요. {name} 님! 당신의 BMI는 {bmi_val} 입니다.')"
   ]
  },
  {
   "cell_type": "code",
   "execution_count": 4,
   "id": "0a8df9d0-5c7b-4e8b-a254-cdb36be8372e",
   "metadata": {},
   "outputs": [
    {
     "data": {
      "text/plain": [
       "'안녕하세요. 성수린 님! 당신의 BMI는 20.66 입니다.'"
      ]
     },
     "execution_count": 4,
     "metadata": {},
     "output_type": "execute_result"
    }
   ],
   "source": [
    "bmi('성수린', 154, 49)"
   ]
  },
  {
   "cell_type": "code",
   "execution_count": 6,
   "id": "37655843-410a-40b6-a532-7a5550f144de",
   "metadata": {},
   "outputs": [
    {
     "name": "stdout",
     "output_type": "stream",
     "text": [
      "Running on local URL:  http://127.0.0.1:7869\n",
      "\n",
      "To create a public link, set `share=True` in `launch()`.\n"
     ]
    },
    {
     "data": {
      "text/html": [
       "<div><iframe src=\"http://127.0.0.1:7869/\" width=\"100%\" height=\"500\" allow=\"autoplay; camera; microphone; clipboard-read; clipboard-write;\" frameborder=\"0\" allowfullscreen></iframe></div>"
      ],
      "text/plain": [
       "<IPython.core.display.HTML object>"
      ]
     },
     "metadata": {},
     "output_type": "display_data"
    },
    {
     "data": {
      "text/plain": []
     },
     "execution_count": 6,
     "metadata": {},
     "output_type": "execute_result"
    }
   ],
   "source": [
    "# BMI 계산기 1 - input 여러 개 다루기\n",
    "import gradio as gr\n",
    "\n",
    "interface = \\\n",
    "gr.Interface(fn=bmi, inputs=['text', 'number', 'number'], outputs='text')\n",
    "\n",
    "interface.launch()"
   ]
  },
  {
   "cell_type": "code",
   "execution_count": 10,
   "id": "3de22b19-0a69-4f48-9a98-74cf15db81e3",
   "metadata": {},
   "outputs": [
    {
     "name": "stdout",
     "output_type": "stream",
     "text": [
      "Running on local URL:  http://127.0.0.1:7871\n",
      "\n",
      "To create a public link, set `share=True` in `launch()`.\n"
     ]
    },
    {
     "data": {
      "text/html": [
       "<div><iframe src=\"http://127.0.0.1:7871/\" width=\"100%\" height=\"500\" allow=\"autoplay; camera; microphone; clipboard-read; clipboard-write;\" frameborder=\"0\" allowfullscreen></iframe></div>"
      ],
      "text/plain": [
       "<IPython.core.display.HTML object>"
      ]
     },
     "metadata": {},
     "output_type": "display_data"
    },
    {
     "data": {
      "text/plain": []
     },
     "execution_count": 10,
     "metadata": {},
     "output_type": "execute_result"
    }
   ],
   "source": [
    "# BMI 계산기 2 - output 여러 개 다루기\n",
    "# BMI 계산기 만들기 함수 - 업데이트\n",
    "def bmi(name, height, weight):\n",
    "    bmi_val = round(weight / ((height/100)**2), 2)\n",
    "    emotion = ''\n",
    "    if bmi_val > 23:\n",
    "        emotion = ':('\n",
    "    else:\n",
    "        emotion = ':D'\n",
    "        \n",
    "    return (f'{name} 님의 BMI는 {bmi_val} 입니다.', emotion)\n",
    "\n",
    "interface = \\\n",
    "gr.Interface(fn=bmi, inputs=['text', 'number', 'number'], outputs=['text', 'text'])\n",
    "\n",
    "interface.launch()"
   ]
  },
  {
   "cell_type": "code",
   "execution_count": 12,
   "id": "66d25b12-e134-4059-8c8d-134f595ed98e",
   "metadata": {
    "scrolled": true
   },
   "outputs": [
    {
     "name": "stdout",
     "output_type": "stream",
     "text": [
      "Running on local URL:  http://127.0.0.1:7872\n",
      "\n",
      "To create a public link, set `share=True` in `launch()`.\n"
     ]
    },
    {
     "data": {
      "text/html": [
       "<div><iframe src=\"http://127.0.0.1:7872/\" width=\"100%\" height=\"500\" allow=\"autoplay; camera; microphone; clipboard-read; clipboard-write;\" frameborder=\"0\" allowfullscreen></iframe></div>"
      ],
      "text/plain": [
       "<IPython.core.display.HTML object>"
      ]
     },
     "metadata": {},
     "output_type": "display_data"
    },
    {
     "data": {
      "text/plain": []
     },
     "execution_count": 12,
     "metadata": {},
     "output_type": "execute_result"
    }
   ],
   "source": [
    "# BMI 계산기 3 - component 사용하기\n",
    "# BMI 계산기 만들기 함수 - 업데이트\n",
    "def bmi(name, height, weight):\n",
    "    bmi_val = round(weight / ((height/100)**2), 2)\n",
    "    emotion = ''\n",
    "    if bmi_val > 23:\n",
    "        emotion = ':('\n",
    "    else:\n",
    "        emotion = ':D'\n",
    "        \n",
    "    return (f'{name} 님의 BMI는 {bmi_val} 입니다.', emotion)\n",
    "\n",
    "interface = \\\n",
    "gr.Interface(fn=bmi, \n",
    "             inputs=['text', gr.Slider(0, 300, label='키(cm)'), gr.Slider(0, 150, label='몸무게(kg)')],\n",
    "             outputs=['text', 'text'])\n",
    "\n",
    "interface.launch()"
   ]
  },
  {
   "cell_type": "code",
   "execution_count": null,
   "id": "c7e2dde8-c66b-4db0-8046-151d7f44883f",
   "metadata": {},
   "outputs": [],
   "source": [
    "# BMI 계산기 4 - checkbox component 사용하기\n",
    "# BMI 계산기 만들기 함수 - 업데이트\n",
    "def bmi(name, height, weight):\n",
    "    bmi_val = round(weight / ((height/100)**2), 2)\n",
    "    emotion = ''\n",
    "    if bmi_val > 23:\n",
    "        emotion = ':('\n",
    "    else:\n",
    "        emotion = ':D'\n",
    "\n",
    "    if diet:\n",
    "        diet = '관리ing..'\n",
    "    else:\n",
    "        diet = '살크업ing..'\n",
    "        \n",
    "    return (f'{name} 님의 BMI는 {bmi_val} 입니다.', emotion, diet)\n",
    "\n",
    "interface = \\\n",
    "gr.Interface(fn=bmi, \n",
    "             inputs=[\n",
    "                 'text', \n",
    "                  gr.Slider(0, 300, label='키(cm)'), \n",
    "                  gr.Slider(0, 150, label='몸무게(kg)'),\n",
    "                  gr.Checkbox(label='관리 여부')\n",
    "             ],\n",
    "             outputs=['text', 'text', 'text'])\n",
    "\n",
    "interface.launch()"
   ]
  },
  {
   "cell_type": "code",
   "execution_count": 15,
   "id": "06795bc4-e294-4637-be95-a4603bbcfe74",
   "metadata": {
    "scrolled": true
   },
   "outputs": [
    {
     "name": "stderr",
     "output_type": "stream",
     "text": [
      "C:\\Users\\tjdtn\\anaconda3\\Lib\\site-packages\\gradio\\utils.py:816: UserWarning: Expected 3 arguments for function <function bmi at 0x0000018CEED9E660>, received 4.\n",
      "  warnings.warn(\n",
      "C:\\Users\\tjdtn\\anaconda3\\Lib\\site-packages\\gradio\\utils.py:824: UserWarning: Expected maximum 3 arguments for function <function bmi at 0x0000018CEED9E660>, received 4.\n",
      "  warnings.warn(\n"
     ]
    },
    {
     "name": "stdout",
     "output_type": "stream",
     "text": [
      "Running on local URL:  http://127.0.0.1:7873\n",
      "\n",
      "To create a public link, set `share=True` in `launch()`.\n"
     ]
    },
    {
     "data": {
      "text/html": [
       "<div><iframe src=\"http://127.0.0.1:7873/\" width=\"100%\" height=\"500\" allow=\"autoplay; camera; microphone; clipboard-read; clipboard-write;\" frameborder=\"0\" allowfullscreen></iframe></div>"
      ],
      "text/plain": [
       "<IPython.core.display.HTML object>"
      ]
     },
     "metadata": {},
     "output_type": "display_data"
    },
    {
     "name": "stdout",
     "output_type": "stream",
     "text": [
      "IMPORTANT: You are using gradio version 4.0.2, however version 4.29.0 is available, please upgrade.\n",
      "--------\n",
      "Keyboard interruption in main thread... closing server.\n"
     ]
    },
    {
     "data": {
      "text/plain": []
     },
     "execution_count": 15,
     "metadata": {},
     "output_type": "execute_result"
    }
   ],
   "source": [
    "# BMI 계산기 5 - flag 사용하기\n",
    "# BMI 계산기 만들기 함수 - 업데이트\n",
    "def bmi(name, height, weight, diet):\n",
    "    bmi_val = round(weight / ((height/100)**2), 2)\n",
    "    emotion = ''\n",
    "    if bmi_val > 23:\n",
    "        emotion = ':('\n",
    "    else:\n",
    "        emotion = ':D'\n",
    "\n",
    "    if diet:\n",
    "        diet = '관리ing..'\n",
    "    else:\n",
    "        diet = '살크업ing..'\n",
    "        \n",
    "    return (f'{name} 님의 BMI는 {bmi_val} 입니다.', emotion, diet)\n",
    "\n",
    "interface = \\\n",
    "gr.Interface(fn=bmi, \n",
    "             inputs=[\n",
    "                 'text', \n",
    "                  gr.Slider(0, 300, label='키(cm)'), \n",
    "                  gr.Slider(0, 150, label='몸무게(kg)'),\n",
    "                  gr.Checkbox(label='관리 여부')\n",
    "             ],\n",
    "             outputs=['text', 'text', 'text'],\n",
    "             flagging_options=['good', 'bad', 'error'],\n",
    "             description='에러가 나면 Flag를 눌러주세요!',\n",
    "             examples=[['성수린', 154, 48, True], ['이종훈', 173, 75, True]]\n",
    "            )\n",
    "\n",
    "interface.launch(debug=True)"
   ]
  },
  {
   "cell_type": "markdown",
   "id": "5013bbfe-6dac-4ffe-879b-ac06f1724a96",
   "metadata": {},
   "source": [
    "## Gradio로 UI 꾸미기"
   ]
  },
  {
   "cell_type": "code",
   "execution_count": 20,
   "id": "892800f0-6962-4dda-9a99-27cf5ddd062e",
   "metadata": {
    "scrolled": true
   },
   "outputs": [
    {
     "name": "stdout",
     "output_type": "stream",
     "text": [
      "Running on local URL:  http://127.0.0.1:7874\n",
      "\n",
      "To create a public link, set `share=True` in `launch()`.\n"
     ]
    },
    {
     "data": {
      "text/html": [
       "<div><iframe src=\"http://127.0.0.1:7874/\" width=\"100%\" height=\"500\" allow=\"autoplay; camera; microphone; clipboard-read; clipboard-write;\" frameborder=\"0\" allowfullscreen></iframe></div>"
      ],
      "text/plain": [
       "<IPython.core.display.HTML object>"
      ]
     },
     "metadata": {},
     "output_type": "display_data"
    },
    {
     "data": {
      "text/plain": []
     },
     "execution_count": 20,
     "metadata": {},
     "output_type": "execute_result"
    }
   ],
   "source": [
    "### 최종 버전 ###\n",
    "\n",
    "def bmi(name, height, weight, diet):\n",
    "    bmi_val = round(weight / ((height/100)**2), 2)\n",
    "    emotion = ''\n",
    "    if bmi_val > 23:\n",
    "        emotion = ':('\n",
    "    else:\n",
    "        emotion = ':D'\n",
    "\n",
    "    if diet:\n",
    "        diet = '관리ing..'\n",
    "    else:\n",
    "        diet = '살크업ing..'\n",
    "        \n",
    "    return (f'{name} 님의 BMI는 {bmi_val} 입니다.', emotion, diet)\n",
    "    \n",
    "interface = \\\n",
    "gr.Interface(\n",
    "    fn=bmi,\n",
    "    inputs=[\n",
    "        'text',\n",
    "        gr.Slider(1, 300, label='키(cm)'),\n",
    "        gr.Slider(1, 150, label='몸무게(kg)'),\n",
    "        gr.Checkbox(label='관리중'),\n",
    "    ],\n",
    "    outputs=['text', 'text', 'text'],\n",
    "    description='에러가 생기면 Flag를 눌러주세요!',\n",
    "    examples=[['성수린', 154, 48, True], ['이종훈', 173, 75, True]],\n",
    "    flagging_options=['good', 'bad', 'error'],\n",
    "    title='BMI 계산기',\n",
    "    live=True,\n",
    "    theme=gr.themes.Soft() # 원하는 걸로 바꿀 수 있음.\n",
    ")\n",
    "\n",
    "interface.launch()"
   ]
  },
  {
   "cell_type": "code",
   "execution_count": 22,
   "id": "bae4175c-f4bc-4740-b52e-527e3b23edc8",
   "metadata": {},
   "outputs": [
    {
     "data": {
      "application/vnd.jupyter.widget-view+json": {
       "model_id": "9e19811f9b2243e1b4ca7487a7d3512b",
       "version_major": 2,
       "version_minor": 0
      },
      "text/plain": [
       "themes/theme_schema@0.0.1.json:   0%|          | 0.00/12.9k [00:00<?, ?B/s]"
      ]
     },
     "metadata": {},
     "output_type": "display_data"
    },
    {
     "name": "stderr",
     "output_type": "stream",
     "text": [
      "C:\\Users\\tjdtn\\AppData\\Roaming\\Python\\Python311\\site-packages\\huggingface_hub\\file_download.py:157: UserWarning: `huggingface_hub` cache-system uses symlinks by default to efficiently store duplicated files but your machine does not support them in C:\\Users\\tjdtn\\.cache\\huggingface\\hub\\spaces--gstaff--sketch. Caching files will still work but in a degraded version that might require more space on your disk. This warning can be disabled by setting the `HF_HUB_DISABLE_SYMLINKS_WARNING` environment variable. For more details, see https://huggingface.co/docs/huggingface_hub/how-to-cache#limitations.\n",
      "To support symlinks on Windows, you either need to activate Developer Mode or to run Python as an administrator. In order to see activate developer mode, see this article: https://docs.microsoft.com/en-us/windows/apps/get-started/enable-your-device-for-development\n",
      "  warnings.warn(message)\n"
     ]
    },
    {
     "name": "stdout",
     "output_type": "stream",
     "text": [
      "Running on local URL:  http://127.0.0.1:7875\n",
      "\n",
      "To create a public link, set `share=True` in `launch()`.\n"
     ]
    },
    {
     "data": {
      "text/html": [
       "<div><iframe src=\"http://127.0.0.1:7875/\" width=\"100%\" height=\"500\" allow=\"autoplay; camera; microphone; clipboard-read; clipboard-write;\" frameborder=\"0\" allowfullscreen></iframe></div>"
      ],
      "text/plain": [
       "<IPython.core.display.HTML object>"
      ]
     },
     "metadata": {},
     "output_type": "display_data"
    },
    {
     "data": {
      "text/plain": []
     },
     "execution_count": 22,
     "metadata": {},
     "output_type": "execute_result"
    }
   ],
   "source": [
    "### 사용자 정의 테마 활용 ###\n",
    "\n",
    "# 사용자 정의 테마 설정\n",
    "custom_theme = gr.themes.Default(\n",
    "    # color: slate, gray, zinc, neutral, stone, red, orange, amber, yellow, lime, green, emerald, teal, cyan, sky, blue, indigo, violet, purple, fuchsia, pink ,rose\n",
    "    # 강조색상 톤 설정\n",
    "    primary_hue= gr.themes.colors.blue,\n",
    "    # 선택된 요소나 활성화된 요소의 색상 톤 설정\n",
    "    secondary_hue= gr.themes.colors.green,\n",
    "    # 앱의 배경색, 텍스트 색상, 비활성화된 요소의 색상 톤 설정\n",
    "    neutral_hue= gr.themes.colors.red,\n",
    "    # 텍스트 크기 설정 (\"sm\", \"md\", \"lg\",)\n",
    "    text_size=\"lg\",\n",
    "    # 요소 간의 간격 크기 설정 ( \"sm\", \"md\", \"lg\",)\n",
    "    spacing_size=\"lg\",\n",
    "    # 요소의 모서리 둥글기 크기 설정 (\"sm\", \"md\", \"lg\",)\n",
    "    radius_size=\"sm\",\n",
    "    # 기본 폰트 설정\n",
    "    font=[gr.themes.GoogleFont(\"Mooli\"), \"Arial\", \"sans-serif\"],\n",
    "    # 고정폭 폰트 설정\n",
    "    font_mono=[gr.themes.GoogleFont(\"Inconsolata\"), \"Arial\", \"sans-serif\"],\n",
    ")\n",
    "\n",
    "interface = \\\n",
    "gr.Interface(\n",
    "    fn=bmi,\n",
    "    inputs=[\n",
    "        'text',\n",
    "        gr.Slider(1, 300, label='키(cm)'),\n",
    "        gr.Slider(1, 150, label='몸무게(kg)'),\n",
    "        gr.Checkbox(label='관리중'),\n",
    "    ],\n",
    "    outputs=['text', 'text', 'text'],\n",
    "    description='에러가 생기면 Flag를 눌러주세요!',\n",
    "    examples=[['성수린', 154, 48, True], ['이종훈', 173, 75, True]],\n",
    "    flagging_options=['good', 'bad', 'error'],\n",
    "    title='BMI 계산기',\n",
    "    # live=True,\n",
    "    # theme=gr.themes.Soft() # 원하는 걸로 바꿀 수 있음.\n",
    "    theme=\"gstaff/sketch\",\n",
    ")\n",
    "\n",
    "interface.launch()"
   ]
  }
 ],
 "metadata": {
  "kernelspec": {
   "display_name": "Python 3 (ipykernel)",
   "language": "python",
   "name": "python3"
  },
  "language_info": {
   "codemirror_mode": {
    "name": "ipython",
    "version": 3
   },
   "file_extension": ".py",
   "mimetype": "text/x-python",
   "name": "python",
   "nbconvert_exporter": "python",
   "pygments_lexer": "ipython3",
   "version": "3.11.7"
  }
 },
 "nbformat": 4,
 "nbformat_minor": 5
}
