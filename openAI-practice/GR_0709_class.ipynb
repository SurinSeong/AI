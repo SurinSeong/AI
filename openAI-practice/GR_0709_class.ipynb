{
 "cells": [
  {
   "cell_type": "code",
   "execution_count": 1,
   "id": "1bda6867-d0fa-4cd7-9d04-edd02a199dc3",
   "metadata": {},
   "outputs": [],
   "source": [
    "import gradio as gr"
   ]
  },
  {
   "cell_type": "code",
   "execution_count": 2,
   "id": "33bc5ac3-dfd8-49de-812c-b6b0ef7f7295",
   "metadata": {},
   "outputs": [
    {
     "data": {
      "text/plain": [
       "'4.37.2'"
      ]
     },
     "execution_count": 2,
     "metadata": {},
     "output_type": "execute_result"
    }
   ],
   "source": [
    "gr.__version__"
   ]
  },
  {
   "cell_type": "markdown",
   "id": "e0c6cbaa-7d59-4679-9f4d-74c69d958ca0",
   "metadata": {},
   "source": [
    "# Hugging Face"
   ]
  },
  {
   "cell_type": "code",
   "execution_count": 3,
   "id": "db9c0162-d1d5-4c8a-a67c-53083dfab78c",
   "metadata": {},
   "outputs": [
    {
     "ename": "ValueError",
     "evalue": "parameter: src must be one of dict_keys(['huggingface', 'models', 'spaces'])",
     "output_type": "error",
     "traceback": [
      "\u001b[1;31m---------------------------------------------------------------------------\u001b[0m",
      "\u001b[1;31mValueError\u001b[0m                                Traceback (most recent call last)",
      "Cell \u001b[1;32mIn[3], line 1\u001b[0m\n\u001b[1;32m----> 1\u001b[0m demo \u001b[38;5;241m=\u001b[39m \u001b[43mgr\u001b[49m\u001b[38;5;241;43m.\u001b[39;49m\u001b[43mload\u001b[49m\u001b[43m(\u001b[49m\u001b[38;5;124;43m'\u001b[39;49m\u001b[38;5;124;43mHelsinki-NLP/opus-mt-ko-en\u001b[39;49m\u001b[38;5;124;43m\"\u001b[39;49m\u001b[38;5;124;43m, src=\u001b[39;49m\u001b[38;5;124;43m\"\u001b[39;49m\u001b[38;5;124;43mmodels\u001b[39;49m\u001b[38;5;124;43m'\u001b[39;49m\u001b[43m)\u001b[49m\n\u001b[0;32m      3\u001b[0m demo\u001b[38;5;241m.\u001b[39mlaunch()\n",
      "File \u001b[1;32m~\\anaconda3\\envs\\ml-practice\\lib\\site-packages\\gradio\\external.py:60\u001b[0m, in \u001b[0;36mload\u001b[1;34m(name, src, hf_token, alias, **kwargs)\u001b[0m\n\u001b[0;32m     36\u001b[0m \u001b[38;5;129m@document\u001b[39m()\n\u001b[0;32m     37\u001b[0m \u001b[38;5;28;01mdef\u001b[39;00m \u001b[38;5;21mload\u001b[39m(\n\u001b[0;32m     38\u001b[0m     name: \u001b[38;5;28mstr\u001b[39m,\n\u001b[1;32m   (...)\u001b[0m\n\u001b[0;32m     42\u001b[0m     \u001b[38;5;241m*\u001b[39m\u001b[38;5;241m*\u001b[39mkwargs,\n\u001b[0;32m     43\u001b[0m ) \u001b[38;5;241m-\u001b[39m\u001b[38;5;241m>\u001b[39m Blocks:\n\u001b[0;32m     44\u001b[0m \u001b[38;5;250m    \u001b[39m\u001b[38;5;124;03m\"\"\"\u001b[39;00m\n\u001b[0;32m     45\u001b[0m \u001b[38;5;124;03m    Constructs a demo from a Hugging Face repo. Can accept model repos (if src is \"models\") or Space repos (if src is \"spaces\"). The input\u001b[39;00m\n\u001b[0;32m     46\u001b[0m \u001b[38;5;124;03m    and output components are automatically loaded from the repo. Note that if a Space is loaded, certain high-level attributes of the Blocks (e.g.\u001b[39;00m\n\u001b[1;32m   (...)\u001b[0m\n\u001b[0;32m     58\u001b[0m \u001b[38;5;124;03m        demo.launch()\u001b[39;00m\n\u001b[0;32m     59\u001b[0m \u001b[38;5;124;03m    \"\"\"\u001b[39;00m\n\u001b[1;32m---> 60\u001b[0m     \u001b[38;5;28;01mreturn\u001b[39;00m load_blocks_from_repo(\n\u001b[0;32m     61\u001b[0m         name\u001b[38;5;241m=\u001b[39mname, src\u001b[38;5;241m=\u001b[39msrc, hf_token\u001b[38;5;241m=\u001b[39mhf_token, alias\u001b[38;5;241m=\u001b[39malias, \u001b[38;5;241m*\u001b[39m\u001b[38;5;241m*\u001b[39mkwargs\n\u001b[0;32m     62\u001b[0m     )\n",
      "File \u001b[1;32m~\\anaconda3\\envs\\ml-practice\\lib\\site-packages\\gradio\\external.py:90\u001b[0m, in \u001b[0;36mload_blocks_from_repo\u001b[1;34m(name, src, hf_token, alias, **kwargs)\u001b[0m\n\u001b[0;32m     83\u001b[0m factory_methods: \u001b[38;5;28mdict\u001b[39m[\u001b[38;5;28mstr\u001b[39m, Callable] \u001b[38;5;241m=\u001b[39m {\n\u001b[0;32m     84\u001b[0m     \u001b[38;5;66;03m# for each repo type, we have a method that returns the Interface given the model name & optionally an hf_token\u001b[39;00m\n\u001b[0;32m     85\u001b[0m     \u001b[38;5;124m\"\u001b[39m\u001b[38;5;124mhuggingface\u001b[39m\u001b[38;5;124m\"\u001b[39m: from_model,\n\u001b[0;32m     86\u001b[0m     \u001b[38;5;124m\"\u001b[39m\u001b[38;5;124mmodels\u001b[39m\u001b[38;5;124m\"\u001b[39m: from_model,\n\u001b[0;32m     87\u001b[0m     \u001b[38;5;124m\"\u001b[39m\u001b[38;5;124mspaces\u001b[39m\u001b[38;5;124m\"\u001b[39m: from_spaces,\n\u001b[0;32m     88\u001b[0m }\n\u001b[0;32m     89\u001b[0m \u001b[38;5;28;01mif\u001b[39;00m src\u001b[38;5;241m.\u001b[39mlower() \u001b[38;5;129;01mnot\u001b[39;00m \u001b[38;5;129;01min\u001b[39;00m factory_methods:\n\u001b[1;32m---> 90\u001b[0m     \u001b[38;5;28;01mraise\u001b[39;00m \u001b[38;5;167;01mValueError\u001b[39;00m(\u001b[38;5;124mf\u001b[39m\u001b[38;5;124m\"\u001b[39m\u001b[38;5;124mparameter: src must be one of \u001b[39m\u001b[38;5;132;01m{\u001b[39;00mfactory_methods\u001b[38;5;241m.\u001b[39mkeys()\u001b[38;5;132;01m}\u001b[39;00m\u001b[38;5;124m\"\u001b[39m)\n\u001b[0;32m     92\u001b[0m \u001b[38;5;28;01mif\u001b[39;00m hf_token \u001b[38;5;129;01mis\u001b[39;00m \u001b[38;5;129;01mnot\u001b[39;00m \u001b[38;5;28;01mNone\u001b[39;00m:\n\u001b[0;32m     93\u001b[0m     \u001b[38;5;28;01mif\u001b[39;00m Context\u001b[38;5;241m.\u001b[39mhf_token \u001b[38;5;129;01mis\u001b[39;00m \u001b[38;5;129;01mnot\u001b[39;00m \u001b[38;5;28;01mNone\u001b[39;00m \u001b[38;5;129;01mand\u001b[39;00m Context\u001b[38;5;241m.\u001b[39mhf_token \u001b[38;5;241m!=\u001b[39m hf_token:\n",
      "\u001b[1;31mValueError\u001b[0m: parameter: src must be one of dict_keys(['huggingface', 'models', 'spaces'])"
     ]
    }
   ],
   "source": [
    "demo = gr.load('Helsinki-NLP/opus-mt-ko-en\", src=\"models')\n",
    "\n",
    "demo.launch()"
   ]
  },
  {
   "cell_type": "markdown",
   "id": "083e8823-6347-4a11-94b6-4729bc0b924f",
   "metadata": {},
   "source": [
    "# 텍스트 생성 - Text_generation"
   ]
  },
  {
   "cell_type": "code",
   "execution_count": 4,
   "id": "86323d64-99c5-4010-a15d-50d6a888cf13",
   "metadata": {},
   "outputs": [
    {
     "data": {
      "text/plain": [
       "'4.42.3'"
      ]
     },
     "execution_count": 4,
     "metadata": {},
     "output_type": "execute_result"
    }
   ],
   "source": [
    "import transformers\n",
    "\n",
    "transformers.__version__"
   ]
  },
  {
   "cell_type": "code",
   "execution_count": 5,
   "id": "c911c128-527f-4dd2-88e2-776d2b3101d5",
   "metadata": {},
   "outputs": [
    {
     "name": "stderr",
     "output_type": "stream",
     "text": [
      "No model was supplied, defaulted to openai-community/gpt2 and revision 6c0e608 (https://huggingface.co/openai-community/gpt2).\n",
      "Using a pipeline without specifying a model name and revision in production is not recommended.\n"
     ]
    },
    {
     "data": {
      "application/vnd.jupyter.widget-view+json": {
       "model_id": "bcbf7db9d8d34f3d95dde7c07f11665f",
       "version_major": 2,
       "version_minor": 0
      },
      "text/plain": [
       "config.json:   0%|          | 0.00/665 [00:00<?, ?B/s]"
      ]
     },
     "metadata": {},
     "output_type": "display_data"
    },
    {
     "name": "stderr",
     "output_type": "stream",
     "text": [
      "C:\\Users\\tjdtn\\anaconda3\\envs\\ml-practice\\lib\\site-packages\\huggingface_hub\\file_download.py:157: UserWarning: `huggingface_hub` cache-system uses symlinks by default to efficiently store duplicated files but your machine does not support them in C:\\Users\\tjdtn\\.cache\\huggingface\\hub\\models--openai-community--gpt2. Caching files will still work but in a degraded version that might require more space on your disk. This warning can be disabled by setting the `HF_HUB_DISABLE_SYMLINKS_WARNING` environment variable. For more details, see https://huggingface.co/docs/huggingface_hub/how-to-cache#limitations.\n",
      "To support symlinks on Windows, you either need to activate Developer Mode or to run Python as an administrator. In order to see activate developer mode, see this article: https://docs.microsoft.com/en-us/windows/apps/get-started/enable-your-device-for-development\n",
      "  warnings.warn(message)\n"
     ]
    },
    {
     "name": "stdout",
     "output_type": "stream",
     "text": [
      "WARNING:tensorflow:From C:\\Users\\tjdtn\\anaconda3\\envs\\ml-practice\\lib\\site-packages\\tf_keras\\src\\losses.py:2976: The name tf.losses.sparse_softmax_cross_entropy is deprecated. Please use tf.compat.v1.losses.sparse_softmax_cross_entropy instead.\n",
      "\n"
     ]
    },
    {
     "data": {
      "application/vnd.jupyter.widget-view+json": {
       "model_id": "e7fe45f5c7ee4cef949f92061247a52f",
       "version_major": 2,
       "version_minor": 0
      },
      "text/plain": [
       "model.safetensors:   0%|          | 0.00/548M [00:00<?, ?B/s]"
      ]
     },
     "metadata": {},
     "output_type": "display_data"
    },
    {
     "name": "stdout",
     "output_type": "stream",
     "text": [
      "WARNING:tensorflow:From C:\\Users\\tjdtn\\anaconda3\\envs\\ml-practice\\lib\\site-packages\\tf_keras\\src\\backend.py:873: The name tf.get_default_graph is deprecated. Please use tf.compat.v1.get_default_graph instead.\n",
      "\n"
     ]
    },
    {
     "name": "stderr",
     "output_type": "stream",
     "text": [
      "All PyTorch model weights were used when initializing TFGPT2LMHeadModel.\n",
      "\n",
      "All the weights of TFGPT2LMHeadModel were initialized from the PyTorch model.\n",
      "If your task is similar to the task the model of the checkpoint was trained on, you can already use TFGPT2LMHeadModel for predictions without further training.\n"
     ]
    },
    {
     "data": {
      "application/vnd.jupyter.widget-view+json": {
       "model_id": "fd86fb48f3ba4dc3b616820fe916f29b",
       "version_major": 2,
       "version_minor": 0
      },
      "text/plain": [
       "tokenizer_config.json:   0%|          | 0.00/26.0 [00:00<?, ?B/s]"
      ]
     },
     "metadata": {},
     "output_type": "display_data"
    },
    {
     "data": {
      "application/vnd.jupyter.widget-view+json": {
       "model_id": "868f35caea414cad9b32c2238979af97",
       "version_major": 2,
       "version_minor": 0
      },
      "text/plain": [
       "vocab.json:   0%|          | 0.00/1.04M [00:00<?, ?B/s]"
      ]
     },
     "metadata": {},
     "output_type": "display_data"
    },
    {
     "data": {
      "application/vnd.jupyter.widget-view+json": {
       "model_id": "1cc4909b045e4804bcb31118ab03c825",
       "version_major": 2,
       "version_minor": 0
      },
      "text/plain": [
       "merges.txt:   0%|          | 0.00/456k [00:00<?, ?B/s]"
      ]
     },
     "metadata": {},
     "output_type": "display_data"
    },
    {
     "data": {
      "application/vnd.jupyter.widget-view+json": {
       "model_id": "e5281a670c5446c0ab6f53c456268b20",
       "version_major": 2,
       "version_minor": 0
      },
      "text/plain": [
       "tokenizer.json:   0%|          | 0.00/1.36M [00:00<?, ?B/s]"
      ]
     },
     "metadata": {},
     "output_type": "display_data"
    },
    {
     "name": "stderr",
     "output_type": "stream",
     "text": [
      "Setting `pad_token_id` to `eos_token_id`:50256 for open-end generation.\n"
     ]
    },
    {
     "data": {
      "text/plain": [
       "[{'generated_text': 'In this course, I will teach you how to use the Linux platform for the Raspberry Pi without the need for proprietary hardware.\\n\\nWhat is a Raspberry Pi?\\n\\nThere are several ways to make a Raspberry Pi (or other computer intended for'}]"
      ]
     },
     "execution_count": 5,
     "metadata": {},
     "output_type": "execute_result"
    }
   ],
   "source": [
    "# 가져다 쓰는 방법\n",
    "# 하지만, 튜닝, 전처리 등 조작이 가능해야 함. (여러 지식을 가지고 있어야 함.)\n",
    "from transformers import pipeline\n",
    "\n",
    "generator = pipeline('text-generation')\n",
    "generator('In this course, I will teach you how to')"
   ]
  },
  {
   "cell_type": "markdown",
   "id": "519f00d5-35be-423c-bd14-29400cdee46d",
   "metadata": {},
   "source": [
    "eos_token_id = end-of-sequence token id"
   ]
  },
  {
   "cell_type": "code",
   "execution_count": 6,
   "id": "095c7f68-5625-4443-84ee-1f490845f585",
   "metadata": {},
   "outputs": [
    {
     "name": "stderr",
     "output_type": "stream",
     "text": [
      "Truncation was not explicitly activated but `max_length` is provided a specific value, please use `truncation=True` to explicitly truncate examples to max length. Defaulting to 'longest_first' truncation strategy. If you encode pairs of sequences (GLUE-style) with the tokenizer you can select this strategy more precisely by providing a specific strategy to `truncation`.\n",
      "Setting `pad_token_id` to `eos_token_id`:50256 for open-end generation.\n"
     ]
    },
    {
     "data": {
      "text/plain": [
       "[{'generated_text': 'In this course, I will teach you how to play for your class each year, with an emphasis on our current state of the art in the technology'},\n",
       " {'generated_text': 'In this course, I will teach you how to create the most fun and fast paced web application you will ever play. I will provide you all with'},\n",
       " {'generated_text': 'In this course, I will teach you how to write simple programming principles:\\n\\n1. Create a simple model\\n\\nOur basic assumption is that'},\n",
       " {'generated_text': 'In this course, I will teach you how to create effective and profitable marketing campaigns. With that in mind, you will learn new things about marketing that'}]"
      ]
     },
     "execution_count": 6,
     "metadata": {},
     "output_type": "execute_result"
    }
   ],
   "source": [
    "generator('In this course, I will teach you how to', max_length=30, num_return_sequences=4)\n",
    "# max_length : 같은 말을 반복하지 않도록 글자수 제한\n",
    "# num_return_sequence : 반복할 문장"
   ]
  },
  {
   "cell_type": "markdown",
   "id": "b2cec12f-99b6-4c6b-889c-92a1caf33203",
   "metadata": {},
   "source": [
    "## 감정 분석"
   ]
  },
  {
   "cell_type": "code",
   "execution_count": 7,
   "id": "76f48e2d-3064-4273-8fd5-bd085c4ace80",
   "metadata": {},
   "outputs": [
    {
     "name": "stderr",
     "output_type": "stream",
     "text": [
      "No model was supplied, defaulted to distilbert/distilbert-base-uncased-finetuned-sst-2-english and revision af0f99b (https://huggingface.co/distilbert/distilbert-base-uncased-finetuned-sst-2-english).\n",
      "Using a pipeline without specifying a model name and revision in production is not recommended.\n"
     ]
    },
    {
     "data": {
      "application/vnd.jupyter.widget-view+json": {
       "model_id": "efaf010902ea4bb69c7770a0b1576a26",
       "version_major": 2,
       "version_minor": 0
      },
      "text/plain": [
       "config.json:   0%|          | 0.00/629 [00:00<?, ?B/s]"
      ]
     },
     "metadata": {},
     "output_type": "display_data"
    },
    {
     "name": "stderr",
     "output_type": "stream",
     "text": [
      "C:\\Users\\tjdtn\\anaconda3\\envs\\ml-practice\\lib\\site-packages\\huggingface_hub\\file_download.py:157: UserWarning: `huggingface_hub` cache-system uses symlinks by default to efficiently store duplicated files but your machine does not support them in C:\\Users\\tjdtn\\.cache\\huggingface\\hub\\models--distilbert--distilbert-base-uncased-finetuned-sst-2-english. Caching files will still work but in a degraded version that might require more space on your disk. This warning can be disabled by setting the `HF_HUB_DISABLE_SYMLINKS_WARNING` environment variable. For more details, see https://huggingface.co/docs/huggingface_hub/how-to-cache#limitations.\n",
      "To support symlinks on Windows, you either need to activate Developer Mode or to run Python as an administrator. In order to see activate developer mode, see this article: https://docs.microsoft.com/en-us/windows/apps/get-started/enable-your-device-for-development\n",
      "  warnings.warn(message)\n"
     ]
    },
    {
     "data": {
      "application/vnd.jupyter.widget-view+json": {
       "model_id": "58a3ba27c58f4e73bcda8675c5004259",
       "version_major": 2,
       "version_minor": 0
      },
      "text/plain": [
       "model.safetensors:   0%|          | 0.00/268M [00:00<?, ?B/s]"
      ]
     },
     "metadata": {},
     "output_type": "display_data"
    },
    {
     "name": "stderr",
     "output_type": "stream",
     "text": [
      "All PyTorch model weights were used when initializing TFDistilBertForSequenceClassification.\n",
      "\n",
      "All the weights of TFDistilBertForSequenceClassification were initialized from the PyTorch model.\n",
      "If your task is similar to the task the model of the checkpoint was trained on, you can already use TFDistilBertForSequenceClassification for predictions without further training.\n"
     ]
    },
    {
     "data": {
      "application/vnd.jupyter.widget-view+json": {
       "model_id": "91f131f554d44c768ec5eba2494fe5cc",
       "version_major": 2,
       "version_minor": 0
      },
      "text/plain": [
       "tokenizer_config.json:   0%|          | 0.00/48.0 [00:00<?, ?B/s]"
      ]
     },
     "metadata": {},
     "output_type": "display_data"
    },
    {
     "data": {
      "application/vnd.jupyter.widget-view+json": {
       "model_id": "68aa4e9a3e134fd597ccf2c03031c11e",
       "version_major": 2,
       "version_minor": 0
      },
      "text/plain": [
       "vocab.txt:   0%|          | 0.00/232k [00:00<?, ?B/s]"
      ]
     },
     "metadata": {},
     "output_type": "display_data"
    },
    {
     "data": {
      "text/plain": [
       "[{'label': 'POSITIVE', 'score': 0.9598047137260437},\n",
       " {'label': 'NEGATIVE', 'score': 0.9995144605636597}]"
      ]
     },
     "execution_count": 7,
     "metadata": {},
     "output_type": "execute_result"
    }
   ],
   "source": [
    "from transformers import pipeline\n",
    "\n",
    "# 분류기 설정\n",
    "classifier = pipeline('sentiment-analysis')\n",
    "classifier(\n",
    "    [\"I've been waiting for a Huggingface course my whole life.\", \"I hate this so much\"]\n",
    ")"
   ]
  },
  {
   "cell_type": "markdown",
   "id": "ab4cf7cc-3cfa-47f2-a9c6-c27560468606",
   "metadata": {},
   "source": [
    "# Gradio로 감정분석 서비스 만들기"
   ]
  },
  {
   "cell_type": "code",
   "execution_count": 11,
   "id": "c229edbd-0901-4f65-a477-ef8aa0b0272a",
   "metadata": {},
   "outputs": [
    {
     "name": "stderr",
     "output_type": "stream",
     "text": [
      "No model was supplied, defaulted to distilbert/distilbert-base-uncased-finetuned-sst-2-english and revision af0f99b (https://huggingface.co/distilbert/distilbert-base-uncased-finetuned-sst-2-english).\n",
      "Using a pipeline without specifying a model name and revision in production is not recommended.\n",
      "All PyTorch model weights were used when initializing TFDistilBertForSequenceClassification.\n",
      "\n",
      "All the weights of TFDistilBertForSequenceClassification were initialized from the PyTorch model.\n",
      "If your task is similar to the task the model of the checkpoint was trained on, you can already use TFDistilBertForSequenceClassification for predictions without further training.\n"
     ]
    },
    {
     "name": "stdout",
     "output_type": "stream",
     "text": [
      "Running on local URL:  http://127.0.0.1:7860\n",
      "Running on public URL: https://22b1fe76a009582408.gradio.live\n",
      "\n",
      "This share link expires in 72 hours. For free permanent hosting and GPU upgrades, run `gradio deploy` from Terminal to deploy to Spaces (https://huggingface.co/spaces)\n"
     ]
    },
    {
     "data": {
      "text/html": [
       "<div><iframe src=\"https://22b1fe76a009582408.gradio.live\" width=\"100%\" height=\"500\" allow=\"autoplay; camera; microphone; clipboard-read; clipboard-write;\" frameborder=\"0\" allowfullscreen></iframe></div>"
      ],
      "text/plain": [
       "<IPython.core.display.HTML object>"
      ]
     },
     "metadata": {},
     "output_type": "display_data"
    },
    {
     "data": {
      "text/plain": []
     },
     "execution_count": 11,
     "metadata": {},
     "output_type": "execute_result"
    }
   ],
   "source": [
    "from transformers import pipeline\n",
    "import gradio as gr\n",
    "\n",
    "# 분류기 생성\n",
    "classifier = pipeline('sentiment-analysis')\n",
    "\n",
    "def sentiment_analysis(text):\n",
    "    # 감성분석 분류기에 text 넣기\n",
    "    result = classifier(text)\n",
    "    return result[0]['label'] # label 값만 출력\n",
    "\n",
    "# 테스트로 작동시켜보기\n",
    "text = 'I like you.'\n",
    "sentiment_analysis(text)\n",
    "\n",
    "# Gradio interface 설정\n",
    "iface = \\\n",
    "gr.Interface(\n",
    "    fn=sentiment_analysis, # 어떤 함수 쓸거야?\n",
    "    inputs=gr.Textbox(), # 입력받고 싶은거는?\n",
    "    outputs=gr.Textbox(), # 출력을 원하는 것은?\n",
    "    examples=['I love you!', 'I hate this.'] # 가이드\n",
    ")\n",
    "\n",
    "# 실행\n",
    "iface.launch(share=True)"
   ]
  },
  {
   "cell_type": "code",
   "execution_count": 14,
   "id": "0c7c6b24-ca47-4191-947c-f2b09ba3a295",
   "metadata": {},
   "outputs": [
    {
     "name": "stderr",
     "output_type": "stream",
     "text": [
      "No model was supplied, defaulted to distilbert/distilbert-base-uncased-finetuned-sst-2-english and revision af0f99b (https://huggingface.co/distilbert/distilbert-base-uncased-finetuned-sst-2-english).\n",
      "Using a pipeline without specifying a model name and revision in production is not recommended.\n",
      "All PyTorch model weights were used when initializing TFDistilBertForSequenceClassification.\n",
      "\n",
      "All the weights of TFDistilBertForSequenceClassification were initialized from the PyTorch model.\n",
      "If your task is similar to the task the model of the checkpoint was trained on, you can already use TFDistilBertForSequenceClassification for predictions without further training.\n"
     ]
    },
    {
     "name": "stdout",
     "output_type": "stream",
     "text": [
      "Running on local URL:  http://127.0.0.1:7863\n",
      "Running on public URL: https://024e178aff3645c0c6.gradio.live\n",
      "\n",
      "This share link expires in 72 hours. For free permanent hosting and GPU upgrades, run `gradio deploy` from Terminal to deploy to Spaces (https://huggingface.co/spaces)\n"
     ]
    },
    {
     "data": {
      "text/html": [
       "<div><iframe src=\"https://024e178aff3645c0c6.gradio.live\" width=\"100%\" height=\"500\" allow=\"autoplay; camera; microphone; clipboard-read; clipboard-write;\" frameborder=\"0\" allowfullscreen></iframe></div>"
      ],
      "text/plain": [
       "<IPython.core.display.HTML object>"
      ]
     },
     "metadata": {},
     "output_type": "display_data"
    },
    {
     "data": {
      "text/plain": []
     },
     "execution_count": 14,
     "metadata": {},
     "output_type": "execute_result"
    }
   ],
   "source": [
    "# 분류기 생성\n",
    "classifier = pipeline('sentiment-analysis')\n",
    "\n",
    "def sentiment_analysis(text):\n",
    "    # 감성분석 분류기에 text 넣기\n",
    "    result = classifier(text)\n",
    "    return {'label' : result[0]['label']} # label 값만 출력\n",
    "\n",
    "# 테스트로 작동시켜보기\n",
    "text = 'I like you.'\n",
    "sentiment_analysis(text)\n",
    "\n",
    "# Gradio interface 설정\n",
    "iface = \\\n",
    "gr.Interface(\n",
    "    fn=sentiment_analysis, # 어떤 함수 쓸거야?\n",
    "    inputs=gr.Textbox(label='Input Text'), # 입력받고 싶은거는?\n",
    "    outputs='json', # 출력을 원하는 것은? 이때, json 파일은 key:value로 구성되어야 한다. 따라서 함수의 return 값이 key:value여야 한다.\n",
    "    examples=['I love you!', 'I hate this.'] # 가이드\n",
    ")\n",
    "\n",
    "# 실행\n",
    "iface.launch(share=True)"
   ]
  },
  {
   "cell_type": "markdown",
   "id": "8980113f-10ff-45ee-a060-88d3f3b023f0",
   "metadata": {},
   "source": [
    "# Zero-shot Classification"
   ]
  },
  {
   "cell_type": "code",
   "execution_count": 15,
   "id": "95858182-5841-4ad2-ab7d-1a46889bb40e",
   "metadata": {},
   "outputs": [
    {
     "name": "stderr",
     "output_type": "stream",
     "text": [
      "No model was supplied, defaulted to FacebookAI/roberta-large-mnli and revision 130fb28 (https://huggingface.co/FacebookAI/roberta-large-mnli).\n",
      "Using a pipeline without specifying a model name and revision in production is not recommended.\n"
     ]
    },
    {
     "data": {
      "application/vnd.jupyter.widget-view+json": {
       "model_id": "2230a3997c34441b9db2036d6506c4d8",
       "version_major": 2,
       "version_minor": 0
      },
      "text/plain": [
       "config.json:   0%|          | 0.00/688 [00:00<?, ?B/s]"
      ]
     },
     "metadata": {},
     "output_type": "display_data"
    },
    {
     "name": "stderr",
     "output_type": "stream",
     "text": [
      "C:\\Users\\tjdtn\\anaconda3\\envs\\ml-practice\\lib\\site-packages\\huggingface_hub\\file_download.py:157: UserWarning: `huggingface_hub` cache-system uses symlinks by default to efficiently store duplicated files but your machine does not support them in C:\\Users\\tjdtn\\.cache\\huggingface\\hub\\models--FacebookAI--roberta-large-mnli. Caching files will still work but in a degraded version that might require more space on your disk. This warning can be disabled by setting the `HF_HUB_DISABLE_SYMLINKS_WARNING` environment variable. For more details, see https://huggingface.co/docs/huggingface_hub/how-to-cache#limitations.\n",
      "To support symlinks on Windows, you either need to activate Developer Mode or to run Python as an administrator. In order to see activate developer mode, see this article: https://docs.microsoft.com/en-us/windows/apps/get-started/enable-your-device-for-development\n",
      "  warnings.warn(message)\n"
     ]
    },
    {
     "data": {
      "application/vnd.jupyter.widget-view+json": {
       "model_id": "cbf5981746a54bb2a8503cb013152ee1",
       "version_major": 2,
       "version_minor": 0
      },
      "text/plain": [
       "model.safetensors:   0%|          | 0.00/1.43G [00:00<?, ?B/s]"
      ]
     },
     "metadata": {},
     "output_type": "display_data"
    },
    {
     "name": "stderr",
     "output_type": "stream",
     "text": [
      "All PyTorch model weights were used when initializing TFRobertaForSequenceClassification.\n",
      "\n",
      "All the weights of TFRobertaForSequenceClassification were initialized from the PyTorch model.\n",
      "If your task is similar to the task the model of the checkpoint was trained on, you can already use TFRobertaForSequenceClassification for predictions without further training.\n"
     ]
    },
    {
     "data": {
      "application/vnd.jupyter.widget-view+json": {
       "model_id": "0696f98c5fae499e8db3b7ec29f5d0ea",
       "version_major": 2,
       "version_minor": 0
      },
      "text/plain": [
       "tokenizer_config.json:   0%|          | 0.00/25.0 [00:00<?, ?B/s]"
      ]
     },
     "metadata": {},
     "output_type": "display_data"
    },
    {
     "data": {
      "application/vnd.jupyter.widget-view+json": {
       "model_id": "972abd38905048bcab4b1f6d26ed7d02",
       "version_major": 2,
       "version_minor": 0
      },
      "text/plain": [
       "vocab.json:   0%|          | 0.00/899k [00:00<?, ?B/s]"
      ]
     },
     "metadata": {},
     "output_type": "display_data"
    },
    {
     "data": {
      "application/vnd.jupyter.widget-view+json": {
       "model_id": "6eaa25f530774e5e8ebb5efdd03ad659",
       "version_major": 2,
       "version_minor": 0
      },
      "text/plain": [
       "merges.txt:   0%|          | 0.00/456k [00:00<?, ?B/s]"
      ]
     },
     "metadata": {},
     "output_type": "display_data"
    },
    {
     "data": {
      "application/vnd.jupyter.widget-view+json": {
       "model_id": "61fb5b1945594e759c0e5122c0498469",
       "version_major": 2,
       "version_minor": 0
      },
      "text/plain": [
       "tokenizer.json:   0%|          | 0.00/1.36M [00:00<?, ?B/s]"
      ]
     },
     "metadata": {},
     "output_type": "display_data"
    },
    {
     "data": {
      "text/plain": [
       "{'sequence': 'This is a course about the generative AI library.',\n",
       " 'labels': ['education', 'business', 'politics'],\n",
       " 'scores': [0.9647448062896729, 0.018893789499998093, 0.016361359506845474]}"
      ]
     },
     "execution_count": 15,
     "metadata": {},
     "output_type": "execute_result"
    }
   ],
   "source": [
    "from transformers import pipeline\n",
    "\n",
    "classifier = pipeline('zero-shot-classification')\n",
    "\n",
    "classifier(\n",
    "    'This is a course about the generative AI library.',\n",
    "    candidate_labels=['education', 'politics', 'business']\n",
    ")\n",
    "\n",
    "# 작성한 문장이 candidate_labels의 요소에 해당되는 비율이 얼마나 되는지 알려준다."
   ]
  },
  {
   "cell_type": "code",
   "execution_count": 16,
   "id": "4bf7fbbc-3d35-4aed-be08-6311cf665dee",
   "metadata": {
    "scrolled": true
   },
   "outputs": [
    {
     "name": "stderr",
     "output_type": "stream",
     "text": [
      "No model was supplied, defaulted to FacebookAI/roberta-large-mnli and revision 130fb28 (https://huggingface.co/FacebookAI/roberta-large-mnli).\n",
      "Using a pipeline without specifying a model name and revision in production is not recommended.\n",
      "All PyTorch model weights were used when initializing TFRobertaForSequenceClassification.\n",
      "\n",
      "All the weights of TFRobertaForSequenceClassification were initialized from the PyTorch model.\n",
      "If your task is similar to the task the model of the checkpoint was trained on, you can already use TFRobertaForSequenceClassification for predictions without further training.\n"
     ]
    },
    {
     "name": "stdout",
     "output_type": "stream",
     "text": [
      "Running on local URL:  http://127.0.0.1:7864\n",
      "Running on public URL: https://bf2b0bb4eb3c911da8.gradio.live\n",
      "\n",
      "This share link expires in 72 hours. For free permanent hosting and GPU upgrades, run `gradio deploy` from Terminal to deploy to Spaces (https://huggingface.co/spaces)\n"
     ]
    },
    {
     "data": {
      "text/html": [
       "<div><iframe src=\"https://bf2b0bb4eb3c911da8.gradio.live\" width=\"100%\" height=\"500\" allow=\"autoplay; camera; microphone; clipboard-read; clipboard-write;\" frameborder=\"0\" allowfullscreen></iframe></div>"
      ],
      "text/plain": [
       "<IPython.core.display.HTML object>"
      ]
     },
     "metadata": {},
     "output_type": "display_data"
    },
    {
     "data": {
      "text/plain": []
     },
     "execution_count": 16,
     "metadata": {},
     "output_type": "execute_result"
    },
    {
     "name": "stderr",
     "output_type": "stream",
     "text": [
      "Traceback (most recent call last):\n",
      "  File \"C:\\Users\\tjdtn\\anaconda3\\envs\\ml-practice\\lib\\site-packages\\gradio\\queueing.py\", line 541, in process_events\n",
      "    response = await route_utils.call_process_api(\n",
      "  File \"C:\\Users\\tjdtn\\anaconda3\\envs\\ml-practice\\lib\\site-packages\\gradio\\route_utils.py\", line 276, in call_process_api\n",
      "    output = await app.get_blocks().process_api(\n",
      "  File \"C:\\Users\\tjdtn\\anaconda3\\envs\\ml-practice\\lib\\site-packages\\gradio\\blocks.py\", line 1928, in process_api\n",
      "    result = await self.call_function(\n",
      "  File \"C:\\Users\\tjdtn\\anaconda3\\envs\\ml-practice\\lib\\site-packages\\gradio\\blocks.py\", line 1514, in call_function\n",
      "    prediction = await anyio.to_thread.run_sync(\n",
      "  File \"C:\\Users\\tjdtn\\anaconda3\\envs\\ml-practice\\lib\\site-packages\\anyio\\to_thread.py\", line 56, in run_sync\n",
      "    return await get_async_backend().run_sync_in_worker_thread(\n",
      "  File \"C:\\Users\\tjdtn\\anaconda3\\envs\\ml-practice\\lib\\site-packages\\anyio\\_backends\\_asyncio.py\", line 2177, in run_sync_in_worker_thread\n",
      "    return await future\n",
      "  File \"C:\\Users\\tjdtn\\anaconda3\\envs\\ml-practice\\lib\\site-packages\\anyio\\_backends\\_asyncio.py\", line 859, in run\n",
      "    result = context.run(func, *args)\n",
      "  File \"C:\\Users\\tjdtn\\anaconda3\\envs\\ml-practice\\lib\\site-packages\\gradio\\utils.py\", line 833, in wrapper\n",
      "    response = f(*args, **kwargs)\n",
      "  File \"C:\\Users\\tjdtn\\AppData\\Local\\Temp\\ipykernel_14288\\1424429120.py\", line 16, in classify_text\n",
      "    result_dic[result['labels'][i]] = result['score'][i]\n",
      "KeyError: 'score'\n",
      "Traceback (most recent call last):\n",
      "  File \"C:\\Users\\tjdtn\\anaconda3\\envs\\ml-practice\\lib\\site-packages\\gradio\\queueing.py\", line 541, in process_events\n",
      "    response = await route_utils.call_process_api(\n",
      "  File \"C:\\Users\\tjdtn\\anaconda3\\envs\\ml-practice\\lib\\site-packages\\gradio\\route_utils.py\", line 276, in call_process_api\n",
      "    output = await app.get_blocks().process_api(\n",
      "  File \"C:\\Users\\tjdtn\\anaconda3\\envs\\ml-practice\\lib\\site-packages\\gradio\\blocks.py\", line 1928, in process_api\n",
      "    result = await self.call_function(\n",
      "  File \"C:\\Users\\tjdtn\\anaconda3\\envs\\ml-practice\\lib\\site-packages\\gradio\\blocks.py\", line 1514, in call_function\n",
      "    prediction = await anyio.to_thread.run_sync(\n",
      "  File \"C:\\Users\\tjdtn\\anaconda3\\envs\\ml-practice\\lib\\site-packages\\anyio\\to_thread.py\", line 56, in run_sync\n",
      "    return await get_async_backend().run_sync_in_worker_thread(\n",
      "  File \"C:\\Users\\tjdtn\\anaconda3\\envs\\ml-practice\\lib\\site-packages\\anyio\\_backends\\_asyncio.py\", line 2177, in run_sync_in_worker_thread\n",
      "    return await future\n",
      "  File \"C:\\Users\\tjdtn\\anaconda3\\envs\\ml-practice\\lib\\site-packages\\anyio\\_backends\\_asyncio.py\", line 859, in run\n",
      "    result = context.run(func, *args)\n",
      "  File \"C:\\Users\\tjdtn\\anaconda3\\envs\\ml-practice\\lib\\site-packages\\gradio\\utils.py\", line 833, in wrapper\n",
      "    response = f(*args, **kwargs)\n",
      "  File \"C:\\Users\\tjdtn\\AppData\\Local\\Temp\\ipykernel_14288\\1424429120.py\", line 16, in classify_text\n",
      "    result_dic[result['labels'][i]] = result['score'][i]\n",
      "KeyError: 'score'\n",
      "Traceback (most recent call last):\n",
      "  File \"C:\\Users\\tjdtn\\anaconda3\\envs\\ml-practice\\lib\\site-packages\\gradio\\queueing.py\", line 541, in process_events\n",
      "    response = await route_utils.call_process_api(\n",
      "  File \"C:\\Users\\tjdtn\\anaconda3\\envs\\ml-practice\\lib\\site-packages\\gradio\\route_utils.py\", line 276, in call_process_api\n",
      "    output = await app.get_blocks().process_api(\n",
      "  File \"C:\\Users\\tjdtn\\anaconda3\\envs\\ml-practice\\lib\\site-packages\\gradio\\blocks.py\", line 1928, in process_api\n",
      "    result = await self.call_function(\n",
      "  File \"C:\\Users\\tjdtn\\anaconda3\\envs\\ml-practice\\lib\\site-packages\\gradio\\blocks.py\", line 1514, in call_function\n",
      "    prediction = await anyio.to_thread.run_sync(\n",
      "  File \"C:\\Users\\tjdtn\\anaconda3\\envs\\ml-practice\\lib\\site-packages\\anyio\\to_thread.py\", line 56, in run_sync\n",
      "    return await get_async_backend().run_sync_in_worker_thread(\n",
      "  File \"C:\\Users\\tjdtn\\anaconda3\\envs\\ml-practice\\lib\\site-packages\\anyio\\_backends\\_asyncio.py\", line 2177, in run_sync_in_worker_thread\n",
      "    return await future\n",
      "  File \"C:\\Users\\tjdtn\\anaconda3\\envs\\ml-practice\\lib\\site-packages\\anyio\\_backends\\_asyncio.py\", line 859, in run\n",
      "    result = context.run(func, *args)\n",
      "  File \"C:\\Users\\tjdtn\\anaconda3\\envs\\ml-practice\\lib\\site-packages\\gradio\\utils.py\", line 833, in wrapper\n",
      "    response = f(*args, **kwargs)\n",
      "  File \"C:\\Users\\tjdtn\\AppData\\Local\\Temp\\ipykernel_14288\\1424429120.py\", line 16, in classify_text\n",
      "    result_dic[result['labels'][i]] = result['score'][i]\n",
      "KeyError: 'score'\n",
      "Traceback (most recent call last):\n",
      "  File \"C:\\Users\\tjdtn\\anaconda3\\envs\\ml-practice\\lib\\site-packages\\gradio\\queueing.py\", line 541, in process_events\n",
      "    response = await route_utils.call_process_api(\n",
      "  File \"C:\\Users\\tjdtn\\anaconda3\\envs\\ml-practice\\lib\\site-packages\\gradio\\route_utils.py\", line 276, in call_process_api\n",
      "    output = await app.get_blocks().process_api(\n",
      "  File \"C:\\Users\\tjdtn\\anaconda3\\envs\\ml-practice\\lib\\site-packages\\gradio\\blocks.py\", line 1928, in process_api\n",
      "    result = await self.call_function(\n",
      "  File \"C:\\Users\\tjdtn\\anaconda3\\envs\\ml-practice\\lib\\site-packages\\gradio\\blocks.py\", line 1514, in call_function\n",
      "    prediction = await anyio.to_thread.run_sync(\n",
      "  File \"C:\\Users\\tjdtn\\anaconda3\\envs\\ml-practice\\lib\\site-packages\\anyio\\to_thread.py\", line 56, in run_sync\n",
      "    return await get_async_backend().run_sync_in_worker_thread(\n",
      "  File \"C:\\Users\\tjdtn\\anaconda3\\envs\\ml-practice\\lib\\site-packages\\anyio\\_backends\\_asyncio.py\", line 2177, in run_sync_in_worker_thread\n",
      "    return await future\n",
      "  File \"C:\\Users\\tjdtn\\anaconda3\\envs\\ml-practice\\lib\\site-packages\\anyio\\_backends\\_asyncio.py\", line 859, in run\n",
      "    result = context.run(func, *args)\n",
      "  File \"C:\\Users\\tjdtn\\anaconda3\\envs\\ml-practice\\lib\\site-packages\\gradio\\utils.py\", line 833, in wrapper\n",
      "    response = f(*args, **kwargs)\n",
      "  File \"C:\\Users\\tjdtn\\AppData\\Local\\Temp\\ipykernel_14288\\1424429120.py\", line 16, in classify_text\n",
      "    result_dic[result['labels'][i]] = result['score'][i]\n",
      "KeyError: 'score'\n"
     ]
    }
   ],
   "source": [
    "# Gradio 종합구현\n",
    "from transformers import pipeline\n",
    "import gradio as gr\n",
    "\n",
    "classifier = pipeline('zero-shot-classification')\n",
    "\n",
    "# 함수 정의\n",
    "def classify_text(text, labels): # 문장과 라벨 넣기\n",
    "    # 라벨은 ','로 분리\n",
    "    labels = labels.split(',')\n",
    "    result = classifier(text, candidate_labels=labels)\n",
    "    \n",
    "    # 결과 딕셔너리 생성\n",
    "    result_dic = {}\n",
    "    for i in range(len(result['labels'])):\n",
    "        result_dic[result['labels'][i]] = result['score'][i]\n",
    "        \n",
    "    return result_dic\n",
    "\n",
    "# 인터페이스 만들기\n",
    "iface = \\\n",
    "gr.Interface(\n",
    "    fn=classify_text,\n",
    "    inputs=[\n",
    "        gr.Textbox(label='Text to classify'),\n",
    "        gr.Textbox(label='Candidate Labels')\n",
    "    ],\n",
    "    outputs=gr.Label(label='Classification Results', num_top_classes=3),\n",
    ")\n",
    "\n",
    "iface.launch(share=True)"
   ]
  },
  {
   "cell_type": "markdown",
   "id": "b2279c96-cd4e-4b50-bb31-0b560ff5d326",
   "metadata": {},
   "source": [
    "# Mask filling - 빈칸 채우기"
   ]
  },
  {
   "cell_type": "code",
   "execution_count": 18,
   "id": "4fcc071a-37a9-4254-a833-d1ce14fcd7ba",
   "metadata": {},
   "outputs": [
    {
     "name": "stderr",
     "output_type": "stream",
     "text": [
      "No model was supplied, defaulted to distilbert/distilroberta-base and revision ec58a5b (https://huggingface.co/distilbert/distilroberta-base).\n",
      "Using a pipeline without specifying a model name and revision in production is not recommended.\n"
     ]
    },
    {
     "data": {
      "application/vnd.jupyter.widget-view+json": {
       "model_id": "dc81ef80f1224a9488b3301c3d62f249",
       "version_major": 2,
       "version_minor": 0
      },
      "text/plain": [
       "model.safetensors:  16%|#5        | 52.4M/331M [00:00<?, ?B/s]"
      ]
     },
     "metadata": {},
     "output_type": "display_data"
    },
    {
     "name": "stderr",
     "output_type": "stream",
     "text": [
      "All PyTorch model weights were used when initializing TFRobertaForMaskedLM.\n",
      "\n",
      "All the weights of TFRobertaForMaskedLM were initialized from the PyTorch model.\n",
      "If your task is similar to the task the model of the checkpoint was trained on, you can already use TFRobertaForMaskedLM for predictions without further training.\n"
     ]
    },
    {
     "data": {
      "application/vnd.jupyter.widget-view+json": {
       "model_id": "187988d82e9640edb2cea57ade78b98c",
       "version_major": 2,
       "version_minor": 0
      },
      "text/plain": [
       "tokenizer_config.json:   0%|          | 0.00/25.0 [00:00<?, ?B/s]"
      ]
     },
     "metadata": {},
     "output_type": "display_data"
    },
    {
     "data": {
      "application/vnd.jupyter.widget-view+json": {
       "model_id": "5de19caa0faa42f5bfc8378e50051f2d",
       "version_major": 2,
       "version_minor": 0
      },
      "text/plain": [
       "vocab.json:   0%|          | 0.00/899k [00:00<?, ?B/s]"
      ]
     },
     "metadata": {},
     "output_type": "display_data"
    },
    {
     "data": {
      "application/vnd.jupyter.widget-view+json": {
       "model_id": "3da9d07a6d6d4946ae8a776a733ec09c",
       "version_major": 2,
       "version_minor": 0
      },
      "text/plain": [
       "merges.txt:   0%|          | 0.00/456k [00:00<?, ?B/s]"
      ]
     },
     "metadata": {},
     "output_type": "display_data"
    },
    {
     "data": {
      "application/vnd.jupyter.widget-view+json": {
       "model_id": "444ec52bb9d44e5ab46754d7ef22ecb9",
       "version_major": 2,
       "version_minor": 0
      },
      "text/plain": [
       "tokenizer.json:   0%|          | 0.00/1.36M [00:00<?, ?B/s]"
      ]
     },
     "metadata": {},
     "output_type": "display_data"
    },
    {
     "data": {
      "text/plain": [
       "[{'score': 0.19619840383529663,\n",
       "  'token': 30412,\n",
       "  'token_str': ' mathematical',\n",
       "  'sequence': 'This course will teach you all about mathematical models.'},\n",
       " {'score': 0.04052715003490448,\n",
       "  'token': 38163,\n",
       "  'token_str': ' computational',\n",
       "  'sequence': 'This course will teach you all about computational models.'}]"
      ]
     },
     "execution_count": 18,
     "metadata": {},
     "output_type": "execute_result"
    }
   ],
   "source": [
    "from transformers import pipeline\n",
    "\n",
    "unmasker = pipeline('fill-mask')\n",
    "unmasker('This course will teach you all about <mask> models.', top_k=2)"
   ]
  },
  {
   "cell_type": "markdown",
   "id": "ba10106f-6dd5-45af-84b7-48433d6d44ff",
   "metadata": {},
   "source": [
    "# 개체명 NER : Named Entity Recognition"
   ]
  },
  {
   "cell_type": "code",
   "execution_count": 20,
   "id": "a217b10e-004c-4314-aa02-15ccfb25a28c",
   "metadata": {},
   "outputs": [
    {
     "name": "stderr",
     "output_type": "stream",
     "text": [
      "No model was supplied, defaulted to dbmdz/bert-large-cased-finetuned-conll03-english and revision f2482bf (https://huggingface.co/dbmdz/bert-large-cased-finetuned-conll03-english).\n",
      "Using a pipeline without specifying a model name and revision in production is not recommended.\n",
      "All PyTorch model weights were used when initializing TFBertForTokenClassification.\n",
      "\n",
      "All the weights of TFBertForTokenClassification were initialized from the PyTorch model.\n",
      "If your task is similar to the task the model of the checkpoint was trained on, you can already use TFBertForTokenClassification for predictions without further training.\n",
      "C:\\Users\\tjdtn\\anaconda3\\envs\\ml-practice\\lib\\site-packages\\transformers\\pipelines\\token_classification.py:168: UserWarning: `grouped_entities` is deprecated and will be removed in version v5.0.0, defaulted to `aggregation_strategy=\"simple\"` instead.\n",
      "  warnings.warn(\n"
     ]
    },
    {
     "data": {
      "text/plain": [
       "[{'entity_group': 'PER',\n",
       "  'score': 0.998374,\n",
       "  'word': 'Surin',\n",
       "  'start': 11,\n",
       "  'end': 16},\n",
       " {'entity_group': 'ORG',\n",
       "  'score': 0.98799634,\n",
       "  'word': 'MultiCampus',\n",
       "  'start': 32,\n",
       "  'end': 43},\n",
       " {'entity_group': 'LOC',\n",
       "  'score': 0.9975503,\n",
       "  'word': 'Seoul',\n",
       "  'start': 47,\n",
       "  'end': 52}]"
      ]
     },
     "execution_count": 20,
     "metadata": {},
     "output_type": "execute_result"
    }
   ],
   "source": [
    "from transformers import pipeline\n",
    "\n",
    "ner = pipeline('ner', grouped_entities=True)\n",
    "ner('My name is Surin and I study at MultiCampus in Seoul.')"
   ]
  },
  {
   "cell_type": "code",
   "execution_count": 23,
   "id": "99934f27-0bad-40af-8e3f-39db295857b7",
   "metadata": {},
   "outputs": [
    {
     "name": "stderr",
     "output_type": "stream",
     "text": [
      "No model was supplied, defaulted to dbmdz/bert-large-cased-finetuned-conll03-english and revision f2482bf (https://huggingface.co/dbmdz/bert-large-cased-finetuned-conll03-english).\n",
      "Using a pipeline without specifying a model name and revision in production is not recommended.\n",
      "All PyTorch model weights were used when initializing TFBertForTokenClassification.\n",
      "\n",
      "All the weights of TFBertForTokenClassification were initialized from the PyTorch model.\n",
      "If your task is similar to the task the model of the checkpoint was trained on, you can already use TFBertForTokenClassification for predictions without further training.\n",
      "C:\\Users\\tjdtn\\anaconda3\\envs\\ml-practice\\lib\\site-packages\\transformers\\pipelines\\token_classification.py:168: UserWarning: `grouped_entities` is deprecated and will be removed in version v5.0.0, defaulted to `aggregation_strategy=\"simple\"` instead.\n",
      "  warnings.warn(\n"
     ]
    },
    {
     "name": "stdout",
     "output_type": "stream",
     "text": [
      "Running on local URL:  http://127.0.0.1:7866\n",
      "Running on public URL: https://8ccf49434ad1df635e.gradio.live\n",
      "\n",
      "This share link expires in 72 hours. For free permanent hosting and GPU upgrades, run `gradio deploy` from Terminal to deploy to Spaces (https://huggingface.co/spaces)\n"
     ]
    },
    {
     "data": {
      "text/html": [
       "<div><iframe src=\"https://8ccf49434ad1df635e.gradio.live\" width=\"100%\" height=\"500\" allow=\"autoplay; camera; microphone; clipboard-read; clipboard-write;\" frameborder=\"0\" allowfullscreen></iframe></div>"
      ],
      "text/plain": [
       "<IPython.core.display.HTML object>"
      ]
     },
     "metadata": {},
     "output_type": "display_data"
    },
    {
     "data": {
      "text/plain": []
     },
     "execution_count": 23,
     "metadata": {},
     "output_type": "execute_result"
    }
   ],
   "source": [
    "from transformers import pipeline\n",
    "import gradio as gr\n",
    "\n",
    "# NER pipeline 초기화\n",
    "ner = pipeline('ner', grouped_entities=True)\n",
    "\n",
    "def extract_entities(text):\n",
    "    result = ner(text)\n",
    "\n",
    "    # 수정본 !\n",
    "    entities = {}\n",
    "    for entity_group in result:\n",
    "        entities[entity_group['word']] = [entity_group['entity_group'], entity_group['score']]\n",
    "        \n",
    "    return entities\n",
    "\n",
    "iface = \\\n",
    "gr.Interface(\n",
    "    fn=extract_entities,\n",
    "    inputs=gr.Textbox(label='Text for NER'),\n",
    "    outputs=gr.Textbox(label='Results')\n",
    ")\n",
    "\n",
    "iface.launch(share=True)"
   ]
  },
  {
   "cell_type": "markdown",
   "id": "97897b94-bc44-4d53-9161-805c49264c71",
   "metadata": {},
   "source": [
    "# 질의응답 - QnA"
   ]
  },
  {
   "cell_type": "code",
   "execution_count": 24,
   "id": "4b1f67ba-9329-49ab-98a8-f44c0bfb2f6c",
   "metadata": {},
   "outputs": [
    {
     "name": "stderr",
     "output_type": "stream",
     "text": [
      "No model was supplied, defaulted to distilbert/distilbert-base-cased-distilled-squad and revision 626af31 (https://huggingface.co/distilbert/distilbert-base-cased-distilled-squad).\n",
      "Using a pipeline without specifying a model name and revision in production is not recommended.\n"
     ]
    },
    {
     "data": {
      "application/vnd.jupyter.widget-view+json": {
       "model_id": "d04342e41e5f4333af3d21e8f92a0f08",
       "version_major": 2,
       "version_minor": 0
      },
      "text/plain": [
       "config.json:   0%|          | 0.00/473 [00:00<?, ?B/s]"
      ]
     },
     "metadata": {},
     "output_type": "display_data"
    },
    {
     "name": "stderr",
     "output_type": "stream",
     "text": [
      "C:\\Users\\tjdtn\\anaconda3\\envs\\ml-practice\\lib\\site-packages\\huggingface_hub\\file_download.py:157: UserWarning: `huggingface_hub` cache-system uses symlinks by default to efficiently store duplicated files but your machine does not support them in C:\\Users\\tjdtn\\.cache\\huggingface\\hub\\models--distilbert--distilbert-base-cased-distilled-squad. Caching files will still work but in a degraded version that might require more space on your disk. This warning can be disabled by setting the `HF_HUB_DISABLE_SYMLINKS_WARNING` environment variable. For more details, see https://huggingface.co/docs/huggingface_hub/how-to-cache#limitations.\n",
      "To support symlinks on Windows, you either need to activate Developer Mode or to run Python as an administrator. In order to see activate developer mode, see this article: https://docs.microsoft.com/en-us/windows/apps/get-started/enable-your-device-for-development\n",
      "  warnings.warn(message)\n"
     ]
    },
    {
     "data": {
      "application/vnd.jupyter.widget-view+json": {
       "model_id": "da1990286c6141cb8881e5e54344cb45",
       "version_major": 2,
       "version_minor": 0
      },
      "text/plain": [
       "model.safetensors:   0%|          | 0.00/261M [00:00<?, ?B/s]"
      ]
     },
     "metadata": {},
     "output_type": "display_data"
    },
    {
     "name": "stderr",
     "output_type": "stream",
     "text": [
      "All PyTorch model weights were used when initializing TFDistilBertForQuestionAnswering.\n",
      "\n",
      "All the weights of TFDistilBertForQuestionAnswering were initialized from the PyTorch model.\n",
      "If your task is similar to the task the model of the checkpoint was trained on, you can already use TFDistilBertForQuestionAnswering for predictions without further training.\n"
     ]
    },
    {
     "data": {
      "application/vnd.jupyter.widget-view+json": {
       "model_id": "c81f0ea618fe4038818a2bf2689b208c",
       "version_major": 2,
       "version_minor": 0
      },
      "text/plain": [
       "tokenizer_config.json:   0%|          | 0.00/49.0 [00:00<?, ?B/s]"
      ]
     },
     "metadata": {},
     "output_type": "display_data"
    },
    {
     "data": {
      "application/vnd.jupyter.widget-view+json": {
       "model_id": "d4950340fd134bcd8f6b9e38fc365b4f",
       "version_major": 2,
       "version_minor": 0
      },
      "text/plain": [
       "vocab.txt:   0%|          | 0.00/213k [00:00<?, ?B/s]"
      ]
     },
     "metadata": {},
     "output_type": "display_data"
    },
    {
     "data": {
      "application/vnd.jupyter.widget-view+json": {
       "model_id": "a6c4ec54a7bc400693917158e02465d6",
       "version_major": 2,
       "version_minor": 0
      },
      "text/plain": [
       "tokenizer.json:   0%|          | 0.00/436k [00:00<?, ?B/s]"
      ]
     },
     "metadata": {},
     "output_type": "display_data"
    },
    {
     "data": {
      "text/plain": [
       "{'score': 0.7849191427230835, 'start': 40, 'end': 47, 'answer': 'Hwasung'}"
      ]
     },
     "execution_count": 24,
     "metadata": {},
     "output_type": "execute_result"
    }
   ],
   "source": [
    "from transformers import pipeline\n",
    "\n",
    "question_answerer = pipeline(\"question-answering\")\n",
    "question_answerer(\n",
    "    question=\"Where do you study?\",\n",
    "    context=\"My name is Surin and I study at home in Hwasung.\",\n",
    ")"
   ]
  },
  {
   "cell_type": "code",
   "execution_count": 25,
   "id": "b2a612b0-18e7-4de2-b021-a6008345e99f",
   "metadata": {},
   "outputs": [
    {
     "name": "stderr",
     "output_type": "stream",
     "text": [
      "No model was supplied, defaulted to distilbert/distilbert-base-cased-distilled-squad and revision 626af31 (https://huggingface.co/distilbert/distilbert-base-cased-distilled-squad).\n",
      "Using a pipeline without specifying a model name and revision in production is not recommended.\n",
      "All PyTorch model weights were used when initializing TFDistilBertForQuestionAnswering.\n",
      "\n",
      "All the weights of TFDistilBertForQuestionAnswering were initialized from the PyTorch model.\n",
      "If your task is similar to the task the model of the checkpoint was trained on, you can already use TFDistilBertForQuestionAnswering for predictions without further training.\n"
     ]
    },
    {
     "name": "stdout",
     "output_type": "stream",
     "text": [
      "Running on local URL:  http://127.0.0.1:7867\n",
      "Running on public URL: https://f983bb918ee0506323.gradio.live\n",
      "\n",
      "This share link expires in 72 hours. For free permanent hosting and GPU upgrades, run `gradio deploy` from Terminal to deploy to Spaces (https://huggingface.co/spaces)\n"
     ]
    },
    {
     "data": {
      "text/html": [
       "<div><iframe src=\"https://f983bb918ee0506323.gradio.live\" width=\"100%\" height=\"500\" allow=\"autoplay; camera; microphone; clipboard-read; clipboard-write;\" frameborder=\"0\" allowfullscreen></iframe></div>"
      ],
      "text/plain": [
       "<IPython.core.display.HTML object>"
      ]
     },
     "metadata": {},
     "output_type": "display_data"
    },
    {
     "data": {
      "text/plain": []
     },
     "execution_count": 25,
     "metadata": {},
     "output_type": "execute_result"
    },
    {
     "name": "stderr",
     "output_type": "stream",
     "text": [
      "Traceback (most recent call last):\n",
      "  File \"C:\\Users\\tjdtn\\anaconda3\\envs\\ml-practice\\lib\\site-packages\\gradio\\queueing.py\", line 541, in process_events\n",
      "    response = await route_utils.call_process_api(\n",
      "  File \"C:\\Users\\tjdtn\\anaconda3\\envs\\ml-practice\\lib\\site-packages\\gradio\\route_utils.py\", line 276, in call_process_api\n",
      "    output = await app.get_blocks().process_api(\n",
      "  File \"C:\\Users\\tjdtn\\anaconda3\\envs\\ml-practice\\lib\\site-packages\\gradio\\blocks.py\", line 1938, in process_api\n",
      "    data = await self.postprocess_data(block_fn, result[\"prediction\"], state)\n",
      "  File \"C:\\Users\\tjdtn\\anaconda3\\envs\\ml-practice\\lib\\site-packages\\gradio\\blocks.py\", line 1711, in postprocess_data\n",
      "    self.validate_outputs(block_fn, predictions)  # type: ignore\n",
      "  File \"C:\\Users\\tjdtn\\anaconda3\\envs\\ml-practice\\lib\\site-packages\\gradio\\blocks.py\", line 1685, in validate_outputs\n",
      "    raise ValueError(\n",
      "ValueError: An event handler (fn) didn't receive enough output values (needed: 2, received: 1).\n",
      "Wanted outputs:\n",
      "    [<gradio.components.textbox.Textbox object at 0x000001AA7F224580>, <gradio.components.textbox.Textbox object at 0x000001AA8C31FFD0>]\n",
      "Received outputs:\n",
      "    [{'score': 0.984106719493866, 'start': 11, 'end': 16, 'answer': 'Surin'}]\n",
      "Traceback (most recent call last):\n",
      "  File \"C:\\Users\\tjdtn\\anaconda3\\envs\\ml-practice\\lib\\site-packages\\gradio\\queueing.py\", line 541, in process_events\n",
      "    response = await route_utils.call_process_api(\n",
      "  File \"C:\\Users\\tjdtn\\anaconda3\\envs\\ml-practice\\lib\\site-packages\\gradio\\route_utils.py\", line 276, in call_process_api\n",
      "    output = await app.get_blocks().process_api(\n",
      "  File \"C:\\Users\\tjdtn\\anaconda3\\envs\\ml-practice\\lib\\site-packages\\gradio\\blocks.py\", line 1938, in process_api\n",
      "    data = await self.postprocess_data(block_fn, result[\"prediction\"], state)\n",
      "  File \"C:\\Users\\tjdtn\\anaconda3\\envs\\ml-practice\\lib\\site-packages\\gradio\\blocks.py\", line 1711, in postprocess_data\n",
      "    self.validate_outputs(block_fn, predictions)  # type: ignore\n",
      "  File \"C:\\Users\\tjdtn\\anaconda3\\envs\\ml-practice\\lib\\site-packages\\gradio\\blocks.py\", line 1685, in validate_outputs\n",
      "    raise ValueError(\n",
      "ValueError: An event handler (fn) didn't receive enough output values (needed: 2, received: 1).\n",
      "Wanted outputs:\n",
      "    [<gradio.components.textbox.Textbox object at 0x000001AA7F224580>, <gradio.components.textbox.Textbox object at 0x000001AA8C31FFD0>]\n",
      "Received outputs:\n",
      "    [{'score': 0.9869074821472168, 'start': 12, 'end': 17, 'answer': 'Surin'}]\n"
     ]
    }
   ],
   "source": [
    "from transformers import pipeline\n",
    "import gradio as gr\n",
    "\n",
    "question_answerer = pipeline(\"question-answering\")\n",
    "\n",
    "def answer_question(question, context):\n",
    "    result = question_answerer(question, context)\n",
    "    return (result['answer'], result['score'])\n",
    "\n",
    "iface = \\\n",
    "gr.Interface(\n",
    "    fn=question_answerer,\n",
    "    inputs=[\n",
    "        gr.Textbox(label='Question'),\n",
    "        gr.Textbox(label='Context')\n",
    "    ],\n",
    "    outputs=[\n",
    "        gr.Textbox(label='Answer'),\n",
    "        gr.Textbox(label='Confidence')\n",
    "    ]\n",
    ")\n",
    "\n",
    "iface.launch(share=True)"
   ]
  },
  {
   "cell_type": "code",
   "execution_count": null,
   "id": "f9b21528-e4f5-45d2-b7da-8f46b14123d3",
   "metadata": {},
   "outputs": [],
   "source": []
  }
 ],
 "metadata": {
  "kernelspec": {
   "display_name": "Python 3 (ipykernel)",
   "language": "python",
   "name": "python3"
  },
  "language_info": {
   "codemirror_mode": {
    "name": "ipython",
    "version": 3
   },
   "file_extension": ".py",
   "mimetype": "text/x-python",
   "name": "python",
   "nbconvert_exporter": "python",
   "pygments_lexer": "ipython3",
   "version": "3.9.19"
  },
  "widgets": {
   "application/vnd.jupyter.widget-state+json": {
    "state": {
     "0029a1eda6504d7bb1c86ad3191052cf": {
      "model_module": "@jupyter-widgets/controls",
      "model_module_version": "2.0.0",
      "model_name": "FloatProgressModel",
      "state": {
       "bar_style": "success",
       "layout": "IPY_MODEL_0df0279ed06a4cd1935cbdbc7aabb2d6",
       "max": 213450,
       "style": "IPY_MODEL_005573b37d604429978bb1b69b4057d2",
       "value": 213450
      }
     },
     "005573b37d604429978bb1b69b4057d2": {
      "model_module": "@jupyter-widgets/controls",
      "model_module_version": "2.0.0",
      "model_name": "ProgressStyleModel",
      "state": {
       "description_width": ""
      }
     },
     "02717e7afff9450c8a3eb3c2b7a4cf81": {
      "model_module": "@jupyter-widgets/base",
      "model_module_version": "2.0.0",
      "model_name": "LayoutModel",
      "state": {}
     },
     "0332b5f2ee6b40f5861f2b05ead2b771": {
      "model_module": "@jupyter-widgets/controls",
      "model_module_version": "2.0.0",
      "model_name": "HTMLModel",
      "state": {
       "layout": "IPY_MODEL_da6ddb398c6c440ca524edeae14074a3",
       "style": "IPY_MODEL_2b4ea1e10a874334923354901a25a9fb",
       "value": " 1.43G/1.43G [01:07&lt;00:00, 19.0MB/s]"
      }
     },
     "0335f2f094224b08b3410c131c46e0a7": {
      "model_module": "@jupyter-widgets/controls",
      "model_module_version": "2.0.0",
      "model_name": "HTMLModel",
      "state": {
       "layout": "IPY_MODEL_996f0c4d1d8744cdbdb434e625718ca5",
       "style": "IPY_MODEL_cecdbbbb3c744ba79ad309287af46e67",
       "value": " 665/665 [00:00&lt;00:00, 13.0kB/s]"
      }
     },
     "03b92effeb644607973c645d15a7b39f": {
      "model_module": "@jupyter-widgets/base",
      "model_module_version": "2.0.0",
      "model_name": "LayoutModel",
      "state": {}
     },
     "0514c991afbe409fad4c96ebab6a087b": {
      "model_module": "@jupyter-widgets/controls",
      "model_module_version": "2.0.0",
      "model_name": "HBoxModel",
      "state": {
       "children": [
        "IPY_MODEL_5e02fc1c5bb84331b151520799ed3e92",
        "IPY_MODEL_152393015b2448339a77dfa4092ab24d",
        "IPY_MODEL_cb1bccd140fe4137acaf4f9e7331c21b"
       ],
       "layout": "IPY_MODEL_d10de703cdea45ffbcce9beb3c0e2cd9"
      }
     },
     "0696f98c5fae499e8db3b7ec29f5d0ea": {
      "model_module": "@jupyter-widgets/controls",
      "model_module_version": "2.0.0",
      "model_name": "HBoxModel",
      "state": {
       "children": [
        "IPY_MODEL_99ece1b61ccc410992e956d716ad09ba",
        "IPY_MODEL_7cd896c6c46840219e7658ec6a5b202e",
        "IPY_MODEL_9388604d91f84268a685d6b5c37d8565"
       ],
       "layout": "IPY_MODEL_90a6858655b94e659c5e33d4033b2d63"
      }
     },
     "087a0da9efcd4b4c9043a42eb919224f": {
      "model_module": "@jupyter-widgets/base",
      "model_module_version": "2.0.0",
      "model_name": "LayoutModel",
      "state": {}
     },
     "08ff2f8d0cb54fceb4207e31e38f2a5d": {
      "model_module": "@jupyter-widgets/base",
      "model_module_version": "2.0.0",
      "model_name": "LayoutModel",
      "state": {}
     },
     "099daaf3745d4752a26d978eb65e7c86": {
      "model_module": "@jupyter-widgets/controls",
      "model_module_version": "2.0.0",
      "model_name": "HTMLModel",
      "state": {
       "layout": "IPY_MODEL_487d2182d5bb4a248713c70b7bff1739",
       "style": "IPY_MODEL_e7fd2790b7d042aeaef77347dbe556d2",
       "value": "tokenizer.json: 100%"
      }
     },
     "09a3806e5265436dbd73e387b977573a": {
      "model_module": "@jupyter-widgets/base",
      "model_module_version": "2.0.0",
      "model_name": "LayoutModel",
      "state": {}
     },
     "0b042bb3d6d04a73a36dcff446a16775": {
      "model_module": "@jupyter-widgets/controls",
      "model_module_version": "2.0.0",
      "model_name": "HTMLStyleModel",
      "state": {
       "description_width": "",
       "font_size": null,
       "text_color": null
      }
     },
     "0b193dbe6a3c40aba87ac783ee230d1b": {
      "model_module": "@jupyter-widgets/base",
      "model_module_version": "2.0.0",
      "model_name": "LayoutModel",
      "state": {}
     },
     "0b1cca499c6d49fe87d443cbec4d589b": {
      "model_module": "@jupyter-widgets/controls",
      "model_module_version": "2.0.0",
      "model_name": "HTMLStyleModel",
      "state": {
       "description_width": "",
       "font_size": null,
       "text_color": null
      }
     },
     "0d68411c324c46fcbbbde18ce73e1757": {
      "model_module": "@jupyter-widgets/controls",
      "model_module_version": "2.0.0",
      "model_name": "HTMLModel",
      "state": {
       "layout": "IPY_MODEL_98f3f649ceb54f68a81355323a9ca8ee",
       "style": "IPY_MODEL_516fce8e2284417495b192da5d9ea1e7",
       "value": " 1.36M/1.36M [00:00&lt;00:00, 1.55MB/s]"
      }
     },
     "0df0279ed06a4cd1935cbdbc7aabb2d6": {
      "model_module": "@jupyter-widgets/base",
      "model_module_version": "2.0.0",
      "model_name": "LayoutModel",
      "state": {}
     },
     "0e7cd54e32d144f3adec87610c09fcc7": {
      "model_module": "@jupyter-widgets/controls",
      "model_module_version": "2.0.0",
      "model_name": "HTMLModel",
      "state": {
       "layout": "IPY_MODEL_f4d0a17cab1f493ea589d9b8dd5ba01c",
       "style": "IPY_MODEL_cc9c72e6cb2342579aa397e4a5312176",
       "value": " 232k/232k [00:00&lt;00:00, 658kB/s]"
      }
     },
     "0eb940e9841f4c3284475ed97e618760": {
      "model_module": "@jupyter-widgets/controls",
      "model_module_version": "2.0.0",
      "model_name": "HTMLStyleModel",
      "state": {
       "description_width": "",
       "font_size": null,
       "text_color": null
      }
     },
     "0f7c53487dee42aeac964f960e9cfdd7": {
      "model_module": "@jupyter-widgets/base",
      "model_module_version": "2.0.0",
      "model_name": "LayoutModel",
      "state": {}
     },
     "107b965bd76646c4b71ff9dd0d9ddcf6": {
      "model_module": "@jupyter-widgets/controls",
      "model_module_version": "2.0.0",
      "model_name": "HTMLModel",
      "state": {
       "layout": "IPY_MODEL_bb84faf0f574456fbd70d0702dac5da3",
       "style": "IPY_MODEL_7c02dfc94383481c8aa55f26cdf53fa2",
       "value": "model.safetensors:  16%"
      }
     },
     "10b9a602527e4b76a3ff398381133052": {
      "model_module": "@jupyter-widgets/controls",
      "model_module_version": "2.0.0",
      "model_name": "HTMLModel",
      "state": {
       "layout": "IPY_MODEL_f5eddd9e3d504ed7b1ccfed0e398a933",
       "style": "IPY_MODEL_619145c3deab44529997701090b5f4f1",
       "value": "merges.txt: 100%"
      }
     },
     "10fc5a0fe9ce4609a9a6ebdf38ab7f43": {
      "model_module": "@jupyter-widgets/controls",
      "model_module_version": "2.0.0",
      "model_name": "HTMLStyleModel",
      "state": {
       "description_width": "",
       "font_size": null,
       "text_color": null
      }
     },
     "122f00a6c4b44133af4b418211c92b38": {
      "model_module": "@jupyter-widgets/controls",
      "model_module_version": "2.0.0",
      "model_name": "HTMLModel",
      "state": {
       "layout": "IPY_MODEL_7e15743edfd44ae39242b8f980dfdd77",
       "style": "IPY_MODEL_258f117492af440eb9356f655bfe8b50",
       "value": "model.safetensors: 100%"
      }
     },
     "1302285023cd453981909f4500ce1f22": {
      "model_module": "@jupyter-widgets/controls",
      "model_module_version": "2.0.0",
      "model_name": "HTMLStyleModel",
      "state": {
       "description_width": "",
       "font_size": null,
       "text_color": null
      }
     },
     "135c0443b99146bb92c60879bbe5223b": {
      "model_module": "@jupyter-widgets/controls",
      "model_module_version": "2.0.0",
      "model_name": "HTMLStyleModel",
      "state": {
       "description_width": "",
       "font_size": null,
       "text_color": null
      }
     },
     "136daf8df9094f10a3f4827560d7b866": {
      "model_module": "@jupyter-widgets/controls",
      "model_module_version": "2.0.0",
      "model_name": "HTMLStyleModel",
      "state": {
       "description_width": "",
       "font_size": null,
       "text_color": null
      }
     },
     "13a4af04617040aea9ad1a2c4f4c53f2": {
      "model_module": "@jupyter-widgets/controls",
      "model_module_version": "2.0.0",
      "model_name": "FloatProgressModel",
      "state": {
       "bar_style": "success",
       "layout": "IPY_MODEL_16eca91bb3564317912e4b7b67fd0d5f",
       "max": 26,
       "style": "IPY_MODEL_43514b4c78974650b38feee8f9a05da7",
       "value": 26
      }
     },
     "13e1a2387b4a4c938b32686e5697ad7b": {
      "model_module": "@jupyter-widgets/controls",
      "model_module_version": "2.0.0",
      "model_name": "HTMLStyleModel",
      "state": {
       "description_width": "",
       "font_size": null,
       "text_color": null
      }
     },
     "13f96da8cd36478884accc835c22f4c1": {
      "model_module": "@jupyter-widgets/controls",
      "model_module_version": "2.0.0",
      "model_name": "HTMLStyleModel",
      "state": {
       "description_width": "",
       "font_size": null,
       "text_color": null
      }
     },
     "152393015b2448339a77dfa4092ab24d": {
      "model_module": "@jupyter-widgets/controls",
      "model_module_version": "2.0.0",
      "model_name": "FloatProgressModel",
      "state": {
       "bar_style": "success",
       "layout": "IPY_MODEL_eb87e3f15f984b3dbdb253d87e07ef89",
       "max": 480,
       "style": "IPY_MODEL_f3d2fb18da264ecb8720cd036d1e3fba",
       "value": 480
      }
     },
     "1534192589514d50b44f624d7bdaa7b4": {
      "model_module": "@jupyter-widgets/base",
      "model_module_version": "2.0.0",
      "model_name": "LayoutModel",
      "state": {}
     },
     "15831014322044fa971932abc79f0823": {
      "model_module": "@jupyter-widgets/controls",
      "model_module_version": "2.0.0",
      "model_name": "HTMLStyleModel",
      "state": {
       "description_width": "",
       "font_size": null,
       "text_color": null
      }
     },
     "162a200bb9034f4988090d654d9643db": {
      "model_module": "@jupyter-widgets/controls",
      "model_module_version": "2.0.0",
      "model_name": "HTMLModel",
      "state": {
       "layout": "IPY_MODEL_79a60cc939534464a4c8ec326e109c1a",
       "style": "IPY_MODEL_4c69cd46cd224fe49c07e0bcbb7e0a01",
       "value": "tokenizer_config.json: 100%"
      }
     },
     "169a727b9f1d499e813b7d5c459af9f8": {
      "model_module": "@jupyter-widgets/base",
      "model_module_version": "2.0.0",
      "model_name": "LayoutModel",
      "state": {}
     },
     "16eca91bb3564317912e4b7b67fd0d5f": {
      "model_module": "@jupyter-widgets/base",
      "model_module_version": "2.0.0",
      "model_name": "LayoutModel",
      "state": {}
     },
     "17b321cc90164733be40df0151949335": {
      "model_module": "@jupyter-widgets/controls",
      "model_module_version": "2.0.0",
      "model_name": "HTMLStyleModel",
      "state": {
       "description_width": "",
       "font_size": null,
       "text_color": null
      }
     },
     "187988d82e9640edb2cea57ade78b98c": {
      "model_module": "@jupyter-widgets/controls",
      "model_module_version": "2.0.0",
      "model_name": "HBoxModel",
      "state": {
       "children": [
        "IPY_MODEL_f8bfcf1f8d96421cb0d50b83910c573d",
        "IPY_MODEL_4e376ef05cd94c9484c364946f0d54f1",
        "IPY_MODEL_dc49fa04046041b5bcfc71f91b9ab285"
       ],
       "layout": "IPY_MODEL_ad16158b9c6a42b5bb55c88301d80397"
      }
     },
     "195733f1fd114ceb8db12b26ab2a1b44": {
      "model_module": "@jupyter-widgets/base",
      "model_module_version": "2.0.0",
      "model_name": "LayoutModel",
      "state": {}
     },
     "198fd6e7ebc14ef19befa4d7c5e225f0": {
      "model_module": "@jupyter-widgets/base",
      "model_module_version": "2.0.0",
      "model_name": "LayoutModel",
      "state": {}
     },
     "1b72f1c151c6433783b60a69ecd5e884": {
      "model_module": "@jupyter-widgets/base",
      "model_module_version": "2.0.0",
      "model_name": "LayoutModel",
      "state": {}
     },
     "1b7789763cfb487ab95a9371b0c99030": {
      "model_module": "@jupyter-widgets/base",
      "model_module_version": "2.0.0",
      "model_name": "LayoutModel",
      "state": {}
     },
     "1cc4909b045e4804bcb31118ab03c825": {
      "model_module": "@jupyter-widgets/controls",
      "model_module_version": "2.0.0",
      "model_name": "HBoxModel",
      "state": {
       "children": [
        "IPY_MODEL_266fda084ab04abc838a16b33a7f108a",
        "IPY_MODEL_30210990f6124878864cdd7d6cc4a5f5",
        "IPY_MODEL_1ffcda33897b488ebf67476747464a90"
       ],
       "layout": "IPY_MODEL_ab83d437a43f4c9c83bb0f52fc199a8a"
      }
     },
     "1d6a285f3b674021a41ae9a33dc9fca1": {
      "model_module": "@jupyter-widgets/base",
      "model_module_version": "2.0.0",
      "model_name": "LayoutModel",
      "state": {}
     },
     "1e3003283aa047e997a3bcc50214119e": {
      "model_module": "@jupyter-widgets/base",
      "model_module_version": "2.0.0",
      "model_name": "LayoutModel",
      "state": {}
     },
     "1ffcda33897b488ebf67476747464a90": {
      "model_module": "@jupyter-widgets/controls",
      "model_module_version": "2.0.0",
      "model_name": "HTMLModel",
      "state": {
       "layout": "IPY_MODEL_1b7789763cfb487ab95a9371b0c99030",
       "style": "IPY_MODEL_93e21302b4874971bd539a25fe9c3344",
       "value": " 456k/456k [00:00&lt;00:00, 872kB/s]"
      }
     },
     "2230a3997c34441b9db2036d6506c4d8": {
      "model_module": "@jupyter-widgets/controls",
      "model_module_version": "2.0.0",
      "model_name": "HBoxModel",
      "state": {
       "children": [
        "IPY_MODEL_daf4c8aeea51479c98af391a29428a90",
        "IPY_MODEL_60421f1c32f64fa0aed8285b523e940a",
        "IPY_MODEL_87b198afee744f8f944ec036dc03f8ab"
       ],
       "layout": "IPY_MODEL_d7554c253bb6410b9f2298bcaccd100e"
      }
     },
     "22bb7aeb40fd4a01ae127282cae2775b": {
      "model_module": "@jupyter-widgets/controls",
      "model_module_version": "2.0.0",
      "model_name": "FloatProgressModel",
      "state": {
       "bar_style": "success",
       "layout": "IPY_MODEL_43ab4f751b3a402b921b174be427a71b",
       "max": 1334400964,
       "style": "IPY_MODEL_61d870792367417fa1c9952464d16239",
       "value": 1334400964
      }
     },
     "22ecabdd394d4e6cac435e7fbeb37c70": {
      "model_module": "@jupyter-widgets/controls",
      "model_module_version": "2.0.0",
      "model_name": "ProgressStyleModel",
      "state": {
       "description_width": ""
      }
     },
     "24611404334d4899a35c9b76dea9f594": {
      "model_module": "@jupyter-widgets/base",
      "model_module_version": "2.0.0",
      "model_name": "LayoutModel",
      "state": {}
     },
     "258f117492af440eb9356f655bfe8b50": {
      "model_module": "@jupyter-widgets/controls",
      "model_module_version": "2.0.0",
      "model_name": "HTMLStyleModel",
      "state": {
       "description_width": "",
       "font_size": null,
       "text_color": null
      }
     },
     "266fda084ab04abc838a16b33a7f108a": {
      "model_module": "@jupyter-widgets/controls",
      "model_module_version": "2.0.0",
      "model_name": "HTMLModel",
      "state": {
       "layout": "IPY_MODEL_6d4762578c4043d9a47aa601056fbe2e",
       "style": "IPY_MODEL_0b1cca499c6d49fe87d443cbec4d589b",
       "value": "merges.txt: 100%"
      }
     },
     "26860d0fc52f4d4ebdfa51437a27283c": {
      "model_module": "@jupyter-widgets/controls",
      "model_module_version": "2.0.0",
      "model_name": "ProgressStyleModel",
      "state": {
       "description_width": ""
      }
     },
     "294c774b4ead45d6930132e654541fe1": {
      "model_module": "@jupyter-widgets/controls",
      "model_module_version": "2.0.0",
      "model_name": "HBoxModel",
      "state": {
       "children": [
        "IPY_MODEL_fde5f22ddee143959240c3b6f1da62e6",
        "IPY_MODEL_b0696b0ca68f4b548810a31ac836a3b0",
        "IPY_MODEL_7fc5421e6af348e18511b11060894ddc"
       ],
       "layout": "IPY_MODEL_4068a19a75974ee5bfb6d94c96cd5dc7"
      }
     },
     "2a23d7cae52e464aa757236b38e1329c": {
      "model_module": "@jupyter-widgets/controls",
      "model_module_version": "2.0.0",
      "model_name": "HTMLStyleModel",
      "state": {
       "description_width": "",
       "font_size": null,
       "text_color": null
      }
     },
     "2b4ea1e10a874334923354901a25a9fb": {
      "model_module": "@jupyter-widgets/controls",
      "model_module_version": "2.0.0",
      "model_name": "HTMLStyleModel",
      "state": {
       "description_width": "",
       "font_size": null,
       "text_color": null
      }
     },
     "2bc55cd4bda143c4b9443945342ee95a": {
      "model_module": "@jupyter-widgets/base",
      "model_module_version": "2.0.0",
      "model_name": "LayoutModel",
      "state": {}
     },
     "2d23efbadbc14f34b7251e40ff770399": {
      "model_module": "@jupyter-widgets/base",
      "model_module_version": "2.0.0",
      "model_name": "LayoutModel",
      "state": {}
     },
     "2df4698bd56d4d749752cdf184ae0a43": {
      "model_module": "@jupyter-widgets/controls",
      "model_module_version": "2.0.0",
      "model_name": "HTMLStyleModel",
      "state": {
       "description_width": "",
       "font_size": null,
       "text_color": null
      }
     },
     "2e317e3ca98f40d1b5d78e0f33aef84c": {
      "model_module": "@jupyter-widgets/base",
      "model_module_version": "2.0.0",
      "model_name": "LayoutModel",
      "state": {}
     },
     "2f196d1da5ef405a8ed880c5ecee47ef": {
      "model_module": "@jupyter-widgets/base",
      "model_module_version": "2.0.0",
      "model_name": "LayoutModel",
      "state": {}
     },
     "30210990f6124878864cdd7d6cc4a5f5": {
      "model_module": "@jupyter-widgets/controls",
      "model_module_version": "2.0.0",
      "model_name": "FloatProgressModel",
      "state": {
       "bar_style": "success",
       "layout": "IPY_MODEL_8fd3d06c493044e19e4927fd221e19f3",
       "max": 456318,
       "style": "IPY_MODEL_bc117b7e5734482598631eafd09735db",
       "value": 456318
      }
     },
     "3030b62f086c48b68fe8de49fbcf01c1": {
      "model_module": "@jupyter-widgets/controls",
      "model_module_version": "2.0.0",
      "model_name": "FloatProgressModel",
      "state": {
       "bar_style": "success",
       "layout": "IPY_MODEL_5b817acd4fe84e8798975cd736d6a3b4",
       "max": 267832558,
       "style": "IPY_MODEL_85ea9c0a1c0241968fd5f2beaaa3d2ee",
       "value": 267832558
      }
     },
     "31b28fcc56ac4787ac3ab5d5d7fad527": {
      "model_module": "@jupyter-widgets/base",
      "model_module_version": "2.0.0",
      "model_name": "LayoutModel",
      "state": {}
     },
     "3268af50e8174879bd6bed9ae5d6234c": {
      "model_module": "@jupyter-widgets/base",
      "model_module_version": "2.0.0",
      "model_name": "LayoutModel",
      "state": {}
     },
     "33587cdb1ef04fe58314e08fc8eeb6b0": {
      "model_module": "@jupyter-widgets/controls",
      "model_module_version": "2.0.0",
      "model_name": "HTMLModel",
      "state": {
       "layout": "IPY_MODEL_02717e7afff9450c8a3eb3c2b7a4cf81",
       "style": "IPY_MODEL_7a5b27813921448f95cf9d75e4a77500",
       "value": " 998/998 [00:00&lt;00:00, 16.6kB/s]"
      }
     },
     "3409e79c4aee477b9d69ccd4d5c9fc61": {
      "model_module": "@jupyter-widgets/controls",
      "model_module_version": "2.0.0",
      "model_name": "HTMLStyleModel",
      "state": {
       "description_width": "",
       "font_size": null,
       "text_color": null
      }
     },
     "34917b7cad0947dead43014afca9e015": {
      "model_module": "@jupyter-widgets/base",
      "model_module_version": "2.0.0",
      "model_name": "LayoutModel",
      "state": {}
     },
     "36f21d2e2610442f840afc387f26ce80": {
      "model_module": "@jupyter-widgets/controls",
      "model_module_version": "2.0.0",
      "model_name": "HTMLModel",
      "state": {
       "layout": "IPY_MODEL_b70f74641b3b428eb6266bbdde068308",
       "style": "IPY_MODEL_c6d68f3a48b34a6390ab0278ef9b965b",
       "value": "tokenizer.json: 100%"
      }
     },
     "375a569a6c6a49f1ac707efdf4c08d10": {
      "model_module": "@jupyter-widgets/controls",
      "model_module_version": "2.0.0",
      "model_name": "HTMLStyleModel",
      "state": {
       "description_width": "",
       "font_size": null,
       "text_color": null
      }
     },
     "37f1bce9da16491baf8e687955050aa7": {
      "model_module": "@jupyter-widgets/controls",
      "model_module_version": "2.0.0",
      "model_name": "HTMLStyleModel",
      "state": {
       "description_width": "",
       "font_size": null,
       "text_color": null
      }
     },
     "3877baeb0c9c4f8d8c53fb9182df0554": {
      "model_module": "@jupyter-widgets/controls",
      "model_module_version": "2.0.0",
      "model_name": "HTMLModel",
      "state": {
       "layout": "IPY_MODEL_ceeddbec283148349ba677f591890d89",
       "style": "IPY_MODEL_0eb940e9841f4c3284475ed97e618760",
       "value": " 1.04M/1.04M [00:00&lt;00:00, 1.51MB/s]"
      }
     },
     "392c9a6aa241466ebfd572912469cf4e": {
      "model_module": "@jupyter-widgets/base",
      "model_module_version": "2.0.0",
      "model_name": "LayoutModel",
      "state": {}
     },
     "39fe867fc3c6445488a3528ca705de19": {
      "model_module": "@jupyter-widgets/controls",
      "model_module_version": "2.0.0",
      "model_name": "HTMLModel",
      "state": {
       "layout": "IPY_MODEL_2bc55cd4bda143c4b9443945342ee95a",
       "style": "IPY_MODEL_c3588362ebee4b6b8f733249e10d0971",
       "value": " 49.0/49.0 [00:00&lt;00:00, 1.49kB/s]"
      }
     },
     "3a1b982fb8fc487089ed4f4c3236f5f5": {
      "model_module": "@jupyter-widgets/base",
      "model_module_version": "2.0.0",
      "model_name": "LayoutModel",
      "state": {}
     },
     "3a70ca4618604de08f127b52ec45f83f": {
      "model_module": "@jupyter-widgets/controls",
      "model_module_version": "2.0.0",
      "model_name": "HBoxModel",
      "state": {
       "children": [
        "IPY_MODEL_d335f5a402794dbcb32faac9d23052b8",
        "IPY_MODEL_22bb7aeb40fd4a01ae127282cae2775b",
        "IPY_MODEL_fdce7dcd1fa4499680c00a672bcb55ec"
       ],
       "layout": "IPY_MODEL_724ff5329bf84ec2a78493b32ffbcfa0"
      }
     },
     "3be2685773f54d56bf2a723a5da6a803": {
      "model_module": "@jupyter-widgets/base",
      "model_module_version": "2.0.0",
      "model_name": "LayoutModel",
      "state": {}
     },
     "3d55bc298b3248d7b4aa29b41fe44107": {
      "model_module": "@jupyter-widgets/controls",
      "model_module_version": "2.0.0",
      "model_name": "HBoxModel",
      "state": {
       "children": [
        "IPY_MODEL_9ce1a12f25244b3cb33dd0025361a8ec",
        "IPY_MODEL_b98f4ac557ca422ba5dcf99c0a997af5",
        "IPY_MODEL_33587cdb1ef04fe58314e08fc8eeb6b0"
       ],
       "layout": "IPY_MODEL_684efa21e21e449097e812c2f78f7c45"
      }
     },
     "3da9d07a6d6d4946ae8a776a733ec09c": {
      "model_module": "@jupyter-widgets/controls",
      "model_module_version": "2.0.0",
      "model_name": "HBoxModel",
      "state": {
       "children": [
        "IPY_MODEL_6446fa9ac30b4c4488924b1f8780787a",
        "IPY_MODEL_5ad5904d808345d288dc16fa26cc85a2",
        "IPY_MODEL_d3860879b39346b9b1a482e62c81fea4"
       ],
       "layout": "IPY_MODEL_cbcae6c03704476d94289ed1291b1446"
      }
     },
     "3f53c24d264f4279bd99d410c2a336c6": {
      "model_module": "@jupyter-widgets/base",
      "model_module_version": "2.0.0",
      "model_name": "LayoutModel",
      "state": {}
     },
     "4029f6f85248471b8fab95acb4484b1f": {
      "model_module": "@jupyter-widgets/controls",
      "model_module_version": "2.0.0",
      "model_name": "HTMLModel",
      "state": {
       "layout": "IPY_MODEL_73ef13b44af14dc698dbcd20593524b1",
       "style": "IPY_MODEL_4cc306e134ca41a5a6b7b4e5a9c94abf",
       "value": " 48.0/48.0 [00:00&lt;00:00, 1.92kB/s]"
      }
     },
     "4068a19a75974ee5bfb6d94c96cd5dc7": {
      "model_module": "@jupyter-widgets/base",
      "model_module_version": "2.0.0",
      "model_name": "LayoutModel",
      "state": {}
     },
     "4091fc2d230f4ed280138d0315990d6e": {
      "model_module": "@jupyter-widgets/controls",
      "model_module_version": "2.0.0",
      "model_name": "HTMLStyleModel",
      "state": {
       "description_width": "",
       "font_size": null,
       "text_color": null
      }
     },
     "4229273bcf2e43e99fa38abe382c760c": {
      "model_module": "@jupyter-widgets/controls",
      "model_module_version": "2.0.0",
      "model_name": "ProgressStyleModel",
      "state": {
       "description_width": ""
      }
     },
     "43514b4c78974650b38feee8f9a05da7": {
      "model_module": "@jupyter-widgets/controls",
      "model_module_version": "2.0.0",
      "model_name": "ProgressStyleModel",
      "state": {
       "description_width": ""
      }
     },
     "4358476858d54d57a1ae74f8f03d829f": {
      "model_module": "@jupyter-widgets/controls",
      "model_module_version": "2.0.0",
      "model_name": "HTMLModel",
      "state": {
       "layout": "IPY_MODEL_527704178337455ba868cf4007a786d1",
       "style": "IPY_MODEL_cdc9f79ff89f46168f5fef5c97f83088",
       "value": "tokenizer.json: 100%"
      }
     },
     "43ab4f751b3a402b921b174be427a71b": {
      "model_module": "@jupyter-widgets/base",
      "model_module_version": "2.0.0",
      "model_name": "LayoutModel",
      "state": {}
     },
     "4424e346f28241bbafb6a86440fa502d": {
      "model_module": "@jupyter-widgets/base",
      "model_module_version": "2.0.0",
      "model_name": "LayoutModel",
      "state": {}
     },
     "444ec52bb9d44e5ab46754d7ef22ecb9": {
      "model_module": "@jupyter-widgets/controls",
      "model_module_version": "2.0.0",
      "model_name": "HBoxModel",
      "state": {
       "children": [
        "IPY_MODEL_36f21d2e2610442f840afc387f26ce80",
        "IPY_MODEL_88f836ef28234ea789dfa8dbf41fc728",
        "IPY_MODEL_0d68411c324c46fcbbbde18ce73e1757"
       ],
       "layout": "IPY_MODEL_8798282be65241c1b3011912fa212943"
      }
     },
     "463fc24093f44304bf63cc1c1143b5bf": {
      "model_module": "@jupyter-widgets/controls",
      "model_module_version": "2.0.0",
      "model_name": "HTMLStyleModel",
      "state": {
       "description_width": "",
       "font_size": null,
       "text_color": null
      }
     },
     "46d3cb98927a4f45ac4063f9274885d8": {
      "model_module": "@jupyter-widgets/controls",
      "model_module_version": "2.0.0",
      "model_name": "HTMLStyleModel",
      "state": {
       "description_width": "",
       "font_size": null,
       "text_color": null
      }
     },
     "4808011dcd8947b6befeded6bd7c2002": {
      "model_module": "@jupyter-widgets/controls",
      "model_module_version": "2.0.0",
      "model_name": "HTMLStyleModel",
      "state": {
       "description_width": "",
       "font_size": null,
       "text_color": null
      }
     },
     "481681e2cd374fbcbc490a66ee99d69a": {
      "model_module": "@jupyter-widgets/controls",
      "model_module_version": "2.0.0",
      "model_name": "HTMLModel",
      "state": {
       "layout": "IPY_MODEL_7d64176e0c784144a172167d8f5ff7a7",
       "style": "IPY_MODEL_13f96da8cd36478884accc835c22f4c1",
       "value": " 213k/213k [00:00&lt;00:00, 620kB/s]"
      }
     },
     "487d2182d5bb4a248713c70b7bff1739": {
      "model_module": "@jupyter-widgets/base",
      "model_module_version": "2.0.0",
      "model_name": "LayoutModel",
      "state": {}
     },
     "4924a35f6cc74cb986ef716fe060eb90": {
      "model_module": "@jupyter-widgets/base",
      "model_module_version": "2.0.0",
      "model_name": "LayoutModel",
      "state": {}
     },
     "4ac68ec8cb5e4890ba9f5e7a21c8eb08": {
      "model_module": "@jupyter-widgets/base",
      "model_module_version": "2.0.0",
      "model_name": "LayoutModel",
      "state": {}
     },
     "4ae251851fca41eda3f75ae571d1dad3": {
      "model_module": "@jupyter-widgets/controls",
      "model_module_version": "2.0.0",
      "model_name": "HTMLModel",
      "state": {
       "layout": "IPY_MODEL_cb256292572942ceaf5a35daca52c276",
       "style": "IPY_MODEL_4808011dcd8947b6befeded6bd7c2002",
       "value": "vocab.json: 100%"
      }
     },
     "4b0383717a3b4b50a72e55aa30fb078b": {
      "model_module": "@jupyter-widgets/base",
      "model_module_version": "2.0.0",
      "model_name": "LayoutModel",
      "state": {}
     },
     "4c5b2e9f5b4f44e78f0403a601ded429": {
      "model_module": "@jupyter-widgets/base",
      "model_module_version": "2.0.0",
      "model_name": "LayoutModel",
      "state": {}
     },
     "4c69cd46cd224fe49c07e0bcbb7e0a01": {
      "model_module": "@jupyter-widgets/controls",
      "model_module_version": "2.0.0",
      "model_name": "HTMLStyleModel",
      "state": {
       "description_width": "",
       "font_size": null,
       "text_color": null
      }
     },
     "4cc306e134ca41a5a6b7b4e5a9c94abf": {
      "model_module": "@jupyter-widgets/controls",
      "model_module_version": "2.0.0",
      "model_name": "HTMLStyleModel",
      "state": {
       "description_width": "",
       "font_size": null,
       "text_color": null
      }
     },
     "4e376ef05cd94c9484c364946f0d54f1": {
      "model_module": "@jupyter-widgets/controls",
      "model_module_version": "2.0.0",
      "model_name": "FloatProgressModel",
      "state": {
       "bar_style": "success",
       "layout": "IPY_MODEL_5c67ba03cd3747629fe10f8ec873c522",
       "max": 25,
       "style": "IPY_MODEL_67159a54c5654730ac6f95a81c1e176f",
       "value": 25
      }
     },
     "4f3a6cf32dfe493a97feeac15cadb36a": {
      "model_module": "@jupyter-widgets/controls",
      "model_module_version": "2.0.0",
      "model_name": "HTMLStyleModel",
      "state": {
       "description_width": "",
       "font_size": null,
       "text_color": null
      }
     },
     "516fce8e2284417495b192da5d9ea1e7": {
      "model_module": "@jupyter-widgets/controls",
      "model_module_version": "2.0.0",
      "model_name": "HTMLStyleModel",
      "state": {
       "description_width": "",
       "font_size": null,
       "text_color": null
      }
     },
     "51b1b0b2f4b342f1a826276ae9ab18ab": {
      "model_module": "@jupyter-widgets/controls",
      "model_module_version": "2.0.0",
      "model_name": "FloatProgressModel",
      "state": {
       "bar_style": "success",
       "layout": "IPY_MODEL_3f53c24d264f4279bd99d410c2a336c6",
       "max": 331055963,
       "style": "IPY_MODEL_f88f98dc90454451b6158f93297af55e",
       "value": 331055963
      }
     },
     "51d3b8db7ac54fbca7fe97d063b54642": {
      "model_module": "@jupyter-widgets/controls",
      "model_module_version": "2.0.0",
      "model_name": "FloatProgressModel",
      "state": {
       "bar_style": "success",
       "layout": "IPY_MODEL_a2051cf7c0b647fa9090bfee6e2847dc",
       "max": 435797,
       "style": "IPY_MODEL_4229273bcf2e43e99fa38abe382c760c",
       "value": 435797
      }
     },
     "526cf54152044cd4b535cb70707aa423": {
      "model_module": "@jupyter-widgets/base",
      "model_module_version": "2.0.0",
      "model_name": "LayoutModel",
      "state": {}
     },
     "527704178337455ba868cf4007a786d1": {
      "model_module": "@jupyter-widgets/base",
      "model_module_version": "2.0.0",
      "model_name": "LayoutModel",
      "state": {}
     },
     "52ed97e37f204280ba8b63721414f3e4": {
      "model_module": "@jupyter-widgets/controls",
      "model_module_version": "2.0.0",
      "model_name": "HBoxModel",
      "state": {
       "children": [
        "IPY_MODEL_107b965bd76646c4b71ff9dd0d9ddcf6",
        "IPY_MODEL_f95c017eaaab4a42bd006d939b309068",
        "IPY_MODEL_9a44f11698fb4d9883d3fb4ba30da880"
       ],
       "layout": "IPY_MODEL_5c19b746e47f453b9697077602612c43"
      }
     },
     "53bf4c416268470ca1927dac80b975c2": {
      "model_module": "@jupyter-widgets/base",
      "model_module_version": "2.0.0",
      "model_name": "LayoutModel",
      "state": {}
     },
     "54335f7882cc4f46acab6d1d7f2bcc86": {
      "model_module": "@jupyter-widgets/controls",
      "model_module_version": "2.0.0",
      "model_name": "HTMLStyleModel",
      "state": {
       "description_width": "",
       "font_size": null,
       "text_color": null
      }
     },
     "54933a31f1c842fba34b2cc0bce780a4": {
      "model_module": "@jupyter-widgets/controls",
      "model_module_version": "2.0.0",
      "model_name": "HTMLStyleModel",
      "state": {
       "description_width": "",
       "font_size": null,
       "text_color": null
      }
     },
     "5768979c03504b6d968bdfc98f2bc7f5": {
      "model_module": "@jupyter-widgets/base",
      "model_module_version": "2.0.0",
      "model_name": "LayoutModel",
      "state": {}
     },
     "58a3ba27c58f4e73bcda8675c5004259": {
      "model_module": "@jupyter-widgets/controls",
      "model_module_version": "2.0.0",
      "model_name": "HBoxModel",
      "state": {
       "children": [
        "IPY_MODEL_acc6de8bf87b46178e2973705723e7ce",
        "IPY_MODEL_3030b62f086c48b68fe8de49fbcf01c1",
        "IPY_MODEL_a893e4996ff4450daf3c06168a096dca"
       ],
       "layout": "IPY_MODEL_78383e68ad5144ffb9eb582f3f3d9339"
      }
     },
     "5a8c3441877341719ff611022adac6d5": {
      "model_module": "@jupyter-widgets/controls",
      "model_module_version": "2.0.0",
      "model_name": "ProgressStyleModel",
      "state": {
       "description_width": ""
      }
     },
     "5ad5904d808345d288dc16fa26cc85a2": {
      "model_module": "@jupyter-widgets/controls",
      "model_module_version": "2.0.0",
      "model_name": "FloatProgressModel",
      "state": {
       "bar_style": "success",
       "layout": "IPY_MODEL_762ddf567bbc44e0b09a2bfe7d02206f",
       "max": 456318,
       "style": "IPY_MODEL_c1de39424a214421acdc40744904a0a7",
       "value": 456318
      }
     },
     "5b5d463c9b834d428deca6530a6c3f51": {
      "model_module": "@jupyter-widgets/base",
      "model_module_version": "2.0.0",
      "model_name": "LayoutModel",
      "state": {}
     },
     "5b817acd4fe84e8798975cd736d6a3b4": {
      "model_module": "@jupyter-widgets/base",
      "model_module_version": "2.0.0",
      "model_name": "LayoutModel",
      "state": {}
     },
     "5c19b746e47f453b9697077602612c43": {
      "model_module": "@jupyter-widgets/base",
      "model_module_version": "2.0.0",
      "model_name": "LayoutModel",
      "state": {}
     },
     "5c47cbb6c96148e397d6ade2840b5b77": {
      "model_module": "@jupyter-widgets/controls",
      "model_module_version": "2.0.0",
      "model_name": "HTMLStyleModel",
      "state": {
       "description_width": "",
       "font_size": null,
       "text_color": null
      }
     },
     "5c67ba03cd3747629fe10f8ec873c522": {
      "model_module": "@jupyter-widgets/base",
      "model_module_version": "2.0.0",
      "model_name": "LayoutModel",
      "state": {}
     },
     "5de19caa0faa42f5bfc8378e50051f2d": {
      "model_module": "@jupyter-widgets/controls",
      "model_module_version": "2.0.0",
      "model_name": "HBoxModel",
      "state": {
       "children": [
        "IPY_MODEL_4ae251851fca41eda3f75ae571d1dad3",
        "IPY_MODEL_6b9ea23a5d424534b5a91c2e65ac768c",
        "IPY_MODEL_784d2cc42ed8405bb62977c3ed4d8801"
       ],
       "layout": "IPY_MODEL_53bf4c416268470ca1927dac80b975c2"
      }
     },
     "5e02fc1c5bb84331b151520799ed3e92": {
      "model_module": "@jupyter-widgets/controls",
      "model_module_version": "2.0.0",
      "model_name": "HTMLModel",
      "state": {
       "layout": "IPY_MODEL_79d7bba2df4842d49daa2dbf9c299d34",
       "style": "IPY_MODEL_f85762fa13a24e9ab07da57f60350241",
       "value": "config.json: 100%"
      }
     },
     "5e3f88ff0f924f44957caeea8c69eac9": {
      "model_module": "@jupyter-widgets/controls",
      "model_module_version": "2.0.0",
      "model_name": "ProgressStyleModel",
      "state": {
       "description_width": ""
      }
     },
     "5ecb7d36428e4eb182d2a8f1b1718617": {
      "model_module": "@jupyter-widgets/controls",
      "model_module_version": "2.0.0",
      "model_name": "ProgressStyleModel",
      "state": {
       "description_width": ""
      }
     },
     "5edc5ff6cb914e9ea7b32cc20729f6f6": {
      "model_module": "@jupyter-widgets/controls",
      "model_module_version": "2.0.0",
      "model_name": "FloatProgressModel",
      "state": {
       "bar_style": "success",
       "layout": "IPY_MODEL_cabdee83969d44b0b96940560f2637b7",
       "max": 231508,
       "style": "IPY_MODEL_67916ebc214b425a9f9c0f22f992fc45",
       "value": 231508
      }
     },
     "5f315ba96a99424c977d210052d4e27c": {
      "model_module": "@jupyter-widgets/base",
      "model_module_version": "2.0.0",
      "model_name": "LayoutModel",
      "state": {}
     },
     "60421f1c32f64fa0aed8285b523e940a": {
      "model_module": "@jupyter-widgets/controls",
      "model_module_version": "2.0.0",
      "model_name": "FloatProgressModel",
      "state": {
       "bar_style": "success",
       "layout": "IPY_MODEL_4424e346f28241bbafb6a86440fa502d",
       "max": 688,
       "style": "IPY_MODEL_bcfc3c52edfb40bcbba22eaa0cbfbedd",
       "value": 688
      }
     },
     "619145c3deab44529997701090b5f4f1": {
      "model_module": "@jupyter-widgets/controls",
      "model_module_version": "2.0.0",
      "model_name": "HTMLStyleModel",
      "state": {
       "description_width": "",
       "font_size": null,
       "text_color": null
      }
     },
     "61d870792367417fa1c9952464d16239": {
      "model_module": "@jupyter-widgets/controls",
      "model_module_version": "2.0.0",
      "model_name": "ProgressStyleModel",
      "state": {
       "description_width": ""
      }
     },
     "61fb5b1945594e759c0e5122c0498469": {
      "model_module": "@jupyter-widgets/controls",
      "model_module_version": "2.0.0",
      "model_name": "HBoxModel",
      "state": {
       "children": [
        "IPY_MODEL_4358476858d54d57a1ae74f8f03d829f",
        "IPY_MODEL_71569c8b003d4c3d80f768bcd5ac0644",
        "IPY_MODEL_6d7b56252b174573913e3655a2ff1b8a"
       ],
       "layout": "IPY_MODEL_ab19758b028e431eb022849c784ceeba"
      }
     },
     "6214a4bae4a14bdbb779451b79744a79": {
      "model_module": "@jupyter-widgets/controls",
      "model_module_version": "2.0.0",
      "model_name": "HTMLModel",
      "state": {
       "layout": "IPY_MODEL_b5775a78a3494401bd8189977260a263",
       "style": "IPY_MODEL_15831014322044fa971932abc79f0823",
       "value": " 1.36M/1.36M [00:00&lt;00:00, 1.88MB/s]"
      }
     },
     "62202b0a7e574804b22ffa17b80d7603": {
      "model_module": "@jupyter-widgets/controls",
      "model_module_version": "2.0.0",
      "model_name": "HTMLModel",
      "state": {
       "layout": "IPY_MODEL_31b28fcc56ac4787ac3ab5d5d7fad527",
       "style": "IPY_MODEL_6d4b81b065984361bfae1c73a7628d5a",
       "value": " 261M/261M [00:08&lt;00:00, 31.0MB/s]"
      }
     },
     "6267030a37324dccb796cd6477567289": {
      "model_module": "@jupyter-widgets/controls",
      "model_module_version": "2.0.0",
      "model_name": "HTMLStyleModel",
      "state": {
       "description_width": "",
       "font_size": null,
       "text_color": null
      }
     },
     "63c9c1b3b5ed4fbba655a9bb06180df2": {
      "model_module": "@jupyter-widgets/controls",
      "model_module_version": "2.0.0",
      "model_name": "ProgressStyleModel",
      "state": {
       "description_width": ""
      }
     },
     "6411f1380a1d478bab891f79e24300b2": {
      "model_module": "@jupyter-widgets/controls",
      "model_module_version": "2.0.0",
      "model_name": "HTMLStyleModel",
      "state": {
       "description_width": "",
       "font_size": null,
       "text_color": null
      }
     },
     "6446fa9ac30b4c4488924b1f8780787a": {
      "model_module": "@jupyter-widgets/controls",
      "model_module_version": "2.0.0",
      "model_name": "HTMLModel",
      "state": {
       "layout": "IPY_MODEL_918d13d3c9474fc6bc9ac9006e4eb7f3",
       "style": "IPY_MODEL_7796df66855349b5856ade7e6e28846b",
       "value": "merges.txt: 100%"
      }
     },
     "64a08590fbd14dbfade77ac602470f9e": {
      "model_module": "@jupyter-widgets/base",
      "model_module_version": "2.0.0",
      "model_name": "LayoutModel",
      "state": {}
     },
     "64d9bcdee1dc41ca9e380ca35bb5983e": {
      "model_module": "@jupyter-widgets/controls",
      "model_module_version": "2.0.0",
      "model_name": "ProgressStyleModel",
      "state": {
       "description_width": ""
      }
     },
     "64fcbb22537149049f25bf8321bca033": {
      "model_module": "@jupyter-widgets/controls",
      "model_module_version": "2.0.0",
      "model_name": "HTMLModel",
      "state": {
       "layout": "IPY_MODEL_804aed00b32b43b49e04ed54e246d23b",
       "style": "IPY_MODEL_9ef8eeeaf77a48658663b902e5c99af8",
       "value": "vocab.json: 100%"
      }
     },
     "6703d94eefaf4ed28bef789cae75d20f": {
      "model_module": "@jupyter-widgets/controls",
      "model_module_version": "2.0.0",
      "model_name": "HTMLStyleModel",
      "state": {
       "description_width": "",
       "font_size": null,
       "text_color": null
      }
     },
     "670a036c91134759a63e95005773dbe4": {
      "model_module": "@jupyter-widgets/base",
      "model_module_version": "2.0.0",
      "model_name": "LayoutModel",
      "state": {}
     },
     "67159a54c5654730ac6f95a81c1e176f": {
      "model_module": "@jupyter-widgets/controls",
      "model_module_version": "2.0.0",
      "model_name": "ProgressStyleModel",
      "state": {
       "description_width": ""
      }
     },
     "67916ebc214b425a9f9c0f22f992fc45": {
      "model_module": "@jupyter-widgets/controls",
      "model_module_version": "2.0.0",
      "model_name": "ProgressStyleModel",
      "state": {
       "description_width": ""
      }
     },
     "684efa21e21e449097e812c2f78f7c45": {
      "model_module": "@jupyter-widgets/base",
      "model_module_version": "2.0.0",
      "model_name": "LayoutModel",
      "state": {}
     },
     "68798b6d3e754c15bfa7efa9871a93d7": {
      "model_module": "@jupyter-widgets/controls",
      "model_module_version": "2.0.0",
      "model_name": "HTMLModel",
      "state": {
       "layout": "IPY_MODEL_03b92effeb644607973c645d15a7b39f",
       "style": "IPY_MODEL_8367f870eacf436ea53fd57fb4e4bdbd",
       "value": " 331M/331M [00:09&lt;00:00, 29.8MB/s]"
      }
     },
     "68aa4e9a3e134fd597ccf2c03031c11e": {
      "model_module": "@jupyter-widgets/controls",
      "model_module_version": "2.0.0",
      "model_name": "HBoxModel",
      "state": {
       "children": [
        "IPY_MODEL_a774bd2103a34dc186fab08bb24c149e",
        "IPY_MODEL_5edc5ff6cb914e9ea7b32cc20729f6f6",
        "IPY_MODEL_0e7cd54e32d144f3adec87610c09fcc7"
       ],
       "layout": "IPY_MODEL_6fd59d5feaef4db78dcaed427f4ddfa2"
      }
     },
     "6b9ea23a5d424534b5a91c2e65ac768c": {
      "model_module": "@jupyter-widgets/controls",
      "model_module_version": "2.0.0",
      "model_name": "FloatProgressModel",
      "state": {
       "bar_style": "success",
       "layout": "IPY_MODEL_4c5b2e9f5b4f44e78f0403a601ded429",
       "max": 898823,
       "style": "IPY_MODEL_f02bd84d5c394288b24a4b4d3938947c",
       "value": 898823
      }
     },
     "6cc07faaf3574792a72d9d9080a3e034": {
      "model_module": "@jupyter-widgets/base",
      "model_module_version": "2.0.0",
      "model_name": "LayoutModel",
      "state": {}
     },
     "6d4762578c4043d9a47aa601056fbe2e": {
      "model_module": "@jupyter-widgets/base",
      "model_module_version": "2.0.0",
      "model_name": "LayoutModel",
      "state": {}
     },
     "6d4b81b065984361bfae1c73a7628d5a": {
      "model_module": "@jupyter-widgets/controls",
      "model_module_version": "2.0.0",
      "model_name": "HTMLStyleModel",
      "state": {
       "description_width": "",
       "font_size": null,
       "text_color": null
      }
     },
     "6d7b56252b174573913e3655a2ff1b8a": {
      "model_module": "@jupyter-widgets/controls",
      "model_module_version": "2.0.0",
      "model_name": "HTMLModel",
      "state": {
       "layout": "IPY_MODEL_d968b4037ae74bb78afb550d5866d10c",
       "style": "IPY_MODEL_37f1bce9da16491baf8e687955050aa7",
       "value": " 1.36M/1.36M [00:00&lt;00:00, 1.97MB/s]"
      }
     },
     "6dda90e085ec476e9e9c8f2e3c0dbc2e": {
      "model_module": "@jupyter-widgets/controls",
      "model_module_version": "2.0.0",
      "model_name": "FloatProgressModel",
      "state": {
       "bar_style": "success",
       "layout": "IPY_MODEL_a1c7f2d69be643a89791850ed1240d19",
       "max": 49,
       "style": "IPY_MODEL_e8bd70657ca843d9967c679fb35aa8dc",
       "value": 49
      }
     },
     "6e5a50b8dacc4a1789e9bc05a16595cc": {
      "model_module": "@jupyter-widgets/controls",
      "model_module_version": "2.0.0",
      "model_name": "HTMLStyleModel",
      "state": {
       "description_width": "",
       "font_size": null,
       "text_color": null
      }
     },
     "6e7e8df80b7d475b9e537e538a47cc27": {
      "model_module": "@jupyter-widgets/base",
      "model_module_version": "2.0.0",
      "model_name": "LayoutModel",
      "state": {}
     },
     "6eaa25f530774e5e8ebb5efdd03ad659": {
      "model_module": "@jupyter-widgets/controls",
      "model_module_version": "2.0.0",
      "model_name": "HBoxModel",
      "state": {
       "children": [
        "IPY_MODEL_10b9a602527e4b76a3ff398381133052",
        "IPY_MODEL_e8047d2bfcfe4c7c998416af2f8d199d",
        "IPY_MODEL_c1933df53f5d43bdaded9e1d825bbfd2"
       ],
       "layout": "IPY_MODEL_7465965569874f1889afa9c6140512bd"
      }
     },
     "6fd59d5feaef4db78dcaed427f4ddfa2": {
      "model_module": "@jupyter-widgets/base",
      "model_module_version": "2.0.0",
      "model_name": "LayoutModel",
      "state": {}
     },
     "7022664df9324f2ea983bda5bdbec2dd": {
      "model_module": "@jupyter-widgets/controls",
      "model_module_version": "2.0.0",
      "model_name": "ProgressStyleModel",
      "state": {
       "description_width": ""
      }
     },
     "71569c8b003d4c3d80f768bcd5ac0644": {
      "model_module": "@jupyter-widgets/controls",
      "model_module_version": "2.0.0",
      "model_name": "FloatProgressModel",
      "state": {
       "bar_style": "success",
       "layout": "IPY_MODEL_09a3806e5265436dbd73e387b977573a",
       "max": 1355863,
       "style": "IPY_MODEL_5a8c3441877341719ff611022adac6d5",
       "value": 1355863
      }
     },
     "724ff5329bf84ec2a78493b32ffbcfa0": {
      "model_module": "@jupyter-widgets/base",
      "model_module_version": "2.0.0",
      "model_name": "LayoutModel",
      "state": {}
     },
     "73ef13b44af14dc698dbcd20593524b1": {
      "model_module": "@jupyter-widgets/base",
      "model_module_version": "2.0.0",
      "model_name": "LayoutModel",
      "state": {}
     },
     "7465965569874f1889afa9c6140512bd": {
      "model_module": "@jupyter-widgets/base",
      "model_module_version": "2.0.0",
      "model_name": "LayoutModel",
      "state": {}
     },
     "762ddf567bbc44e0b09a2bfe7d02206f": {
      "model_module": "@jupyter-widgets/base",
      "model_module_version": "2.0.0",
      "model_name": "LayoutModel",
      "state": {}
     },
     "7796df66855349b5856ade7e6e28846b": {
      "model_module": "@jupyter-widgets/controls",
      "model_module_version": "2.0.0",
      "model_name": "HTMLStyleModel",
      "state": {
       "description_width": "",
       "font_size": null,
       "text_color": null
      }
     },
     "78383e68ad5144ffb9eb582f3f3d9339": {
      "model_module": "@jupyter-widgets/base",
      "model_module_version": "2.0.0",
      "model_name": "LayoutModel",
      "state": {}
     },
     "784d2cc42ed8405bb62977c3ed4d8801": {
      "model_module": "@jupyter-widgets/controls",
      "model_module_version": "2.0.0",
      "model_name": "HTMLModel",
      "state": {
       "layout": "IPY_MODEL_4924a35f6cc74cb986ef716fe060eb90",
       "style": "IPY_MODEL_3409e79c4aee477b9d69ccd4d5c9fc61",
       "value": " 899k/899k [00:00&lt;00:00, 2.59MB/s]"
      }
     },
     "78e3c0cfff8a40c4801df508d5a870db": {
      "model_module": "@jupyter-widgets/controls",
      "model_module_version": "2.0.0",
      "model_name": "HTMLStyleModel",
      "state": {
       "description_width": "",
       "font_size": null,
       "text_color": null
      }
     },
     "79a60cc939534464a4c8ec326e109c1a": {
      "model_module": "@jupyter-widgets/base",
      "model_module_version": "2.0.0",
      "model_name": "LayoutModel",
      "state": {}
     },
     "79d7bba2df4842d49daa2dbf9c299d34": {
      "model_module": "@jupyter-widgets/base",
      "model_module_version": "2.0.0",
      "model_name": "LayoutModel",
      "state": {}
     },
     "7a4e5ca7a4b943e7877c67b6ba025e18": {
      "model_module": "@jupyter-widgets/controls",
      "model_module_version": "2.0.0",
      "model_name": "FloatProgressModel",
      "state": {
       "bar_style": "success",
       "layout": "IPY_MODEL_dfd5c186e536480883b6a0eac0651945",
       "max": 548105171,
       "style": "IPY_MODEL_26860d0fc52f4d4ebdfa51437a27283c",
       "value": 548105171
      }
     },
     "7a5b27813921448f95cf9d75e4a77500": {
      "model_module": "@jupyter-widgets/controls",
      "model_module_version": "2.0.0",
      "model_name": "HTMLStyleModel",
      "state": {
       "description_width": "",
       "font_size": null,
       "text_color": null
      }
     },
     "7ba8491a62c14646a0ae196cc8fec02f": {
      "model_module": "@jupyter-widgets/base",
      "model_module_version": "2.0.0",
      "model_name": "LayoutModel",
      "state": {}
     },
     "7c02dfc94383481c8aa55f26cdf53fa2": {
      "model_module": "@jupyter-widgets/controls",
      "model_module_version": "2.0.0",
      "model_name": "HTMLStyleModel",
      "state": {
       "description_width": "",
       "font_size": null,
       "text_color": null
      }
     },
     "7cd896c6c46840219e7658ec6a5b202e": {
      "model_module": "@jupyter-widgets/controls",
      "model_module_version": "2.0.0",
      "model_name": "FloatProgressModel",
      "state": {
       "bar_style": "success",
       "layout": "IPY_MODEL_a79563e3dba846cba60853a547b65fb1",
       "max": 25,
       "style": "IPY_MODEL_8239dbcb0b5043888794f6e770cd2072",
       "value": 25
      }
     },
     "7d64176e0c784144a172167d8f5ff7a7": {
      "model_module": "@jupyter-widgets/base",
      "model_module_version": "2.0.0",
      "model_name": "LayoutModel",
      "state": {}
     },
     "7e15743edfd44ae39242b8f980dfdd77": {
      "model_module": "@jupyter-widgets/base",
      "model_module_version": "2.0.0",
      "model_name": "LayoutModel",
      "state": {}
     },
     "7e38d71ed41d401ea77742bc17adadeb": {
      "model_module": "@jupyter-widgets/controls",
      "model_module_version": "2.0.0",
      "model_name": "HTMLModel",
      "state": {
       "layout": "IPY_MODEL_cc35eb1486004cecb4aa5a3ade9b08dd",
       "style": "IPY_MODEL_d16cf65d87384380ba530b7bbece7481",
       "value": "vocab.txt: 100%"
      }
     },
     "7e7c24c9309249719eae0223112c6223": {
      "model_module": "@jupyter-widgets/controls",
      "model_module_version": "2.0.0",
      "model_name": "ProgressStyleModel",
      "state": {
       "description_width": ""
      }
     },
     "7fc5421e6af348e18511b11060894ddc": {
      "model_module": "@jupyter-widgets/controls",
      "model_module_version": "2.0.0",
      "model_name": "HTMLModel",
      "state": {
       "layout": "IPY_MODEL_d9ea4a6c4e4c41d39e03a2028792b865",
       "style": "IPY_MODEL_a65a898609c246bb83c78c890735576b",
       "value": " 60.0/60.0 [00:00&lt;00:00, 1.71kB/s]"
      }
     },
     "7fd74b24ba6a44769745481fdc37cf52": {
      "model_module": "@jupyter-widgets/base",
      "model_module_version": "2.0.0",
      "model_name": "LayoutModel",
      "state": {}
     },
     "804aed00b32b43b49e04ed54e246d23b": {
      "model_module": "@jupyter-widgets/base",
      "model_module_version": "2.0.0",
      "model_name": "LayoutModel",
      "state": {}
     },
     "8209f49f8d0a49fe9610a429a42686e4": {
      "model_module": "@jupyter-widgets/controls",
      "model_module_version": "2.0.0",
      "model_name": "FloatProgressModel",
      "state": {
       "bar_style": "success",
       "layout": "IPY_MODEL_952d218b286e47f3b60156d7536c512e",
       "max": 1042301,
       "style": "IPY_MODEL_adde76bb8c1a44169de1a220c6e933d1",
       "value": 1042301
      }
     },
     "8239dbcb0b5043888794f6e770cd2072": {
      "model_module": "@jupyter-widgets/controls",
      "model_module_version": "2.0.0",
      "model_name": "ProgressStyleModel",
      "state": {
       "description_width": ""
      }
     },
     "8367f870eacf436ea53fd57fb4e4bdbd": {
      "model_module": "@jupyter-widgets/controls",
      "model_module_version": "2.0.0",
      "model_name": "HTMLStyleModel",
      "state": {
       "description_width": "",
       "font_size": null,
       "text_color": null
      }
     },
     "85ea9c0a1c0241968fd5f2beaaa3d2ee": {
      "model_module": "@jupyter-widgets/controls",
      "model_module_version": "2.0.0",
      "model_name": "ProgressStyleModel",
      "state": {
       "description_width": ""
      }
     },
     "8675e0d418504e50b82b47fdaf433205": {
      "model_module": "@jupyter-widgets/controls",
      "model_module_version": "2.0.0",
      "model_name": "HTMLModel",
      "state": {
       "layout": "IPY_MODEL_7fd74b24ba6a44769745481fdc37cf52",
       "style": "IPY_MODEL_eb96bef4a3974901971bb8c4fc534b7a",
       "value": "model.safetensors: 100%"
      }
     },
     "868f35caea414cad9b32c2238979af97": {
      "model_module": "@jupyter-widgets/controls",
      "model_module_version": "2.0.0",
      "model_name": "HBoxModel",
      "state": {
       "children": [
        "IPY_MODEL_64fcbb22537149049f25bf8321bca033",
        "IPY_MODEL_8209f49f8d0a49fe9610a429a42686e4",
        "IPY_MODEL_3877baeb0c9c4f8d8c53fb9182df0554"
       ],
       "layout": "IPY_MODEL_4ac68ec8cb5e4890ba9f5e7a21c8eb08"
      }
     },
     "86f357e6b2374da7bd107d83841b7704": {
      "model_module": "@jupyter-widgets/base",
      "model_module_version": "2.0.0",
      "model_name": "LayoutModel",
      "state": {}
     },
     "8798282be65241c1b3011912fa212943": {
      "model_module": "@jupyter-widgets/base",
      "model_module_version": "2.0.0",
      "model_name": "LayoutModel",
      "state": {}
     },
     "87b198afee744f8f944ec036dc03f8ab": {
      "model_module": "@jupyter-widgets/controls",
      "model_module_version": "2.0.0",
      "model_name": "HTMLModel",
      "state": {
       "layout": "IPY_MODEL_f3f8f63aee30414abb3cb566abea7408",
       "style": "IPY_MODEL_2df4698bd56d4d749752cdf184ae0a43",
       "value": " 688/688 [00:00&lt;00:00, 20.2kB/s]"
      }
     },
     "880fbef5fb3c4d2c821b32833a6d2cc7": {
      "model_module": "@jupyter-widgets/base",
      "model_module_version": "2.0.0",
      "model_name": "LayoutModel",
      "state": {}
     },
     "8879afc4b3e94c829df9d18cf45a821b": {
      "model_module": "@jupyter-widgets/base",
      "model_module_version": "2.0.0",
      "model_name": "LayoutModel",
      "state": {}
     },
     "88f836ef28234ea789dfa8dbf41fc728": {
      "model_module": "@jupyter-widgets/controls",
      "model_module_version": "2.0.0",
      "model_name": "FloatProgressModel",
      "state": {
       "bar_style": "success",
       "layout": "IPY_MODEL_d313fd3061714e3da4de89e66b5a2aa8",
       "max": 1355863,
       "style": "IPY_MODEL_c5b191ca3a5f4695ab7522401e643203",
       "value": 1355863
      }
     },
     "8968c7653cdf42048f33e917e2c4b016": {
      "model_module": "@jupyter-widgets/controls",
      "model_module_version": "2.0.0",
      "model_name": "FloatProgressModel",
      "state": {
       "bar_style": "success",
       "layout": "IPY_MODEL_ee041adca1d345d594426a5611f91f91",
       "max": 1425698116,
       "style": "IPY_MODEL_5ecb7d36428e4eb182d2a8f1b1718617",
       "value": 1425698116
      }
     },
     "89be7d996a304ccfaa9a4af6a510e45e": {
      "model_module": "@jupyter-widgets/base",
      "model_module_version": "2.0.0",
      "model_name": "LayoutModel",
      "state": {}
     },
     "8a03ea259d214917b7c6a8c0e9047e6e": {
      "model_module": "@jupyter-widgets/controls",
      "model_module_version": "2.0.0",
      "model_name": "HTMLModel",
      "state": {
       "layout": "IPY_MODEL_bf2b3120c87943bfa3c8a8f1d3d422cb",
       "style": "IPY_MODEL_b484e7237cc04ccba0fee74ef678fffc",
       "value": "config.json: 100%"
      }
     },
     "8af00b0bce824d468329170b52727df0": {
      "model_module": "@jupyter-widgets/controls",
      "model_module_version": "2.0.0",
      "model_name": "HTMLModel",
      "state": {
       "layout": "IPY_MODEL_4b0383717a3b4b50a72e55aa30fb078b",
       "style": "IPY_MODEL_5c47cbb6c96148e397d6ade2840b5b77",
       "value": "model.safetensors: 100%"
      }
     },
     "8e2d2c42b82040ab9d466c11ed8b1f6e": {
      "model_module": "@jupyter-widgets/controls",
      "model_module_version": "2.0.0",
      "model_name": "HTMLModel",
      "state": {
       "layout": "IPY_MODEL_08ff2f8d0cb54fceb4207e31e38f2a5d",
       "style": "IPY_MODEL_78e3c0cfff8a40c4801df508d5a870db",
       "value": "vocab.txt: 100%"
      }
     },
     "8fd3d06c493044e19e4927fd221e19f3": {
      "model_module": "@jupyter-widgets/base",
      "model_module_version": "2.0.0",
      "model_name": "LayoutModel",
      "state": {}
     },
     "90a6858655b94e659c5e33d4033b2d63": {
      "model_module": "@jupyter-widgets/base",
      "model_module_version": "2.0.0",
      "model_name": "LayoutModel",
      "state": {}
     },
     "918d13d3c9474fc6bc9ac9006e4eb7f3": {
      "model_module": "@jupyter-widgets/base",
      "model_module_version": "2.0.0",
      "model_name": "LayoutModel",
      "state": {}
     },
     "91f131f554d44c768ec5eba2494fe5cc": {
      "model_module": "@jupyter-widgets/controls",
      "model_module_version": "2.0.0",
      "model_name": "HBoxModel",
      "state": {
       "children": [
        "IPY_MODEL_93efc347773d4fdeb54ddf90ac807570",
        "IPY_MODEL_9948164e2a03446a9a4326cd76c7a8d6",
        "IPY_MODEL_4029f6f85248471b8fab95acb4484b1f"
       ],
       "layout": "IPY_MODEL_f5919242130146709b2a0755671ce8c9"
      }
     },
     "936e08ba5a7148299dac404b2d95e33d": {
      "model_module": "@jupyter-widgets/controls",
      "model_module_version": "2.0.0",
      "model_name": "HTMLModel",
      "state": {
       "layout": "IPY_MODEL_5f315ba96a99424c977d210052d4e27c",
       "style": "IPY_MODEL_54335f7882cc4f46acab6d1d7f2bcc86",
       "value": "config.json: 100%"
      }
     },
     "9388604d91f84268a685d6b5c37d8565": {
      "model_module": "@jupyter-widgets/controls",
      "model_module_version": "2.0.0",
      "model_name": "HTMLModel",
      "state": {
       "layout": "IPY_MODEL_3a1b982fb8fc487089ed4f4c3236f5f5",
       "style": "IPY_MODEL_6703d94eefaf4ed28bef789cae75d20f",
       "value": " 25.0/25.0 [00:00&lt;00:00, 245B/s]"
      }
     },
     "93e21302b4874971bd539a25fe9c3344": {
      "model_module": "@jupyter-widgets/controls",
      "model_module_version": "2.0.0",
      "model_name": "HTMLStyleModel",
      "state": {
       "description_width": "",
       "font_size": null,
       "text_color": null
      }
     },
     "93efc347773d4fdeb54ddf90ac807570": {
      "model_module": "@jupyter-widgets/controls",
      "model_module_version": "2.0.0",
      "model_name": "HTMLModel",
      "state": {
       "layout": "IPY_MODEL_5768979c03504b6d968bdfc98f2bc7f5",
       "style": "IPY_MODEL_135c0443b99146bb92c60879bbe5223b",
       "value": "tokenizer_config.json: 100%"
      }
     },
     "952d218b286e47f3b60156d7536c512e": {
      "model_module": "@jupyter-widgets/base",
      "model_module_version": "2.0.0",
      "model_name": "LayoutModel",
      "state": {}
     },
     "959c0084c9014da6b46812862dc3b31f": {
      "model_module": "@jupyter-widgets/controls",
      "model_module_version": "2.0.0",
      "model_name": "HTMLModel",
      "state": {
       "layout": "IPY_MODEL_9a7608263cea4eb885b56d8c2154dc46",
       "style": "IPY_MODEL_46d3cb98927a4f45ac4063f9274885d8",
       "value": " 899k/899k [00:00&lt;00:00, 2.42MB/s]"
      }
     },
     "965febb2de104ed983e51c140a9e1029": {
      "model_module": "@jupyter-widgets/controls",
      "model_module_version": "2.0.0",
      "model_name": "HTMLStyleModel",
      "state": {
       "description_width": "",
       "font_size": null,
       "text_color": null
      }
     },
     "972abd38905048bcab4b1f6d26ed7d02": {
      "model_module": "@jupyter-widgets/controls",
      "model_module_version": "2.0.0",
      "model_name": "HBoxModel",
      "state": {
       "children": [
        "IPY_MODEL_b2b685de028d4cae903acdab3d26bbae",
        "IPY_MODEL_ea1d0321b6a542b9878a7145f9bf1abf",
        "IPY_MODEL_959c0084c9014da6b46812862dc3b31f"
       ],
       "layout": "IPY_MODEL_babc9357cde74941ae9eda218b84c441"
      }
     },
     "98f3f649ceb54f68a81355323a9ca8ee": {
      "model_module": "@jupyter-widgets/base",
      "model_module_version": "2.0.0",
      "model_name": "LayoutModel",
      "state": {}
     },
     "9948164e2a03446a9a4326cd76c7a8d6": {
      "model_module": "@jupyter-widgets/controls",
      "model_module_version": "2.0.0",
      "model_name": "FloatProgressModel",
      "state": {
       "bar_style": "success",
       "layout": "IPY_MODEL_169a727b9f1d499e813b7d5c459af9f8",
       "max": 48,
       "style": "IPY_MODEL_caf2d1abafbb4ebaa2a4b149cd1ecc92",
       "value": 48
      }
     },
     "996f0c4d1d8744cdbdb434e625718ca5": {
      "model_module": "@jupyter-widgets/base",
      "model_module_version": "2.0.0",
      "model_name": "LayoutModel",
      "state": {}
     },
     "99ece1b61ccc410992e956d716ad09ba": {
      "model_module": "@jupyter-widgets/controls",
      "model_module_version": "2.0.0",
      "model_name": "HTMLModel",
      "state": {
       "layout": "IPY_MODEL_89be7d996a304ccfaa9a4af6a510e45e",
       "style": "IPY_MODEL_4091fc2d230f4ed280138d0315990d6e",
       "value": "tokenizer_config.json: 100%"
      }
     },
     "9a44f11698fb4d9883d3fb4ba30da880": {
      "model_module": "@jupyter-widgets/controls",
      "model_module_version": "2.0.0",
      "model_name": "HTMLModel",
      "state": {
       "layout": "IPY_MODEL_880fbef5fb3c4d2c821b32833a6d2cc7",
       "style": "IPY_MODEL_eb5c9bc1c372470f9662048981636f75",
       "value": " 52.4M/331M [14:19&lt;00:11, 23.8MB/s]"
      }
     },
     "9a7608263cea4eb885b56d8c2154dc46": {
      "model_module": "@jupyter-widgets/base",
      "model_module_version": "2.0.0",
      "model_name": "LayoutModel",
      "state": {}
     },
     "9b92cb86a1664e9cbc8d10966eb9c226": {
      "model_module": "@jupyter-widgets/base",
      "model_module_version": "2.0.0",
      "model_name": "LayoutModel",
      "state": {}
     },
     "9ce1a12f25244b3cb33dd0025361a8ec": {
      "model_module": "@jupyter-widgets/controls",
      "model_module_version": "2.0.0",
      "model_name": "HTMLModel",
      "state": {
       "layout": "IPY_MODEL_34917b7cad0947dead43014afca9e015",
       "style": "IPY_MODEL_9e674bb3f6cf41fe864c0f88c0366e4b",
       "value": "config.json: 100%"
      }
     },
     "9e674bb3f6cf41fe864c0f88c0366e4b": {
      "model_module": "@jupyter-widgets/controls",
      "model_module_version": "2.0.0",
      "model_name": "HTMLStyleModel",
      "state": {
       "description_width": "",
       "font_size": null,
       "text_color": null
      }
     },
     "9ef8eeeaf77a48658663b902e5c99af8": {
      "model_module": "@jupyter-widgets/controls",
      "model_module_version": "2.0.0",
      "model_name": "HTMLStyleModel",
      "state": {
       "description_width": "",
       "font_size": null,
       "text_color": null
      }
     },
     "9fc395abdbf245c8940286a1178e424a": {
      "model_module": "@jupyter-widgets/controls",
      "model_module_version": "2.0.0",
      "model_name": "HTMLModel",
      "state": {
       "layout": "IPY_MODEL_9b92cb86a1664e9cbc8d10966eb9c226",
       "style": "IPY_MODEL_2a23d7cae52e464aa757236b38e1329c",
       "value": "model.safetensors: 100%"
      }
     },
     "a0e24420c0d348bb9b2de269082bc7e4": {
      "model_module": "@jupyter-widgets/controls",
      "model_module_version": "2.0.0",
      "model_name": "HTMLModel",
      "state": {
       "layout": "IPY_MODEL_f27758bb2bd240408fdf99c5f889e9fe",
       "style": "IPY_MODEL_13e1a2387b4a4c938b32686e5697ad7b",
       "value": " 213k/213k [00:00&lt;00:00, 627kB/s]"
      }
     },
     "a1c7f2d69be643a89791850ed1240d19": {
      "model_module": "@jupyter-widgets/base",
      "model_module_version": "2.0.0",
      "model_name": "LayoutModel",
      "state": {}
     },
     "a1ea628793f54aa7ba5992dff212e45e": {
      "model_module": "@jupyter-widgets/controls",
      "model_module_version": "2.0.0",
      "model_name": "ProgressStyleModel",
      "state": {
       "description_width": ""
      }
     },
     "a2051cf7c0b647fa9090bfee6e2847dc": {
      "model_module": "@jupyter-widgets/base",
      "model_module_version": "2.0.0",
      "model_name": "LayoutModel",
      "state": {}
     },
     "a3b7606a5e6b4347a06ee19fc3ebc193": {
      "model_module": "@jupyter-widgets/controls",
      "model_module_version": "2.0.0",
      "model_name": "HTMLStyleModel",
      "state": {
       "description_width": "",
       "font_size": null,
       "text_color": null
      }
     },
     "a50c0df42002430e8436d9b8b83b6272": {
      "model_module": "@jupyter-widgets/base",
      "model_module_version": "2.0.0",
      "model_name": "LayoutModel",
      "state": {}
     },
     "a65a898609c246bb83c78c890735576b": {
      "model_module": "@jupyter-widgets/controls",
      "model_module_version": "2.0.0",
      "model_name": "HTMLStyleModel",
      "state": {
       "description_width": "",
       "font_size": null,
       "text_color": null
      }
     },
     "a69b196a23444e72b1139d9180de2812": {
      "model_module": "@jupyter-widgets/controls",
      "model_module_version": "2.0.0",
      "model_name": "ProgressStyleModel",
      "state": {
       "description_width": ""
      }
     },
     "a6c4ec54a7bc400693917158e02465d6": {
      "model_module": "@jupyter-widgets/controls",
      "model_module_version": "2.0.0",
      "model_name": "HBoxModel",
      "state": {
       "children": [
        "IPY_MODEL_e33c9e796a094b7599546ef1e06a1d75",
        "IPY_MODEL_51d3b8db7ac54fbca7fe97d063b54642",
        "IPY_MODEL_d042e57d1b8c44898bfde1b610edbdf0"
       ],
       "layout": "IPY_MODEL_be08d3bd62c94c9db8db514f359ff845"
      }
     },
     "a774bd2103a34dc186fab08bb24c149e": {
      "model_module": "@jupyter-widgets/controls",
      "model_module_version": "2.0.0",
      "model_name": "HTMLModel",
      "state": {
       "layout": "IPY_MODEL_c5995e70b5234980a75039451656d381",
       "style": "IPY_MODEL_b4de75e8c95e49d69aadcd73703bcbe2",
       "value": "vocab.txt: 100%"
      }
     },
     "a79563e3dba846cba60853a547b65fb1": {
      "model_module": "@jupyter-widgets/base",
      "model_module_version": "2.0.0",
      "model_name": "LayoutModel",
      "state": {}
     },
     "a893e4996ff4450daf3c06168a096dca": {
      "model_module": "@jupyter-widgets/controls",
      "model_module_version": "2.0.0",
      "model_name": "HTMLModel",
      "state": {
       "layout": "IPY_MODEL_670a036c91134759a63e95005773dbe4",
       "style": "IPY_MODEL_e5a92d20d4ad45f093331affa088605e",
       "value": " 268M/268M [00:11&lt;00:00, 20.9MB/s]"
      }
     },
     "aa18631b0c644fd09f189137513ebe17": {
      "model_module": "@jupyter-widgets/controls",
      "model_module_version": "2.0.0",
      "model_name": "HTMLStyleModel",
      "state": {
       "description_width": "",
       "font_size": null,
       "text_color": null
      }
     },
     "ab19758b028e431eb022849c784ceeba": {
      "model_module": "@jupyter-widgets/base",
      "model_module_version": "2.0.0",
      "model_name": "LayoutModel",
      "state": {}
     },
     "ab83d437a43f4c9c83bb0f52fc199a8a": {
      "model_module": "@jupyter-widgets/base",
      "model_module_version": "2.0.0",
      "model_name": "LayoutModel",
      "state": {}
     },
     "acc6de8bf87b46178e2973705723e7ce": {
      "model_module": "@jupyter-widgets/controls",
      "model_module_version": "2.0.0",
      "model_name": "HTMLModel",
      "state": {
       "layout": "IPY_MODEL_3268af50e8174879bd6bed9ae5d6234c",
       "style": "IPY_MODEL_d13587a160504b14a7e2e5789908b768",
       "value": "model.safetensors: 100%"
      }
     },
     "ad16158b9c6a42b5bb55c88301d80397": {
      "model_module": "@jupyter-widgets/base",
      "model_module_version": "2.0.0",
      "model_name": "LayoutModel",
      "state": {}
     },
     "adde76bb8c1a44169de1a220c6e933d1": {
      "model_module": "@jupyter-widgets/controls",
      "model_module_version": "2.0.0",
      "model_name": "ProgressStyleModel",
      "state": {
       "description_width": ""
      }
     },
     "b0696b0ca68f4b548810a31ac836a3b0": {
      "model_module": "@jupyter-widgets/controls",
      "model_module_version": "2.0.0",
      "model_name": "FloatProgressModel",
      "state": {
       "bar_style": "success",
       "layout": "IPY_MODEL_c16ab9587ee442899a7d95f138290e8e",
       "max": 60,
       "style": "IPY_MODEL_a1ea628793f54aa7ba5992dff212e45e",
       "value": 60
      }
     },
     "b0c44894aa6a46839b2d6e7675db7e8a": {
      "model_module": "@jupyter-widgets/controls",
      "model_module_version": "2.0.0",
      "model_name": "FloatProgressModel",
      "state": {
       "bar_style": "success",
       "layout": "IPY_MODEL_526cf54152044cd4b535cb70707aa423",
       "max": 629,
       "style": "IPY_MODEL_64d9bcdee1dc41ca9e380ca35bb5983e",
       "value": 629
      }
     },
     "b2b685de028d4cae903acdab3d26bbae": {
      "model_module": "@jupyter-widgets/controls",
      "model_module_version": "2.0.0",
      "model_name": "HTMLModel",
      "state": {
       "layout": "IPY_MODEL_e4c94ecce5ba45fca7ca42a3eca6a028",
       "style": "IPY_MODEL_54933a31f1c842fba34b2cc0bce780a4",
       "value": "vocab.json: 100%"
      }
     },
     "b484e7237cc04ccba0fee74ef678fffc": {
      "model_module": "@jupyter-widgets/controls",
      "model_module_version": "2.0.0",
      "model_name": "HTMLStyleModel",
      "state": {
       "description_width": "",
       "font_size": null,
       "text_color": null
      }
     },
     "b4de75e8c95e49d69aadcd73703bcbe2": {
      "model_module": "@jupyter-widgets/controls",
      "model_module_version": "2.0.0",
      "model_name": "HTMLStyleModel",
      "state": {
       "description_width": "",
       "font_size": null,
       "text_color": null
      }
     },
     "b5775a78a3494401bd8189977260a263": {
      "model_module": "@jupyter-widgets/base",
      "model_module_version": "2.0.0",
      "model_name": "LayoutModel",
      "state": {}
     },
     "b70f74641b3b428eb6266bbdde068308": {
      "model_module": "@jupyter-widgets/base",
      "model_module_version": "2.0.0",
      "model_name": "LayoutModel",
      "state": {}
     },
     "b98f4ac557ca422ba5dcf99c0a997af5": {
      "model_module": "@jupyter-widgets/controls",
      "model_module_version": "2.0.0",
      "model_name": "FloatProgressModel",
      "state": {
       "bar_style": "success",
       "layout": "IPY_MODEL_2f196d1da5ef405a8ed880c5ecee47ef",
       "max": 998,
       "style": "IPY_MODEL_7e7c24c9309249719eae0223112c6223",
       "value": 998
      }
     },
     "babc9357cde74941ae9eda218b84c441": {
      "model_module": "@jupyter-widgets/base",
      "model_module_version": "2.0.0",
      "model_name": "LayoutModel",
      "state": {}
     },
     "bb84faf0f574456fbd70d0702dac5da3": {
      "model_module": "@jupyter-widgets/base",
      "model_module_version": "2.0.0",
      "model_name": "LayoutModel",
      "state": {}
     },
     "bc117b7e5734482598631eafd09735db": {
      "model_module": "@jupyter-widgets/controls",
      "model_module_version": "2.0.0",
      "model_name": "ProgressStyleModel",
      "state": {
       "description_width": ""
      }
     },
     "bc243c7bc9e2459cb67e1105eb2a6bd7": {
      "model_module": "@jupyter-widgets/controls",
      "model_module_version": "2.0.0",
      "model_name": "ProgressStyleModel",
      "state": {
       "description_width": ""
      }
     },
     "bcbf7db9d8d34f3d95dde7c07f11665f": {
      "model_module": "@jupyter-widgets/controls",
      "model_module_version": "2.0.0",
      "model_name": "HBoxModel",
      "state": {
       "children": [
        "IPY_MODEL_936e08ba5a7148299dac404b2d95e33d",
        "IPY_MODEL_bd81cfc2b7954b48976d5b4d85c7f3fb",
        "IPY_MODEL_0335f2f094224b08b3410c131c46e0a7"
       ],
       "layout": "IPY_MODEL_c24156de7fe4455ba4726d4bdb69da79"
      }
     },
     "bcfc3c52edfb40bcbba22eaa0cbfbedd": {
      "model_module": "@jupyter-widgets/controls",
      "model_module_version": "2.0.0",
      "model_name": "ProgressStyleModel",
      "state": {
       "description_width": ""
      }
     },
     "bd707cd88fb84b65b5837fdbb04ec6f7": {
      "model_module": "@jupyter-widgets/controls",
      "model_module_version": "2.0.0",
      "model_name": "HTMLStyleModel",
      "state": {
       "description_width": "",
       "font_size": null,
       "text_color": null
      }
     },
     "bd7b1f87f3894f94b0a3a73eae565142": {
      "model_module": "@jupyter-widgets/base",
      "model_module_version": "2.0.0",
      "model_name": "LayoutModel",
      "state": {}
     },
     "bd81cfc2b7954b48976d5b4d85c7f3fb": {
      "model_module": "@jupyter-widgets/controls",
      "model_module_version": "2.0.0",
      "model_name": "FloatProgressModel",
      "state": {
       "bar_style": "success",
       "layout": "IPY_MODEL_1534192589514d50b44f624d7bdaa7b4",
       "max": 665,
       "style": "IPY_MODEL_63c9c1b3b5ed4fbba655a9bb06180df2",
       "value": 665
      }
     },
     "bd9aefaeb0d245a1b4e03f4a241f9ecf": {
      "model_module": "@jupyter-widgets/base",
      "model_module_version": "2.0.0",
      "model_name": "LayoutModel",
      "state": {}
     },
     "bdd49622efb5460ca415ee9baf8d53b6": {
      "model_module": "@jupyter-widgets/controls",
      "model_module_version": "2.0.0",
      "model_name": "HTMLModel",
      "state": {
       "layout": "IPY_MODEL_e19ecf6312194f07b55b6b10abce76b1",
       "style": "IPY_MODEL_4f3a6cf32dfe493a97feeac15cadb36a",
       "value": " 629/629 [00:00&lt;00:00, 21.2kB/s]"
      }
     },
     "be08d3bd62c94c9db8db514f359ff845": {
      "model_module": "@jupyter-widgets/base",
      "model_module_version": "2.0.0",
      "model_name": "LayoutModel",
      "state": {}
     },
     "bf2b3120c87943bfa3c8a8f1d3d422cb": {
      "model_module": "@jupyter-widgets/base",
      "model_module_version": "2.0.0",
      "model_name": "LayoutModel",
      "state": {}
     },
     "bfc6057100834bceaf13705d271b1752": {
      "model_module": "@jupyter-widgets/controls",
      "model_module_version": "2.0.0",
      "model_name": "HTMLStyleModel",
      "state": {
       "description_width": "",
       "font_size": null,
       "text_color": null
      }
     },
     "c16ab9587ee442899a7d95f138290e8e": {
      "model_module": "@jupyter-widgets/base",
      "model_module_version": "2.0.0",
      "model_name": "LayoutModel",
      "state": {}
     },
     "c1933df53f5d43bdaded9e1d825bbfd2": {
      "model_module": "@jupyter-widgets/controls",
      "model_module_version": "2.0.0",
      "model_name": "HTMLModel",
      "state": {
       "layout": "IPY_MODEL_ede2f562283f4370956e601c766bd87b",
       "style": "IPY_MODEL_bd707cd88fb84b65b5837fdbb04ec6f7",
       "value": " 456k/456k [00:00&lt;00:00, 8.78MB/s]"
      }
     },
     "c1de39424a214421acdc40744904a0a7": {
      "model_module": "@jupyter-widgets/controls",
      "model_module_version": "2.0.0",
      "model_name": "ProgressStyleModel",
      "state": {
       "description_width": ""
      }
     },
     "c24156de7fe4455ba4726d4bdb69da79": {
      "model_module": "@jupyter-widgets/base",
      "model_module_version": "2.0.0",
      "model_name": "LayoutModel",
      "state": {}
     },
     "c3588362ebee4b6b8f733249e10d0971": {
      "model_module": "@jupyter-widgets/controls",
      "model_module_version": "2.0.0",
      "model_name": "HTMLStyleModel",
      "state": {
       "description_width": "",
       "font_size": null,
       "text_color": null
      }
     },
     "c36ec493aafe4fc88ccfc4ea6b0291e3": {
      "model_module": "@jupyter-widgets/controls",
      "model_module_version": "2.0.0",
      "model_name": "FloatProgressModel",
      "state": {
       "bar_style": "success",
       "layout": "IPY_MODEL_ec6ce57f128d4b26bc736ecff5199162",
       "max": 213450,
       "style": "IPY_MODEL_a69b196a23444e72b1139d9180de2812",
       "value": 213450
      }
     },
     "c5995e70b5234980a75039451656d381": {
      "model_module": "@jupyter-widgets/base",
      "model_module_version": "2.0.0",
      "model_name": "LayoutModel",
      "state": {}
     },
     "c5b191ca3a5f4695ab7522401e643203": {
      "model_module": "@jupyter-widgets/controls",
      "model_module_version": "2.0.0",
      "model_name": "ProgressStyleModel",
      "state": {
       "description_width": ""
      }
     },
     "c61f856fca0247d2aaab4910b2e8bf32": {
      "model_module": "@jupyter-widgets/controls",
      "model_module_version": "2.0.0",
      "model_name": "HTMLModel",
      "state": {
       "layout": "IPY_MODEL_6cc07faaf3574792a72d9d9080a3e034",
       "style": "IPY_MODEL_10fc5a0fe9ce4609a9a6ebdf38ab7f43",
       "value": " 548M/548M [00:20&lt;00:00, 28.9MB/s]"
      }
     },
     "c6d68f3a48b34a6390ab0278ef9b965b": {
      "model_module": "@jupyter-widgets/controls",
      "model_module_version": "2.0.0",
      "model_name": "HTMLStyleModel",
      "state": {
       "description_width": "",
       "font_size": null,
       "text_color": null
      }
     },
     "c81f0ea618fe4038818a2bf2689b208c": {
      "model_module": "@jupyter-widgets/controls",
      "model_module_version": "2.0.0",
      "model_name": "HBoxModel",
      "state": {
       "children": [
        "IPY_MODEL_f7a705dd3f9b41a79a2d6d6a47a6d7c9",
        "IPY_MODEL_6dda90e085ec476e9e9c8f2e3c0dbc2e",
        "IPY_MODEL_39fe867fc3c6445488a3528ca705de19"
       ],
       "layout": "IPY_MODEL_e3852ff8cbc14e228ea7e5a7bb3758cd"
      }
     },
     "c97d3d8ebf784391b6f9edda7281c533": {
      "model_module": "@jupyter-widgets/controls",
      "model_module_version": "2.0.0",
      "model_name": "HBoxModel",
      "state": {
       "children": [
        "IPY_MODEL_7e38d71ed41d401ea77742bc17adadeb",
        "IPY_MODEL_c36ec493aafe4fc88ccfc4ea6b0291e3",
        "IPY_MODEL_a0e24420c0d348bb9b2de269082bc7e4"
       ],
       "layout": "IPY_MODEL_8879afc4b3e94c829df9d18cf45a821b"
      }
     },
     "cabdee83969d44b0b96940560f2637b7": {
      "model_module": "@jupyter-widgets/base",
      "model_module_version": "2.0.0",
      "model_name": "LayoutModel",
      "state": {}
     },
     "caf2d1abafbb4ebaa2a4b149cd1ecc92": {
      "model_module": "@jupyter-widgets/controls",
      "model_module_version": "2.0.0",
      "model_name": "ProgressStyleModel",
      "state": {
       "description_width": ""
      }
     },
     "cb1bccd140fe4137acaf4f9e7331c21b": {
      "model_module": "@jupyter-widgets/controls",
      "model_module_version": "2.0.0",
      "model_name": "HTMLModel",
      "state": {
       "layout": "IPY_MODEL_64a08590fbd14dbfade77ac602470f9e",
       "style": "IPY_MODEL_965febb2de104ed983e51c140a9e1029",
       "value": " 480/480 [00:00&lt;00:00, 15.5kB/s]"
      }
     },
     "cb256292572942ceaf5a35daca52c276": {
      "model_module": "@jupyter-widgets/base",
      "model_module_version": "2.0.0",
      "model_name": "LayoutModel",
      "state": {}
     },
     "cbcae6c03704476d94289ed1291b1446": {
      "model_module": "@jupyter-widgets/base",
      "model_module_version": "2.0.0",
      "model_name": "LayoutModel",
      "state": {}
     },
     "cbf5981746a54bb2a8503cb013152ee1": {
      "model_module": "@jupyter-widgets/controls",
      "model_module_version": "2.0.0",
      "model_name": "HBoxModel",
      "state": {
       "children": [
        "IPY_MODEL_8675e0d418504e50b82b47fdaf433205",
        "IPY_MODEL_8968c7653cdf42048f33e917e2c4b016",
        "IPY_MODEL_0332b5f2ee6b40f5861f2b05ead2b771"
       ],
       "layout": "IPY_MODEL_d4fdc46ce46b48da878012cbd63e0aab"
      }
     },
     "cc35eb1486004cecb4aa5a3ade9b08dd": {
      "model_module": "@jupyter-widgets/base",
      "model_module_version": "2.0.0",
      "model_name": "LayoutModel",
      "state": {}
     },
     "cc9c72e6cb2342579aa397e4a5312176": {
      "model_module": "@jupyter-widgets/controls",
      "model_module_version": "2.0.0",
      "model_name": "HTMLStyleModel",
      "state": {
       "description_width": "",
       "font_size": null,
       "text_color": null
      }
     },
     "cdc9f79ff89f46168f5fef5c97f83088": {
      "model_module": "@jupyter-widgets/controls",
      "model_module_version": "2.0.0",
      "model_name": "HTMLStyleModel",
      "state": {
       "description_width": "",
       "font_size": null,
       "text_color": null
      }
     },
     "cdd0d96ee2644a7489ac7b2f7d1025a5": {
      "model_module": "@jupyter-widgets/base",
      "model_module_version": "2.0.0",
      "model_name": "LayoutModel",
      "state": {}
     },
     "ce127f1a70eb459c81865a6b0da51d4c": {
      "model_module": "@jupyter-widgets/controls",
      "model_module_version": "2.0.0",
      "model_name": "ProgressStyleModel",
      "state": {
       "description_width": ""
      }
     },
     "cecdbbbb3c744ba79ad309287af46e67": {
      "model_module": "@jupyter-widgets/controls",
      "model_module_version": "2.0.0",
      "model_name": "HTMLStyleModel",
      "state": {
       "description_width": "",
       "font_size": null,
       "text_color": null
      }
     },
     "ceeddbec283148349ba677f591890d89": {
      "model_module": "@jupyter-widgets/base",
      "model_module_version": "2.0.0",
      "model_name": "LayoutModel",
      "state": {}
     },
     "cf4910d59a5b4029a82ad67233d0f17d": {
      "model_module": "@jupyter-widgets/controls",
      "model_module_version": "2.0.0",
      "model_name": "FloatProgressModel",
      "state": {
       "bar_style": "success",
       "layout": "IPY_MODEL_bd7b1f87f3894f94b0a3a73eae565142",
       "max": 473,
       "style": "IPY_MODEL_ce127f1a70eb459c81865a6b0da51d4c",
       "value": 473
      }
     },
     "d042e57d1b8c44898bfde1b610edbdf0": {
      "model_module": "@jupyter-widgets/controls",
      "model_module_version": "2.0.0",
      "model_name": "HTMLModel",
      "state": {
       "layout": "IPY_MODEL_198fd6e7ebc14ef19befa4d7c5e225f0",
       "style": "IPY_MODEL_375a569a6c6a49f1ac707efdf4c08d10",
       "value": " 436k/436k [00:00&lt;00:00, 829kB/s]"
      }
     },
     "d04342e41e5f4333af3d21e8f92a0f08": {
      "model_module": "@jupyter-widgets/controls",
      "model_module_version": "2.0.0",
      "model_name": "HBoxModel",
      "state": {
       "children": [
        "IPY_MODEL_e5eed945a16a429d88ac9742f5e8bf4a",
        "IPY_MODEL_cf4910d59a5b4029a82ad67233d0f17d",
        "IPY_MODEL_f46fe87749914bb0834f1418bd565750"
       ],
       "layout": "IPY_MODEL_7ba8491a62c14646a0ae196cc8fec02f"
      }
     },
     "d10de703cdea45ffbcce9beb3c0e2cd9": {
      "model_module": "@jupyter-widgets/base",
      "model_module_version": "2.0.0",
      "model_name": "LayoutModel",
      "state": {}
     },
     "d13587a160504b14a7e2e5789908b768": {
      "model_module": "@jupyter-widgets/controls",
      "model_module_version": "2.0.0",
      "model_name": "HTMLStyleModel",
      "state": {
       "description_width": "",
       "font_size": null,
       "text_color": null
      }
     },
     "d16cf65d87384380ba530b7bbece7481": {
      "model_module": "@jupyter-widgets/controls",
      "model_module_version": "2.0.0",
      "model_name": "HTMLStyleModel",
      "state": {
       "description_width": "",
       "font_size": null,
       "text_color": null
      }
     },
     "d1b138e86e3e48b394f913a2facbc932": {
      "model_module": "@jupyter-widgets/base",
      "model_module_version": "2.0.0",
      "model_name": "LayoutModel",
      "state": {}
     },
     "d25ea3b70a3042ef80c109ee1b93a717": {
      "model_module": "@jupyter-widgets/base",
      "model_module_version": "2.0.0",
      "model_name": "LayoutModel",
      "state": {}
     },
     "d313fd3061714e3da4de89e66b5a2aa8": {
      "model_module": "@jupyter-widgets/base",
      "model_module_version": "2.0.0",
      "model_name": "LayoutModel",
      "state": {}
     },
     "d335f5a402794dbcb32faac9d23052b8": {
      "model_module": "@jupyter-widgets/controls",
      "model_module_version": "2.0.0",
      "model_name": "HTMLModel",
      "state": {
       "layout": "IPY_MODEL_24611404334d4899a35c9b76dea9f594",
       "style": "IPY_MODEL_6e5a50b8dacc4a1789e9bc05a16595cc",
       "value": "model.safetensors: 100%"
      }
     },
     "d3860879b39346b9b1a482e62c81fea4": {
      "model_module": "@jupyter-widgets/controls",
      "model_module_version": "2.0.0",
      "model_name": "HTMLModel",
      "state": {
       "layout": "IPY_MODEL_a50c0df42002430e8436d9b8b83b6272",
       "style": "IPY_MODEL_bfc6057100834bceaf13705d271b1752",
       "value": " 456k/456k [00:00&lt;00:00, 2.43MB/s]"
      }
     },
     "d4950340fd134bcd8f6b9e38fc365b4f": {
      "model_module": "@jupyter-widgets/controls",
      "model_module_version": "2.0.0",
      "model_name": "HBoxModel",
      "state": {
       "children": [
        "IPY_MODEL_8e2d2c42b82040ab9d466c11ed8b1f6e",
        "IPY_MODEL_0029a1eda6504d7bb1c86ad3191052cf",
        "IPY_MODEL_481681e2cd374fbcbc490a66ee99d69a"
       ],
       "layout": "IPY_MODEL_ec5e27a4334f4fa0843928d6d910a49b"
      }
     },
     "d4fdc46ce46b48da878012cbd63e0aab": {
      "model_module": "@jupyter-widgets/base",
      "model_module_version": "2.0.0",
      "model_name": "LayoutModel",
      "state": {}
     },
     "d7554c253bb6410b9f2298bcaccd100e": {
      "model_module": "@jupyter-widgets/base",
      "model_module_version": "2.0.0",
      "model_name": "LayoutModel",
      "state": {}
     },
     "d968b4037ae74bb78afb550d5866d10c": {
      "model_module": "@jupyter-widgets/base",
      "model_module_version": "2.0.0",
      "model_name": "LayoutModel",
      "state": {}
     },
     "d9ea4a6c4e4c41d39e03a2028792b865": {
      "model_module": "@jupyter-widgets/base",
      "model_module_version": "2.0.0",
      "model_name": "LayoutModel",
      "state": {}
     },
     "da1990286c6141cb8881e5e54344cb45": {
      "model_module": "@jupyter-widgets/controls",
      "model_module_version": "2.0.0",
      "model_name": "HBoxModel",
      "state": {
       "children": [
        "IPY_MODEL_8af00b0bce824d468329170b52727df0",
        "IPY_MODEL_f6755541ad2947b4970f7335662f295f",
        "IPY_MODEL_62202b0a7e574804b22ffa17b80d7603"
       ],
       "layout": "IPY_MODEL_1d6a285f3b674021a41ae9a33dc9fca1"
      }
     },
     "da6ddb398c6c440ca524edeae14074a3": {
      "model_module": "@jupyter-widgets/base",
      "model_module_version": "2.0.0",
      "model_name": "LayoutModel",
      "state": {}
     },
     "daf4c8aeea51479c98af391a29428a90": {
      "model_module": "@jupyter-widgets/controls",
      "model_module_version": "2.0.0",
      "model_name": "HTMLModel",
      "state": {
       "layout": "IPY_MODEL_195733f1fd114ceb8db12b26ab2a1b44",
       "style": "IPY_MODEL_0b042bb3d6d04a73a36dcff446a16775",
       "value": "config.json: 100%"
      }
     },
     "dc49fa04046041b5bcfc71f91b9ab285": {
      "model_module": "@jupyter-widgets/controls",
      "model_module_version": "2.0.0",
      "model_name": "HTMLModel",
      "state": {
       "layout": "IPY_MODEL_d25ea3b70a3042ef80c109ee1b93a717",
       "style": "IPY_MODEL_aa18631b0c644fd09f189137513ebe17",
       "value": " 25.0/25.0 [00:00&lt;00:00, 806B/s]"
      }
     },
     "dc81ef80f1224a9488b3301c3d62f249": {
      "model_module": "@jupyter-widgets/controls",
      "model_module_version": "2.0.0",
      "model_name": "HBoxModel",
      "state": {
       "children": [
        "IPY_MODEL_9fc395abdbf245c8940286a1178e424a",
        "IPY_MODEL_51b1b0b2f4b342f1a826276ae9ab18ab",
        "IPY_MODEL_68798b6d3e754c15bfa7efa9871a93d7"
       ],
       "layout": "IPY_MODEL_3be2685773f54d56bf2a723a5da6a803"
      }
     },
     "dfd5c186e536480883b6a0eac0651945": {
      "model_module": "@jupyter-widgets/base",
      "model_module_version": "2.0.0",
      "model_name": "LayoutModel",
      "state": {}
     },
     "e0b483edfe17459f87e498376d768c52": {
      "model_module": "@jupyter-widgets/base",
      "model_module_version": "2.0.0",
      "model_name": "LayoutModel",
      "state": {}
     },
     "e19ecf6312194f07b55b6b10abce76b1": {
      "model_module": "@jupyter-widgets/base",
      "model_module_version": "2.0.0",
      "model_name": "LayoutModel",
      "state": {}
     },
     "e33c9e796a094b7599546ef1e06a1d75": {
      "model_module": "@jupyter-widgets/controls",
      "model_module_version": "2.0.0",
      "model_name": "HTMLModel",
      "state": {
       "layout": "IPY_MODEL_1b72f1c151c6433783b60a69ecd5e884",
       "style": "IPY_MODEL_6411f1380a1d478bab891f79e24300b2",
       "value": "tokenizer.json: 100%"
      }
     },
     "e34c9df968074328affafb74ffe86253": {
      "model_module": "@jupyter-widgets/base",
      "model_module_version": "2.0.0",
      "model_name": "LayoutModel",
      "state": {}
     },
     "e3852ff8cbc14e228ea7e5a7bb3758cd": {
      "model_module": "@jupyter-widgets/base",
      "model_module_version": "2.0.0",
      "model_name": "LayoutModel",
      "state": {}
     },
     "e4c94ecce5ba45fca7ca42a3eca6a028": {
      "model_module": "@jupyter-widgets/base",
      "model_module_version": "2.0.0",
      "model_name": "LayoutModel",
      "state": {}
     },
     "e5281a670c5446c0ab6f53c456268b20": {
      "model_module": "@jupyter-widgets/controls",
      "model_module_version": "2.0.0",
      "model_name": "HBoxModel",
      "state": {
       "children": [
        "IPY_MODEL_099daaf3745d4752a26d978eb65e7c86",
        "IPY_MODEL_ff66b7f15d7f48aa95bc331c618c4111",
        "IPY_MODEL_6214a4bae4a14bdbb779451b79744a79"
       ],
       "layout": "IPY_MODEL_cdd0d96ee2644a7489ac7b2f7d1025a5"
      }
     },
     "e5a92d20d4ad45f093331affa088605e": {
      "model_module": "@jupyter-widgets/controls",
      "model_module_version": "2.0.0",
      "model_name": "HTMLStyleModel",
      "state": {
       "description_width": "",
       "font_size": null,
       "text_color": null
      }
     },
     "e5d763eb638f41b1952d4439b4a9a128": {
      "model_module": "@jupyter-widgets/controls",
      "model_module_version": "2.0.0",
      "model_name": "HTMLStyleModel",
      "state": {
       "description_width": "",
       "font_size": null,
       "text_color": null
      }
     },
     "e5eed945a16a429d88ac9742f5e8bf4a": {
      "model_module": "@jupyter-widgets/controls",
      "model_module_version": "2.0.0",
      "model_name": "HTMLModel",
      "state": {
       "layout": "IPY_MODEL_e0b483edfe17459f87e498376d768c52",
       "style": "IPY_MODEL_6267030a37324dccb796cd6477567289",
       "value": "config.json: 100%"
      }
     },
     "e7fd2790b7d042aeaef77347dbe556d2": {
      "model_module": "@jupyter-widgets/controls",
      "model_module_version": "2.0.0",
      "model_name": "HTMLStyleModel",
      "state": {
       "description_width": "",
       "font_size": null,
       "text_color": null
      }
     },
     "e7fe45f5c7ee4cef949f92061247a52f": {
      "model_module": "@jupyter-widgets/controls",
      "model_module_version": "2.0.0",
      "model_name": "HBoxModel",
      "state": {
       "children": [
        "IPY_MODEL_122f00a6c4b44133af4b418211c92b38",
        "IPY_MODEL_7a4e5ca7a4b943e7877c67b6ba025e18",
        "IPY_MODEL_c61f856fca0247d2aaab4910b2e8bf32"
       ],
       "layout": "IPY_MODEL_e34c9df968074328affafb74ffe86253"
      }
     },
     "e8047d2bfcfe4c7c998416af2f8d199d": {
      "model_module": "@jupyter-widgets/controls",
      "model_module_version": "2.0.0",
      "model_name": "FloatProgressModel",
      "state": {
       "bar_style": "success",
       "layout": "IPY_MODEL_2e317e3ca98f40d1b5d78e0f33aef84c",
       "max": 456318,
       "style": "IPY_MODEL_bc243c7bc9e2459cb67e1105eb2a6bd7",
       "value": 456318
      }
     },
     "e8bd70657ca843d9967c679fb35aa8dc": {
      "model_module": "@jupyter-widgets/controls",
      "model_module_version": "2.0.0",
      "model_name": "ProgressStyleModel",
      "state": {
       "description_width": ""
      }
     },
     "ea1d0321b6a542b9878a7145f9bf1abf": {
      "model_module": "@jupyter-widgets/controls",
      "model_module_version": "2.0.0",
      "model_name": "FloatProgressModel",
      "state": {
       "bar_style": "success",
       "layout": "IPY_MODEL_392c9a6aa241466ebfd572912469cf4e",
       "max": 898823,
       "style": "IPY_MODEL_22ecabdd394d4e6cac435e7fbeb37c70",
       "value": 898823
      }
     },
     "eb09aee2d2a84715b5f9475eaabf4a91": {
      "model_module": "@jupyter-widgets/controls",
      "model_module_version": "2.0.0",
      "model_name": "ProgressStyleModel",
      "state": {
       "description_width": ""
      }
     },
     "eb5c9bc1c372470f9662048981636f75": {
      "model_module": "@jupyter-widgets/controls",
      "model_module_version": "2.0.0",
      "model_name": "HTMLStyleModel",
      "state": {
       "description_width": "",
       "font_size": null,
       "text_color": null
      }
     },
     "eb87e3f15f984b3dbdb253d87e07ef89": {
      "model_module": "@jupyter-widgets/base",
      "model_module_version": "2.0.0",
      "model_name": "LayoutModel",
      "state": {}
     },
     "eb96bef4a3974901971bb8c4fc534b7a": {
      "model_module": "@jupyter-widgets/controls",
      "model_module_version": "2.0.0",
      "model_name": "HTMLStyleModel",
      "state": {
       "description_width": "",
       "font_size": null,
       "text_color": null
      }
     },
     "ec5e27a4334f4fa0843928d6d910a49b": {
      "model_module": "@jupyter-widgets/base",
      "model_module_version": "2.0.0",
      "model_name": "LayoutModel",
      "state": {}
     },
     "ec6ce57f128d4b26bc736ecff5199162": {
      "model_module": "@jupyter-widgets/base",
      "model_module_version": "2.0.0",
      "model_name": "LayoutModel",
      "state": {}
     },
     "ede2f562283f4370956e601c766bd87b": {
      "model_module": "@jupyter-widgets/base",
      "model_module_version": "2.0.0",
      "model_name": "LayoutModel",
      "state": {}
     },
     "ee041adca1d345d594426a5611f91f91": {
      "model_module": "@jupyter-widgets/base",
      "model_module_version": "2.0.0",
      "model_name": "LayoutModel",
      "state": {}
     },
     "efaf010902ea4bb69c7770a0b1576a26": {
      "model_module": "@jupyter-widgets/controls",
      "model_module_version": "2.0.0",
      "model_name": "HBoxModel",
      "state": {
       "children": [
        "IPY_MODEL_8a03ea259d214917b7c6a8c0e9047e6e",
        "IPY_MODEL_b0c44894aa6a46839b2d6e7675db7e8a",
        "IPY_MODEL_bdd49622efb5460ca415ee9baf8d53b6"
       ],
       "layout": "IPY_MODEL_f2bcf2bbc6fb453883cda3cf0515b062"
      }
     },
     "f02bd84d5c394288b24a4b4d3938947c": {
      "model_module": "@jupyter-widgets/controls",
      "model_module_version": "2.0.0",
      "model_name": "ProgressStyleModel",
      "state": {
       "description_width": ""
      }
     },
     "f27758bb2bd240408fdf99c5f889e9fe": {
      "model_module": "@jupyter-widgets/base",
      "model_module_version": "2.0.0",
      "model_name": "LayoutModel",
      "state": {}
     },
     "f2bcf2bbc6fb453883cda3cf0515b062": {
      "model_module": "@jupyter-widgets/base",
      "model_module_version": "2.0.0",
      "model_name": "LayoutModel",
      "state": {}
     },
     "f3d2fb18da264ecb8720cd036d1e3fba": {
      "model_module": "@jupyter-widgets/controls",
      "model_module_version": "2.0.0",
      "model_name": "ProgressStyleModel",
      "state": {
       "description_width": ""
      }
     },
     "f3f8f63aee30414abb3cb566abea7408": {
      "model_module": "@jupyter-widgets/base",
      "model_module_version": "2.0.0",
      "model_name": "LayoutModel",
      "state": {}
     },
     "f46fe87749914bb0834f1418bd565750": {
      "model_module": "@jupyter-widgets/controls",
      "model_module_version": "2.0.0",
      "model_name": "HTMLModel",
      "state": {
       "layout": "IPY_MODEL_2d23efbadbc14f34b7251e40ff770399",
       "style": "IPY_MODEL_a3b7606a5e6b4347a06ee19fc3ebc193",
       "value": " 473/473 [00:00&lt;00:00, 7.47kB/s]"
      }
     },
     "f4d0a17cab1f493ea589d9b8dd5ba01c": {
      "model_module": "@jupyter-widgets/base",
      "model_module_version": "2.0.0",
      "model_name": "LayoutModel",
      "state": {}
     },
     "f5919242130146709b2a0755671ce8c9": {
      "model_module": "@jupyter-widgets/base",
      "model_module_version": "2.0.0",
      "model_name": "LayoutModel",
      "state": {}
     },
     "f5eddd9e3d504ed7b1ccfed0e398a933": {
      "model_module": "@jupyter-widgets/base",
      "model_module_version": "2.0.0",
      "model_name": "LayoutModel",
      "state": {}
     },
     "f6755541ad2947b4970f7335662f295f": {
      "model_module": "@jupyter-widgets/controls",
      "model_module_version": "2.0.0",
      "model_name": "FloatProgressModel",
      "state": {
       "bar_style": "success",
       "layout": "IPY_MODEL_5b5d463c9b834d428deca6530a6c3f51",
       "max": 260782156,
       "style": "IPY_MODEL_eb09aee2d2a84715b5f9475eaabf4a91",
       "value": 260782156
      }
     },
     "f7a705dd3f9b41a79a2d6d6a47a6d7c9": {
      "model_module": "@jupyter-widgets/controls",
      "model_module_version": "2.0.0",
      "model_name": "HTMLModel",
      "state": {
       "layout": "IPY_MODEL_1e3003283aa047e997a3bcc50214119e",
       "style": "IPY_MODEL_1302285023cd453981909f4500ce1f22",
       "value": "tokenizer_config.json: 100%"
      }
     },
     "f85762fa13a24e9ab07da57f60350241": {
      "model_module": "@jupyter-widgets/controls",
      "model_module_version": "2.0.0",
      "model_name": "HTMLStyleModel",
      "state": {
       "description_width": "",
       "font_size": null,
       "text_color": null
      }
     },
     "f88f98dc90454451b6158f93297af55e": {
      "model_module": "@jupyter-widgets/controls",
      "model_module_version": "2.0.0",
      "model_name": "ProgressStyleModel",
      "state": {
       "description_width": ""
      }
     },
     "f8bfcf1f8d96421cb0d50b83910c573d": {
      "model_module": "@jupyter-widgets/controls",
      "model_module_version": "2.0.0",
      "model_name": "HTMLModel",
      "state": {
       "layout": "IPY_MODEL_0b193dbe6a3c40aba87ac783ee230d1b",
       "style": "IPY_MODEL_463fc24093f44304bf63cc1c1143b5bf",
       "value": "tokenizer_config.json: 100%"
      }
     },
     "f95c017eaaab4a42bd006d939b309068": {
      "model_module": "@jupyter-widgets/controls",
      "model_module_version": "2.0.0",
      "model_name": "FloatProgressModel",
      "state": {
       "bar_style": "danger",
       "layout": "IPY_MODEL_d1b138e86e3e48b394f913a2facbc932",
       "max": 331055963,
       "style": "IPY_MODEL_7022664df9324f2ea983bda5bdbec2dd",
       "value": 52428800
      }
     },
     "fd86fb48f3ba4dc3b616820fe916f29b": {
      "model_module": "@jupyter-widgets/controls",
      "model_module_version": "2.0.0",
      "model_name": "HBoxModel",
      "state": {
       "children": [
        "IPY_MODEL_162a200bb9034f4988090d654d9643db",
        "IPY_MODEL_13a4af04617040aea9ad1a2c4f4c53f2",
        "IPY_MODEL_feddf5d87f884cefa14b3465d946770b"
       ],
       "layout": "IPY_MODEL_087a0da9efcd4b4c9043a42eb919224f"
      }
     },
     "fdce7dcd1fa4499680c00a672bcb55ec": {
      "model_module": "@jupyter-widgets/controls",
      "model_module_version": "2.0.0",
      "model_name": "HTMLModel",
      "state": {
       "layout": "IPY_MODEL_0f7c53487dee42aeac964f960e9cfdd7",
       "style": "IPY_MODEL_17b321cc90164733be40df0151949335",
       "value": " 1.33G/1.33G [00:44&lt;00:00, 30.6MB/s]"
      }
     },
     "fde5f22ddee143959240c3b6f1da62e6": {
      "model_module": "@jupyter-widgets/controls",
      "model_module_version": "2.0.0",
      "model_name": "HTMLModel",
      "state": {
       "layout": "IPY_MODEL_86f357e6b2374da7bd107d83841b7704",
       "style": "IPY_MODEL_136daf8df9094f10a3f4827560d7b866",
       "value": "tokenizer_config.json: 100%"
      }
     },
     "feddf5d87f884cefa14b3465d946770b": {
      "model_module": "@jupyter-widgets/controls",
      "model_module_version": "2.0.0",
      "model_name": "HTMLModel",
      "state": {
       "layout": "IPY_MODEL_6e7e8df80b7d475b9e537e538a47cc27",
       "style": "IPY_MODEL_e5d763eb638f41b1952d4439b4a9a128",
       "value": " 26.0/26.0 [00:00&lt;00:00, 619B/s]"
      }
     },
     "ff66b7f15d7f48aa95bc331c618c4111": {
      "model_module": "@jupyter-widgets/controls",
      "model_module_version": "2.0.0",
      "model_name": "FloatProgressModel",
      "state": {
       "bar_style": "success",
       "layout": "IPY_MODEL_bd9aefaeb0d245a1b4e03f4a241f9ecf",
       "max": 1355256,
       "style": "IPY_MODEL_5e3f88ff0f924f44957caeea8c69eac9",
       "value": 1355256
      }
     }
    },
    "version_major": 2,
    "version_minor": 0
   }
  }
 },
 "nbformat": 4,
 "nbformat_minor": 5
}
