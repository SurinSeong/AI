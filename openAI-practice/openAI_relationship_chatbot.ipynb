{
 "cells": [
  {
   "cell_type": "code",
   "execution_count": 1,
   "id": "4212064e-e705-4df4-81c5-442087b777c8",
   "metadata": {},
   "outputs": [
    {
     "name": "stdout",
     "output_type": "stream",
     "text": [
      "안녕하세요 !\n"
     ]
    }
   ],
   "source": [
    "print('안녕하세요 !')"
   ]
  },
  {
   "cell_type": "code",
   "execution_count": 3,
   "id": "70286cb3-1a34-405b-8bad-51ef173349fb",
   "metadata": {},
   "outputs": [],
   "source": [
    "# !pip install openai==0.28"
   ]
  },
  {
   "cell_type": "code",
   "execution_count": 4,
   "id": "4017758d-8a0f-466e-b426-bc316043abe3",
   "metadata": {},
   "outputs": [],
   "source": [
    "import openai"
   ]
  },
  {
   "cell_type": "code",
   "execution_count": null,
   "id": "3a203a6f-785c-4ed4-ad8f-2d06ef4f6549",
   "metadata": {},
   "outputs": [],
   "source": [
    "OPENAI_API_KEY = \"OPENAI-API-KEY 입력\""
   ]
  },
  {
   "cell_type": "code",
   "execution_count": 8,
   "id": "b1a1bb81-b233-436d-97f0-18e44a9dd36b",
   "metadata": {},
   "outputs": [
    {
     "name": "stdout",
     "output_type": "stream",
     "text": [
      "1주년 기념 데이트를 준비하는 것은 멋진 아이디어입니다! ISFP와 ISTJ는 서로를 보완해주는 유형이기 때문에, 함께 즐길 수 있는 다양한 활동을 선택하는 것이 좋을 것입니다. 여러 가지 아이디어를 제시해보겠습니다.\n",
      "\n",
      "1. 자연 속 피크닉: ISFP는 자연을 즐기는 것을 좋아하고, ISTJ는 안정적이고 조직적인 성향을 가지고 있습니다. 함께 자연 속에서 피크닉을 즐기면 서로의 성향을 존중하면서 즐거운 시간을 보낼 수 있을 것입니다.\n",
      "\n",
      "2. 요가 수업: ISFP는 예술적이고 창의적인 면을 가지고 있고, ISTJ는 규칙적이고 체계적인 성향을 가지고 있습니다. 함께 요가 수업을 듣고 신체적으로도 마음의 안정을 찾을 수 있는 좋은 기회가 될 것입니다.\n",
      "\n",
      "3. 요리 수업: 함께 요리 수업을 듣는 것도 좋은 아이디어입니다. ISFP는 새로운 경험을 즐기는 것을 좋아하고, ISTJ는 계획적이고 조직적인 성향을 가지고 있어서 함께 요리를 배우면서 즐거운 시간을 보낼 수 있을 것입니다.\n",
      "\n",
      "4. 문화 예술 관람: 미술관이나 박물관을 방문하거나 영화를 보는 것도 좋은 선택일 수 있습니다. ISFP는 예술적인 면을 즐기고, ISTJ는 지적인 측면을 즐기는 면이 있기 때문에 함께 문화 예술을 즐기면 서로의 관점을 공유하며 즐거운 시간을 보낼 수 있을 것입니다.\n",
      "\n",
      "이러한 다양한 아이디어 중에서 상대방과 함께 즐길 수 있는 것을 선택하여 1주년 기념 데이트를 즐겁고 의미있게 보내시길 바랍니다. 함께 새로운 경험을 나누고 서로를 더욱 깊이 이해하는 시간이 되기를 기대합니다.\n"
     ]
    }
   ],
   "source": [
    "openai.api_key = OPENAI_API_KEY\n",
    "\n",
    "model = 'gpt-3.5-turbo'\n",
    "\n",
    "# few shot\n",
    "query = \\\n",
    "'''\n",
    "나의 MBTI : isfp\n",
    "상대방 MBTI : istj\n",
    "관계 : 연인\n",
    "상황 : 만난 지 360일 된 상황\n",
    "질문 : 1주년 기념 데이트는 무엇이 좋을 것 같아? 어떤 데이트를 할까?\n",
    "'''\n",
    "\n",
    "messages = \\\n",
    "[\n",
    "    {'role' : 'system', 'content' : '연애상담전문가'},\n",
    "    {'role' : 'user', 'content' : query},\n",
    "    \n",
    "]\n",
    "\n",
    "try:\n",
    "    response = openai.ChatCompletion.create(\n",
    "        model=model,\n",
    "        messages=messages,\n",
    "        # 0에 가까울수록 일반적인 \n",
    "        temperature=0\n",
    "    )\n",
    "    # print(response)\n",
    "    print(response.choices[0].message['content'])\n",
    "    \n",
    "except Exception as e:\n",
    "    print(f'에러 발생 : {e}')"
   ]
  },
  {
   "cell_type": "markdown",
   "id": "8130ca9a-d16c-4eb6-91fa-9cab341f9f29",
   "metadata": {},
   "source": [
    "# MBTI 입력 받는 프로그램 (초창기 모델)"
   ]
  },
  {
   "cell_type": "code",
   "execution_count": 10,
   "id": "e551b9f5-b20d-4015-b496-95c62fd50303",
   "metadata": {},
   "outputs": [
    {
     "name": "stdin",
     "output_type": "stream",
     "text": [
      "나의 MBTI :  isfp\n",
      "상대방의 MBTI :  istj\n",
      "관계 :  연인\n",
      "상황 :  1주년 기념 데이트 선정\n",
      "질문 :  1주년 기념으로 반지를 맞춰도 괜찮을까? 다른 데이트도 추천해줄래?\n"
     ]
    }
   ],
   "source": [
    "# 사용자로부터 MBTI 관계, 상황 등 입력 받기\n",
    "# 대문자로 일관 변환\n",
    "my_mbti = input('나의 MBTI : ').upper()\n",
    "your_mbti = input('상대방의 MBTI : ').upper()\n",
    "relation = input('관계 : ')\n",
    "situation = input('상황 : ')\n",
    "question = input('질문 : ')\n",
    "\n",
    "query = \\\n",
    "f'''\n",
    "나의 MBTI : {my_mbti}\n",
    "상대방의 MBTI : {your_mbti}\n",
    "관계 : {relation}\n",
    "상황 : {situation}\n",
    "질문 : {question}\n",
    "'''"
   ]
  },
  {
   "cell_type": "code",
   "execution_count": 11,
   "id": "d4515ee6-8c68-4d18-ae29-6cbbb2ad8bdd",
   "metadata": {},
   "outputs": [
    {
     "name": "stdout",
     "output_type": "stream",
     "text": [
      "1주년 기념으로 반지를 맞추는 것은 로맨틱하고 의미 있는 제안일 수 있습니다. ISFP와 ISTJ는 서로를 보완해주는 관계이기 때문에, 상대방이 반지를 받아들일지에 대한 고민은 없을 것입니다. 하지만, 상대방이 반지를 착용하기를 좋아하는지 미리 알아보는 것이 좋을 것입니다.\n",
      "\n",
      "다른 데이트 아이디어로는, ISFP와 ISTJ 모두 현실적이고 안정적인 성향을 가지고 있기 때문에, 함께 즐길 수 있는 액티비티를 선택하는 것이 좋습니다. 예를 들어, 테마파크나 동물원을 방문하거나, 함께 요리 수업을 듣는 것도 좋은 아이디어일 수 있습니다. 또한, 서로의 취향을 고려하여 영화나 연극을 감상하거나, 자연 속에서 피크닉을 즐기는 것도 좋은 선택일 수 있습니다. 중요한 것은 서로가 즐길 수 있는 활동을 공유하고 즐기는 것이니, 상대방의 취향을 고려하여 특별한 데이트를 계획해보세요.\n"
     ]
    }
   ],
   "source": [
    "messages = \\\n",
    "[\n",
    "    {'role' : 'system', 'content' : '연애상담전문가'},\n",
    "    {'role' : 'user', 'content' : query},\n",
    "    \n",
    "]\n",
    "\n",
    "try:\n",
    "    response = openai.ChatCompletion.create(\n",
    "        model=model,\n",
    "        messages=messages,\n",
    "        # 0에 가까울수록 \n",
    "        temperature=0\n",
    "    )\n",
    "    # print(response)\n",
    "    print(response.choices[0].message['content'])\n",
    "    \n",
    "except Exception as e:\n",
    "    print(f'에러 발생 : {e}')"
   ]
  },
  {
   "cell_type": "markdown",
   "id": "73b91c04-c28f-4180-8bb7-8874ea68a239",
   "metadata": {},
   "source": [
    "# 나만의 연애상담 챗봇 만들기"
   ]
  },
  {
   "cell_type": "code",
   "execution_count": 16,
   "id": "aaf6ade9-39c3-419a-8475-9ffaef509416",
   "metadata": {},
   "outputs": [
    {
     "name": "stdin",
     "output_type": "stream",
     "text": [
      "나의 MBTI :  isfp\n",
      "나의 성별 :  여자\n",
      "상대방의 MBTI :  istj\n",
      "상대방의 성별 :  남자\n",
      "관계 :  연인\n",
      "상황 :  1주년 기념으로 반지를 맞출 것인가에 대한 고민을 하는 중\n",
      "질문 :  상대방이 1주년 기념으로 반지를 맞추는 것을 제안했어. 하지만, 나는 조금 더 만나고 난 뒤에 반지를 맞추고 싶어. 어떻게 말하면 기분 안 상하게 말할 수 있을까?\n"
     ]
    },
    {
     "name": "stdout",
     "output_type": "stream",
     "text": [
      "답변 준비중 입니다...\n",
      "------------------------------------------------------------ ANSWER ------------------------------------------------------------\n",
      "1주년 기념으로 반지를 맞추는 것은 정말로 특별한 순간이 될 수 있지만, 당신이 상대방과 더 많은 시간을 보내고 서로를 더 잘 알아가고 싶어하는 마음도 충분히 중요합니다. 이러한 솔직한 마음을 표현하는 것은 상대방과의 관계를 건강하게 유지하는 데 도움이 될 것입니다.\n",
      "\n",
      "아래는 상대방에게 당신의 마음을 표현하는 방법 몇 가지입니다:\n",
      "\n",
      "1. 솔직하게 표현하기: \"나는 이런 걸 말하는 게 조금 어색하긴 한데, 1주년 기념으로 반지를 맞출 아이디어는 정말로 감동적이지만, 우리가 더 많은 시간을 함께 보내고 서로를 더 알아가고 싶어서 좀 더 시간을 두고 반지를 맞추고 싶어.\"\n",
      "\n",
      "2. 상대방의 마음을 이해해주기: \"나는 상대방이 1주년을 더 중요하게 생각하고 있을 거라는 걸 알지만, 나에게는 서로를 더 잘 알아가는 과정이 더 소중한 거 같아.\"\n",
      "\n",
      "3. 상대방과 함께 언제 반지를 맞출지에 대한 대화를 나누기: \"우리가 언젠가는 반지를 맞추기로 결정했다면, 그 순간이 더 의미 있는 것이 될 거 같아. 언제가 적당할까?\"\n",
      "\n",
      "이러한 방식으로 솔직하고 존중하는 태도로 상대방과 소중한 대화를 나누면, 상대방도 당신의 마음을 이해해주고 함께 더 나은 결정을 내릴 수 있을 것입니다.\n",
      "------------------------------------------------------------ NEXT ------------------------------------------------------------\n"
     ]
    },
    {
     "name": "stdin",
     "output_type": "stream",
     "text": [
      "질문 :  고마워! 잘 말할 수 있겠다!\n"
     ]
    },
    {
     "name": "stdout",
     "output_type": "stream",
     "text": [
      "답변 준비중 입니다...\n",
      "------------------------------------------------------------ ANSWER ------------------------------------------------------------\n",
      "당신의 마음을 상대방에게 부드럽게 전달하고 상대방의 마음도 이해해주면서 이야기할 수 있는 방법이 있습니다. 아래는 상대방에게 말할 수 있는 한 가지 접근 방법입니다:\n",
      "\n",
      "\"나는 너와의 1주년을 맞이하는 것이 정말 특별하고 의미있는 순간이 될 거라고 믿어. 그런데 나는 우리가 서로에 대해 더 많이 알아가고 더 많은 경험을 나누면서 반지를 맞추고 싶어. 우리의 관계가 더 깊어졌을 때, 반지가 더 의미있게 느껴질 것 같아. 어떤 생각이야?\"\n",
      "\n",
      "이렇게 말하면서 상대방의 마음을 이해하고 존중함을 나타내며, 함께 어떻게 진행할지에 대해 이야기할 수 있을 것입니다. 이러한 솔직한 대화를 통해 서로의 마음을 공유하고 이해하는 것이 중요합니다. 이를 통해 상대방도 당신의 의견을 이해하고 상대방과 함께 어떤 결정을 내릴지 고민할 수 있을 것입니다.\n",
      "------------------------------------------------------------ AGAIN ------------------------------------------------------------\n"
     ]
    },
    {
     "name": "stdin",
     "output_type": "stream",
     "text": [
      "더 질문할건가요?(y/n) :  ㅛ\n"
     ]
    },
    {
     "name": "stdout",
     "output_type": "stream",
     "text": [
      "------------------------------------------------------------ NEXT ------------------------------------------------------------\n"
     ]
    },
    {
     "name": "stdin",
     "output_type": "stream",
     "text": [
      "질문 :  그러면 반지 말고 다른 것으로 기념할 수 있는 것이 있을까? 추천해줄래?\n"
     ]
    },
    {
     "name": "stdout",
     "output_type": "stream",
     "text": [
      "답변 준비중 입니다...\n",
      "------------------------------------------------------------ ANSWER ------------------------------------------------------------\n",
      "당신의 마음을 솔직하게 전달하면서도 상대방의 마음을 존중하는 것이 중요합니다. 아래는 부드럽게 상대방과 대화할 수 있는 한 가지 방법입니다:\n",
      "\n",
      "\"나는 정말로 상대방이 1주년을 맞추기 위해 반지를 제안해줘서 감사해. 하지만, 나는 우리가 더 많은 시간을 함께 보내고 서로를 더 알아가고 싶어. 우리가 더 깊게 관계를 형성한 후에 반지를 맞추는 것이 더 의미있을 거 같아. 어떻게 생각해?\"\n",
      "\n",
      "이러한 접근 방식으로 말하면서 상대방의 마음을 이해하고 존중함을 나타내며, 함께 어떤 결정을 내릴지에 대해 이야기할 수 있을 것입니다. 상대방도 당신의 의견을 이해하고 상대방과 함께 어떤 방향으로 나아갈지 고민할 수 있을 것입니다. 솔직하고 존중하는 대화를 통해 둘 사이의 관계를 발전시킬 수 있을 것입니다.\n",
      "------------------------------------------------------------ AGAIN ------------------------------------------------------------\n"
     ]
    },
    {
     "name": "stdin",
     "output_type": "stream",
     "text": [
      "더 질문할건가요?(y/n) :  ㅛ\n"
     ]
    },
    {
     "name": "stdout",
     "output_type": "stream",
     "text": [
      "------------------------------------------------------------ NEXT ------------------------------------------------------------\n"
     ]
    },
    {
     "name": "stdin",
     "output_type": "stream",
     "text": [
      "질문 :  반지 말고 다른 것으로 기념할 수 있는 것이 있을까?\n"
     ]
    },
    {
     "name": "stdout",
     "output_type": "stream",
     "text": [
      "답변 준비중 입니다...\n",
      "------------------------------------------------------------ ANSWER ------------------------------------------------------------\n",
      "당신의 마음을 솔직하게 전달하면서도 상대방의 마음을 이해하고 존중하는 것이 중요합니다. 아래는 부드럽게 상대방과 이야기할 수 있는 한 가지 방법입니다:\n",
      "\n",
      "\"나는 정말로 상대방이 1주년을 맞추기 위해 반지를 제안해줘서 감사해. 그런데 나는 우리가 더 많은 시간을 함께 보내고 서로를 더 알아가고 싶어. 반지를 맞추는 것은 정말로 특별한 순간이 될 텐데, 그 때까지 조금 더 시간을 두면 더 의미있지 않을까 생각해. 어떻게 생각해?\"\n",
      "\n",
      "이러한 방식으로 말하면서 상대방의 마음을 이해하고 존중함을 나타내며, 함께 어떤 결정을 내릴지에 대해 이야기할 수 있을 것입니다. 상대방도 당신의 의견을 이해하고 함께 더 나은 방향으로 나아갈 수 있도록 대화를 이어갈 수 있을 것입니다. 솔직하고 존중하는 태도로 상대방과 소중한 대화를 나누면서 함께 더 나은 결정을 내릴 수 있을 것입니다.\n",
      "------------------------------------------------------------ AGAIN ------------------------------------------------------------\n"
     ]
    },
    {
     "name": "stdin",
     "output_type": "stream",
     "text": [
      "더 질문할건가요?(y/n) :  ㅜ\n"
     ]
    },
    {
     "name": "stdout",
     "output_type": "stream",
     "text": [
      "상담을 종료합니다.\n"
     ]
    }
   ],
   "source": [
    "my_mbti = input('나의 MBTI : ').upper()\n",
    "my_gender = input('나의 성별 : ')\n",
    "your_mbti = input('상대방의 MBTI : ').upper()\n",
    "your_gender = input('상대방의 성별 : ')\n",
    "relation = input('관계 : ')\n",
    "situation = input('상황 : ')\n",
    "question = input('질문 : ')\n",
    "\n",
    "query = \\\n",
    "f'''\n",
    "나의 MBTI : {my_mbti}\n",
    "나의 성별 : {my_gender}\n",
    "상대방의 MBTI : {your_mbti}\n",
    "상대방의 성별 : {your_gender}\n",
    "관계 : {relation}\n",
    "상황 : {situation}\n",
    "질문 : {question}\n",
    "'''\n",
    "\n",
    "messages = \\\n",
    "[\n",
    "    {'role' : 'system', 'content' : '연애상담전문가'},\n",
    "    {'role' : 'user', 'content' : query},\n",
    "]\n",
    "\n",
    "print('답변 준비중 입니다...')\n",
    "\n",
    "try:\n",
    "    response = openai.ChatCompletion.create(\n",
    "        model=model,\n",
    "        messages=messages,\n",
    "        # 0에 가까울수록 일반적인 답변.\n",
    "        # 1에 가까울수록 창의적인 답볍\n",
    "        temperature=0.7\n",
    "    )\n",
    "    # print(response)\n",
    "    # print(response.choices[0].message['content'])\n",
    "    \n",
    "    answer = response.choices[0].message['content']\n",
    "    messages.append({'role' : 'assistant', 'content' : answer})\n",
    "    print('--'*30, 'ANSWER', '--'*30)\n",
    "    print(answer)\n",
    "\n",
    "    # 질문이 끊기지 않고 계속 하도록 while문 사용 (multi-turn 구현)\n",
    "    # 정지 조건이 아주 중요함 !\n",
    "    while True:\n",
    "        # 사용자로부터 질문 받기\n",
    "        print('--'*30, 'NEXT', '--'*30)\n",
    "        question = input('질문 : ')\n",
    "        qeury = f'Q : {question}'\n",
    "\n",
    "        # 질문을 메시지 배열에 추가\n",
    "        messages.append({'role' : 'user', 'content' : query})\n",
    "\n",
    "        # chatQPT API 호출 >> 응답 밥기\n",
    "        print('답변 준비중 입니다...')\n",
    "\n",
    "        response = \\\n",
    "        openai.ChatCompletion.create(\n",
    "            model=model,\n",
    "            messages=messages,\n",
    "            # 0에 가까울수록 일반적인 답변.\n",
    "            # 1에 가까울수록 창의적인 답볍\n",
    "            temperature=0.7\n",
    "        )\n",
    "        # 응답\n",
    "        answer = response.choices[0].message['content']\n",
    "        \n",
    "        # 응답 출력\n",
    "        print('--'*30, 'ANSWER', '--'*30)\n",
    "        messages.append({'role' : 'assistant', 'content' : answer})\n",
    "        print(answer)\n",
    "\n",
    "        # 사용자에게 계속 질문할건지 확인하기\n",
    "        while True:\n",
    "            print('--'*30, 'AGAIN', '--'*30)\n",
    "            again = input('더 질문할건가요?(y/n) : ').lower()\n",
    "            # 정지조건\n",
    "            if again in ['y', 'n', 'ㅛ', 'ㅜ']:\n",
    "                break\n",
    "            else:\n",
    "                print('y 또는 n으로 입력해주세요.')\n",
    "                \n",
    "        if again in ['n', 'ㅜ']:\n",
    "            print('상담을 종료합니다.')\n",
    "            break\n",
    "    \n",
    "except Exception as e:\n",
    "    print(f'에러 발생 : {e}')"
   ]
  }
 ],
 "metadata": {
  "kernelspec": {
   "display_name": "Python 3 (ipykernel)",
   "language": "python",
   "name": "python3"
  },
  "language_info": {
   "codemirror_mode": {
    "name": "ipython",
    "version": 3
   },
   "file_extension": ".py",
   "mimetype": "text/x-python",
   "name": "python",
   "nbconvert_exporter": "python",
   "pygments_lexer": "ipython3",
   "version": "3.9.19"
  },
  "widgets": {
   "application/vnd.jupyter.widget-state+json": {
    "state": {},
    "version_major": 2,
    "version_minor": 0
   }
  }
 },
 "nbformat": 4,
 "nbformat_minor": 5
}
