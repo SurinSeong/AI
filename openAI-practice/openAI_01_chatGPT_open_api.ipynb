{
 "cells": [
  {
   "cell_type": "code",
   "execution_count": 1,
   "id": "c705d30a-1771-427e-b403-8d4f05ebf9c4",
   "metadata": {},
   "outputs": [],
   "source": [
    "# 패키지 불러오기\n",
    "import openai"
   ]
  },
  {
   "cell_type": "code",
   "execution_count": null,
   "id": "44b8e789-3106-4311-b775-ef67379d7416",
   "metadata": {},
   "outputs": [],
   "source": [
    "# client 생성 및 API key 지정하기\n",
    "client = openai.OpenAI(api_key='')"
   ]
  },
  {
   "cell_type": "markdown",
   "id": "e75ca1da-fa9d-4d4e-9933-0fbe1f74c98e",
   "metadata": {},
   "source": [
    "# 기본 질문하기\n",
    "* 질문을 위한 메서드 : client.chat.completions.create"
   ]
  },
  {
   "cell_type": "code",
   "execution_count": null,
   "id": "5609a8d7-fc54-4771-b741-21080c0063de",
   "metadata": {},
   "outputs": [],
   "source": [
    "# 기본 질문하기\n",
    "response = \\\n",
    "client.chat.completions.create(\n",
    "    model='gpt-3.5-turbo',\n",
    "    messages=[{'role':'user',\n",
    "               'content':'Tell me how to make a pizza'}]\n",
    ")\n",
    "\n",
    "print(response)"
   ]
  },
  {
   "cell_type": "code",
   "execution_count": null,
   "id": "58a0e9fa-f188-4486-a5de-6b6af05bdf23",
   "metadata": {},
   "outputs": [],
   "source": [
    "# 응답에서 답변만 추출\n",
    "response.choices"
   ]
  },
  {
   "cell_type": "code",
   "execution_count": null,
   "id": "231daaf1-1c36-4827-85bf-0575045c21d8",
   "metadata": {},
   "outputs": [],
   "source": [
    "response.choices[0]"
   ]
  },
  {
   "cell_type": "code",
   "execution_count": null,
   "id": "ea951199-64cb-4b61-882b-b68ae3642dcf",
   "metadata": {},
   "outputs": [],
   "source": [
    "response.choices[0].message"
   ]
  },
  {
   "cell_type": "code",
   "execution_count": null,
   "id": "47168eea-497d-4350-be45-c983ad387247",
   "metadata": {},
   "outputs": [],
   "source": [
    "print(response.choices[0].message.content)"
   ]
  },
  {
   "cell_type": "code",
   "execution_count": null,
   "id": "cb421e14-3a9d-4ed8-af64-4f9a05e55b2e",
   "metadata": {},
   "outputs": [],
   "source": [
    "# 소모 토큰 확인\n",
    "print(response.usage)"
   ]
  },
  {
   "cell_type": "code",
   "execution_count": null,
   "id": "458c0a91-e26e-45e8-b45b-ab163915b898",
   "metadata": {},
   "outputs": [],
   "source": [
    "# 비용 확인하기\n",
    "# totalbill\n",
    "total_bill = response.usage.prompt_tokens * 0.0015/1000 + response.usage.completion_tokens * 0.002/1000\n",
    "print('총 발생 비용 {:.4f}원'.format(total_bill))"
   ]
  },
  {
   "cell_type": "markdown",
   "id": "20e2dfdc-ea9b-4a41-a74f-f87108e9a20d",
   "metadata": {},
   "source": [
    "# 역할 부여하기"
   ]
  },
  {
   "cell_type": "code",
   "execution_count": null,
   "id": "d75d2414-10d6-4b25-92f2-566550ad9700",
   "metadata": {},
   "outputs": [],
   "source": [
    "response = \\\n",
    "client.chat.completions.create(\n",
    "    model='gpt-3.5-turbo',\n",
    "    messages=[\n",
    "        # 역할 부여\n",
    "        {'role':'system', 'content':'당신은 친절하게 답변을 해주는 비서입니다.'},\n",
    "        # 사용자 질문 (query)\n",
    "        {'role':'user', 'content':'2020년 월드시리즈에서 어떤 팀이 우승을 했나요?'}\n",
    "    ]\n",
    ")"
   ]
  },
  {
   "cell_type": "code",
   "execution_count": null,
   "id": "6cce9457-0728-41b9-b104-c1d2b6d4dd49",
   "metadata": {},
   "outputs": [],
   "source": [
    "print(response.choices[0].message.content)"
   ]
  },
  {
   "cell_type": "code",
   "execution_count": null,
   "id": "b00c0436-791a-42be-930e-9d71aa78d5a0",
   "metadata": {},
   "outputs": [],
   "source": [
    "response = \\\n",
    "client.chat.completions.create(\n",
    "    model='gpt-3.5-turbo',\n",
    "    messages=[\n",
    "        {'role':'system', 'content':\"You must only answer users' questions in English. This must be honered. You must only answer in English.\"},\n",
    "        {'role':'user', 'content':'2020년 월드시리즈에서 어떤 팀이 우승을 했나요?'}\n",
    "    ]\n",
    ")"
   ]
  },
  {
   "cell_type": "code",
   "execution_count": null,
   "id": "035cff9e-cc65-4765-9385-cb8c59eebc25",
   "metadata": {},
   "outputs": [],
   "source": [
    "print(response.choices[0].message.content)"
   ]
  },
  {
   "cell_type": "code",
   "execution_count": null,
   "id": "5e5363ce-41aa-4b7c-81e2-35a2c7d24212",
   "metadata": {},
   "outputs": [],
   "source": []
  },
  {
   "cell_type": "code",
   "execution_count": null,
   "id": "8aeda1aa-8c17-4577-bf96-57064c705708",
   "metadata": {},
   "outputs": [],
   "source": []
  },
  {
   "cell_type": "code",
   "execution_count": null,
   "id": "8ba88eb8-ead2-4ba6-94a8-d2a7ffa1fae3",
   "metadata": {},
   "outputs": [],
   "source": []
  },
  {
   "cell_type": "code",
   "execution_count": null,
   "id": "a6feedc3-16bf-4a12-9d21-3f432320bbfa",
   "metadata": {},
   "outputs": [],
   "source": []
  },
  {
   "cell_type": "code",
   "execution_count": null,
   "id": "d26858d1-d523-4be5-9a00-a549e5480f51",
   "metadata": {},
   "outputs": [],
   "source": []
  },
  {
   "cell_type": "code",
   "execution_count": null,
   "id": "87c8fb5a-27ba-430a-81d5-f61c5e1cc741",
   "metadata": {},
   "outputs": [],
   "source": []
  }
 ],
 "metadata": {
  "kernelspec": {
   "display_name": "Python 3 (ipykernel)",
   "language": "python",
   "name": "python3"
  },
  "language_info": {
   "codemirror_mode": {
    "name": "ipython",
    "version": 3
   },
   "file_extension": ".py",
   "mimetype": "text/x-python",
   "name": "python",
   "nbconvert_exporter": "python",
   "pygments_lexer": "ipython3",
   "version": "3.9.19"
  }
 },
 "nbformat": 4,
 "nbformat_minor": 5
}
