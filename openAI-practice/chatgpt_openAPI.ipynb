{
 "cells": [
  {
   "cell_type": "code",
   "execution_count": 2,
   "id": "2befe5c4-3a47-4424-baa0-593156d40191",
   "metadata": {},
   "outputs": [],
   "source": [
    "# !pip install openai"
   ]
  },
  {
   "cell_type": "code",
   "execution_count": 3,
   "id": "bee6a2c3-213c-4c37-ade6-fc1bb8a03c27",
   "metadata": {},
   "outputs": [],
   "source": [
    "# 패키지 불러오기\n",
    "import openai"
   ]
  },
  {
   "cell_type": "code",
   "execution_count": null,
   "id": "164b6959-2748-4f03-9aaf-3fcc1262ac10",
   "metadata": {},
   "outputs": [],
   "source": [
    "# client 생성 및 API key 지정\n",
    "# 내 API key : \n",
    "client = openai.OpenAI(api_key = '''본인의 인증키를 입력''')"
   ]
  },
  {
   "cell_type": "markdown",
   "id": "29b96769-7ca8-477b-b9c4-78c1b8005f01",
   "metadata": {},
   "source": [
    "## 기본 질문하기\n",
    "* 질문(query) 위한 메서드 : client.chat.completions.create"
   ]
  },
  {
   "cell_type": "code",
   "execution_count": 8,
   "id": "f3e5cd99-de7d-4dd4-8c71-291491c54a4f",
   "metadata": {},
   "outputs": [],
   "source": [
    "# 기본 질문하기\n",
    "response = \\\n",
    "client.chat.completions.create(\n",
    "    model = 'gpt-3.5-turbo',\n",
    "    messages = [{'role':'user', 'content':'Tell me how to make a pizza'}]\n",
    ")"
   ]
  },
  {
   "cell_type": "code",
   "execution_count": 9,
   "id": "a1ea0934-cd1e-4461-aa03-704495650514",
   "metadata": {},
   "outputs": [
    {
     "name": "stdout",
     "output_type": "stream",
     "text": [
      "ChatCompletion(id='chatcmpl-9TiZ85mtoPxy8zgZyUALlrSqbCBbr', choices=[Choice(finish_reason='stop', index=0, logprobs=None, message=ChatCompletionMessage(content='To make a pizza, you will need the following ingredients:\\n\\n- Pizza dough\\n- Pizza sauce\\n- Cheese (usually mozzarella)\\n- Toppings of your choice (such as pepperoni, vegetables, sausage, etc.)\\n\\nTo make the pizza, follow these steps:\\n\\n1. Preheat your oven to the temperature specified on your pizza dough package (usually around 425-450°F).\\n\\n2. Roll out the pizza dough on a floured surface to your desired thickness.\\n\\n3. Place the dough on a pizza pan or baking sheet that has been lightly greased or lined with parchment paper.\\n\\n4. Spread the pizza sauce evenly over the dough, leaving a small border around the edges for the crust.\\n\\n5. Sprinkle cheese over the sauce, covering the entire pizza.\\n\\n6. Add your desired toppings on top of the cheese.\\n\\n7. Bake the pizza in the preheated oven for about 15-20 minutes, or until the crust is golden brown and the cheese is melted and bubbly.\\n\\n8. Remove the pizza from the oven and let it cool for a few minutes before slicing and serving.\\n\\nEnjoy your homemade pizza!', role='assistant', function_call=None, tool_calls=None))], created=1716869850, model='gpt-3.5-turbo-0125', object='chat.completion', system_fingerprint=None, usage=CompletionUsage(completion_tokens=229, prompt_tokens=14, total_tokens=243))\n"
     ]
    }
   ],
   "source": [
    "print(response)"
   ]
  },
  {
   "cell_type": "code",
   "execution_count": 10,
   "id": "4e3e4dbc-eaf3-4cd7-a5ec-683ea691692e",
   "metadata": {},
   "outputs": [
    {
     "data": {
      "text/plain": [
       "[Choice(finish_reason='stop', index=0, logprobs=None, message=ChatCompletionMessage(content='To make a pizza, you will need the following ingredients:\\n\\n- Pizza dough\\n- Pizza sauce\\n- Cheese (usually mozzarella)\\n- Toppings of your choice (such as pepperoni, vegetables, sausage, etc.)\\n\\nTo make the pizza, follow these steps:\\n\\n1. Preheat your oven to the temperature specified on your pizza dough package (usually around 425-450°F).\\n\\n2. Roll out the pizza dough on a floured surface to your desired thickness.\\n\\n3. Place the dough on a pizza pan or baking sheet that has been lightly greased or lined with parchment paper.\\n\\n4. Spread the pizza sauce evenly over the dough, leaving a small border around the edges for the crust.\\n\\n5. Sprinkle cheese over the sauce, covering the entire pizza.\\n\\n6. Add your desired toppings on top of the cheese.\\n\\n7. Bake the pizza in the preheated oven for about 15-20 minutes, or until the crust is golden brown and the cheese is melted and bubbly.\\n\\n8. Remove the pizza from the oven and let it cool for a few minutes before slicing and serving.\\n\\nEnjoy your homemade pizza!', role='assistant', function_call=None, tool_calls=None))]"
      ]
     },
     "execution_count": 10,
     "metadata": {},
     "output_type": "execute_result"
    }
   ],
   "source": [
    "# 응답에서 답변만 추출\n",
    "response.choices"
   ]
  },
  {
   "cell_type": "code",
   "execution_count": 11,
   "id": "9a6b7743-fd19-4933-bab5-5b03da58696f",
   "metadata": {},
   "outputs": [
    {
     "data": {
      "text/plain": [
       "Choice(finish_reason='stop', index=0, logprobs=None, message=ChatCompletionMessage(content='To make a pizza, you will need the following ingredients:\\n\\n- Pizza dough\\n- Pizza sauce\\n- Cheese (usually mozzarella)\\n- Toppings of your choice (such as pepperoni, vegetables, sausage, etc.)\\n\\nTo make the pizza, follow these steps:\\n\\n1. Preheat your oven to the temperature specified on your pizza dough package (usually around 425-450°F).\\n\\n2. Roll out the pizza dough on a floured surface to your desired thickness.\\n\\n3. Place the dough on a pizza pan or baking sheet that has been lightly greased or lined with parchment paper.\\n\\n4. Spread the pizza sauce evenly over the dough, leaving a small border around the edges for the crust.\\n\\n5. Sprinkle cheese over the sauce, covering the entire pizza.\\n\\n6. Add your desired toppings on top of the cheese.\\n\\n7. Bake the pizza in the preheated oven for about 15-20 minutes, or until the crust is golden brown and the cheese is melted and bubbly.\\n\\n8. Remove the pizza from the oven and let it cool for a few minutes before slicing and serving.\\n\\nEnjoy your homemade pizza!', role='assistant', function_call=None, tool_calls=None))"
      ]
     },
     "execution_count": 11,
     "metadata": {},
     "output_type": "execute_result"
    }
   ],
   "source": [
    "response.choices[0]"
   ]
  },
  {
   "cell_type": "code",
   "execution_count": 12,
   "id": "3839ce92-24ae-4c58-bf9b-bcbc6a986a27",
   "metadata": {},
   "outputs": [
    {
     "data": {
      "text/plain": [
       "ChatCompletionMessage(content='To make a pizza, you will need the following ingredients:\\n\\n- Pizza dough\\n- Pizza sauce\\n- Cheese (usually mozzarella)\\n- Toppings of your choice (such as pepperoni, vegetables, sausage, etc.)\\n\\nTo make the pizza, follow these steps:\\n\\n1. Preheat your oven to the temperature specified on your pizza dough package (usually around 425-450°F).\\n\\n2. Roll out the pizza dough on a floured surface to your desired thickness.\\n\\n3. Place the dough on a pizza pan or baking sheet that has been lightly greased or lined with parchment paper.\\n\\n4. Spread the pizza sauce evenly over the dough, leaving a small border around the edges for the crust.\\n\\n5. Sprinkle cheese over the sauce, covering the entire pizza.\\n\\n6. Add your desired toppings on top of the cheese.\\n\\n7. Bake the pizza in the preheated oven for about 15-20 minutes, or until the crust is golden brown and the cheese is melted and bubbly.\\n\\n8. Remove the pizza from the oven and let it cool for a few minutes before slicing and serving.\\n\\nEnjoy your homemade pizza!', role='assistant', function_call=None, tool_calls=None)"
      ]
     },
     "execution_count": 12,
     "metadata": {},
     "output_type": "execute_result"
    }
   ],
   "source": [
    "response.choices[0].message"
   ]
  },
  {
   "cell_type": "code",
   "execution_count": 13,
   "id": "f60c2e8e-055c-47d4-b68e-09fc5a1ecdc6",
   "metadata": {},
   "outputs": [
    {
     "data": {
      "text/plain": [
       "'To make a pizza, you will need the following ingredients:\\n\\n- Pizza dough\\n- Pizza sauce\\n- Cheese (usually mozzarella)\\n- Toppings of your choice (such as pepperoni, vegetables, sausage, etc.)\\n\\nTo make the pizza, follow these steps:\\n\\n1. Preheat your oven to the temperature specified on your pizza dough package (usually around 425-450°F).\\n\\n2. Roll out the pizza dough on a floured surface to your desired thickness.\\n\\n3. Place the dough on a pizza pan or baking sheet that has been lightly greased or lined with parchment paper.\\n\\n4. Spread the pizza sauce evenly over the dough, leaving a small border around the edges for the crust.\\n\\n5. Sprinkle cheese over the sauce, covering the entire pizza.\\n\\n6. Add your desired toppings on top of the cheese.\\n\\n7. Bake the pizza in the preheated oven for about 15-20 minutes, or until the crust is golden brown and the cheese is melted and bubbly.\\n\\n8. Remove the pizza from the oven and let it cool for a few minutes before slicing and serving.\\n\\nEnjoy your homemade pizza!'"
      ]
     },
     "execution_count": 13,
     "metadata": {},
     "output_type": "execute_result"
    }
   ],
   "source": [
    "response.choices[0].message.content"
   ]
  },
  {
   "cell_type": "code",
   "execution_count": 14,
   "id": "186718eb-4e92-4c64-aaed-1e9a6928273f",
   "metadata": {},
   "outputs": [
    {
     "name": "stdout",
     "output_type": "stream",
     "text": [
      "To make a pizza, you will need the following ingredients:\n",
      "\n",
      "- Pizza dough\n",
      "- Pizza sauce\n",
      "- Cheese (usually mozzarella)\n",
      "- Toppings of your choice (such as pepperoni, vegetables, sausage, etc.)\n",
      "\n",
      "To make the pizza, follow these steps:\n",
      "\n",
      "1. Preheat your oven to the temperature specified on your pizza dough package (usually around 425-450°F).\n",
      "\n",
      "2. Roll out the pizza dough on a floured surface to your desired thickness.\n",
      "\n",
      "3. Place the dough on a pizza pan or baking sheet that has been lightly greased or lined with parchment paper.\n",
      "\n",
      "4. Spread the pizza sauce evenly over the dough, leaving a small border around the edges for the crust.\n",
      "\n",
      "5. Sprinkle cheese over the sauce, covering the entire pizza.\n",
      "\n",
      "6. Add your desired toppings on top of the cheese.\n",
      "\n",
      "7. Bake the pizza in the preheated oven for about 15-20 minutes, or until the crust is golden brown and the cheese is melted and bubbly.\n",
      "\n",
      "8. Remove the pizza from the oven and let it cool for a few minutes before slicing and serving.\n",
      "\n",
      "Enjoy your homemade pizza!\n"
     ]
    }
   ],
   "source": [
    "print(response.choices[0].message.content)"
   ]
  },
  {
   "cell_type": "code",
   "execution_count": 15,
   "id": "9f4e22fc-04fa-46fe-a1a8-3cbddf06d34f",
   "metadata": {},
   "outputs": [
    {
     "name": "stdout",
     "output_type": "stream",
     "text": [
      "CompletionUsage(completion_tokens=229, prompt_tokens=14, total_tokens=243)\n"
     ]
    }
   ],
   "source": [
    "# 소모 토큰, 비용 확인\n",
    "print(response.usage)"
   ]
  },
  {
   "cell_type": "code",
   "execution_count": 16,
   "id": "b5cdbbe7-3988-45f1-a01c-f05ae9c698f4",
   "metadata": {},
   "outputs": [
    {
     "data": {
      "text/plain": [
       "0.00047900000000000004"
      ]
     },
     "execution_count": 16,
     "metadata": {},
     "output_type": "execute_result"
    }
   ],
   "source": [
    "total_bill = response.usage.prompt_tokens * 0.0015/1000 + response.usage.completion_tokens * 0.002/1000\n",
    "total_bill"
   ]
  },
  {
   "cell_type": "code",
   "execution_count": 18,
   "id": "b64c28e1-2532-405d-88f2-84d4723acbbc",
   "metadata": {},
   "outputs": [
    {
     "name": "stdout",
     "output_type": "stream",
     "text": [
      "총 발생 비용 0.00047900000000000004 원\n"
     ]
    }
   ],
   "source": [
    "print('총 발생 비용 {} 원'.format(total_bill * 1,323.43))"
   ]
  },
  {
   "cell_type": "markdown",
   "id": "e2aecbe1-f16a-4efd-aa24-9214986e52fc",
   "metadata": {},
   "source": [
    "## 역할 부여하기"
   ]
  },
  {
   "cell_type": "code",
   "execution_count": 19,
   "id": "4e8ea099-2338-474a-a96c-f60fb79b44a6",
   "metadata": {},
   "outputs": [],
   "source": [
    "response = \\\n",
    "client.chat.completions.create(\n",
    "    model = 'gpt-3.5-turbo',\n",
    "    messages=[\n",
    "        # 역할 부여\n",
    "        {'role':'system', 'content':'너는 친절하게 답변해주는 비서야.'},\n",
    "        # 사용자 질문 (query)\n",
    "        {'role':'user', 'content':'2020년 월드시리즈에서 누가 우승했어?'}\n",
    "    ]\n",
    ")"
   ]
  },
  {
   "cell_type": "code",
   "execution_count": 20,
   "id": "422052d7-2c29-45a0-9ca3-82edf4e733e7",
   "metadata": {},
   "outputs": [
    {
     "name": "stdout",
     "output_type": "stream",
     "text": [
      "죄송해요. 2020년에는 코로나19 팬데믹으로 인해 MLB 월드시리즈가 역대 최초로 중립지에서 개최되었으며, 류현진 선수가 소속된 로스앤젤레스 다저스가 텍사스 주에 위치한 글로브 라이프 파크에서 편드렐턴이 뉴욕 양키스를 꺾고 우승을 차지했습니다.\n"
     ]
    }
   ],
   "source": [
    "print(response.choices[0].message.content)"
   ]
  },
  {
   "cell_type": "code",
   "execution_count": 21,
   "id": "02b70df0-6caa-45d0-af1b-577ae7982b90",
   "metadata": {},
   "outputs": [],
   "source": [
    "response = \\\n",
    "client.chat.completions.create(\n",
    "    model = 'gpt-3.5-turbo',\n",
    "    messages = [\n",
    "        {'role':'system', 'content':\"You must only answer users' questions in English. This must be honered. You must only answer in English.\"},\n",
    "        {'role':'user', 'content':'2020년 월드시리즈에서 누가 우승했어?'}\n",
    "    ]\n",
    ")"
   ]
  },
  {
   "cell_type": "code",
   "execution_count": 22,
   "id": "335a1834-b144-40a9-b6cf-ad425cac0f60",
   "metadata": {},
   "outputs": [
    {
     "name": "stdout",
     "output_type": "stream",
     "text": [
      "The Los Angeles Dodgers won the 2020 World Series.\n"
     ]
    }
   ],
   "source": [
    "print(response.choices[0].message.content)"
   ]
  },
  {
   "cell_type": "code",
   "execution_count": 23,
   "id": "adaf41c6-f537-4ee4-973c-2072fb8db3bf",
   "metadata": {},
   "outputs": [],
   "source": [
    "response = \\\n",
    "client.chat.completions.create(\n",
    "    model = 'gpt-3.5-turbo',\n",
    "    messages = [\n",
    "        {'role':'system', 'content':\"You're a chatbot that refuses to answer and says sorry when users ask questions.\"},\n",
    "        {'role':'user', 'content':'2020년 월드시리즈에서 누가 우승했어?'}\n",
    "    ]\n",
    ")"
   ]
  },
  {
   "cell_type": "code",
   "execution_count": 24,
   "id": "e6a21909-a2c3-4de4-bfde-f07adecb00bf",
   "metadata": {},
   "outputs": [
    {
     "name": "stdout",
     "output_type": "stream",
     "text": [
      "Sorry, I can't answer that question.\n"
     ]
    }
   ],
   "source": [
    "print(response.choices[0].message.content)"
   ]
  },
  {
   "cell_type": "code",
   "execution_count": 25,
   "id": "f996ebb2-1f2f-4ab9-9897-8c5081ff37b2",
   "metadata": {},
   "outputs": [],
   "source": [
    "response = \\\n",
    "client.chat.completions.create(\n",
    "    model = 'gpt-3.5-turbo',\n",
    "    messages = [\n",
    "        {'role':'system', 'content':\"You're a translator that translates users' inputs. If the input is in Korean, it must be translated into English. This must be strictly adhered to.\"},\n",
    "        {'role':'user', 'content':'2020년 월드시리즈에서 누가 우승했어?'}\n",
    "    ]\n",
    ")"
   ]
  },
  {
   "cell_type": "code",
   "execution_count": 26,
   "id": "69675021-fbfb-4951-9500-7ad0344d1ee5",
   "metadata": {},
   "outputs": [
    {
     "name": "stdout",
     "output_type": "stream",
     "text": [
      "Who won the World Series in 2020?\n"
     ]
    }
   ],
   "source": [
    "print(response.choices[0].message.content)"
   ]
  },
  {
   "cell_type": "markdown",
   "id": "c31c0955-f6f9-4a95-8a6f-c35e2d88fa06",
   "metadata": {},
   "source": [
    "## 이전 대화를 포함하여 답변하기"
   ]
  },
  {
   "cell_type": "code",
   "execution_count": 27,
   "id": "0a7fb991-4edb-4924-90ee-46b66ca3dde4",
   "metadata": {},
   "outputs": [],
   "source": [
    "response = \\\n",
    "client.chat.completions.create(\n",
    "    model = 'gpt-3.5-turbo',\n",
    "    messages = [\n",
    "        {'role':'user', 'content':'2002년 월드컵에서 가장 화제가 되었던 나라는 어디야?'},\n",
    "        {'role':'assistant', 'content':'예상을 깨고 4강 진출 신화를 일으킨 대한민국입니다.'},\n",
    "        {'role':'assistant', 'content':'그 나라가 화제가 되었던 이유를 자세하게 설명해줘'}\n",
    "    ]\n",
    ")"
   ]
  },
  {
   "cell_type": "code",
   "execution_count": 28,
   "id": "e36ace80-1013-4d60-8b3b-405c8131bae3",
   "metadata": {},
   "outputs": [
    {
     "name": "stdout",
     "output_type": "stream",
     "text": [
      "2002년 월드컵은 대한민국과 일본이 공동개최한 대회였습니다. 대한민국 대표팀은 예상을 뒤엎고 현지에서 개최된 대회에서 4강까지 진출하는 엄청난 성과를 이뤄냈습니다. 특히 1/8 결승에서 이탈리아 대표팀을 꺾는 역대급의 승리를 거둬 세계적인 주목을 받았습니다. 또한, 대한민국 대표팀의 집단적인 노력과 열정, 그리고 지도자 김광래 감독의 지혜로움이 눈에 띄어 화제가 되었습니다. 이러한 성과로 인해 2002년 월드컵은 대한민국에서 열린 역사적인 축제로 기억되었습니다.\n"
     ]
    }
   ],
   "source": [
    "print(response.choices[0].message.content)"
   ]
  },
  {
   "cell_type": "code",
   "execution_count": 29,
   "id": "c3697dcc-8f61-44e9-915e-b212c5201615",
   "metadata": {},
   "outputs": [],
   "source": [
    "response = client.chat.completions.create(\n",
    " model=\"gpt-4o\",\n",
    " messages=[\n",
    "    {'role':'user', 'content':'2002년 월드컵에서 가장 화제가 되었던 나라는 어디야?'},\n",
    "    {'role':'assistant', 'content': '예상을 깨고 4강 진출 신화를 일으킨 대한민국입니다.'},\n",
    "    {'role':'assistant', 'content' : '그 당시 감독은 누구야? 그리고 주요 전략은 무엇이야?'}\n",
    "  ]\n",
    " )"
   ]
  },
  {
   "cell_type": "code",
   "execution_count": 30,
   "id": "e9a04d8d-a1f6-4360-9c4e-8559a03a6562",
   "metadata": {},
   "outputs": [
    {
     "name": "stdout",
     "output_type": "stream",
     "text": [
      "2002년 월드컵에서 대한민국 대표팀의 감독은 거스 히딩크(Guus Hiddink)였습니다. 그의 주요 전략은 다음과 같습니다:\n",
      "\n",
      "1. **체력 훈련**: 히딩크는 선수들의 체력을 강화하기 위해 강도 높은 훈련을 실시했습니다. 이를 통해 선수들이 경기 후반에도 여전히 높은 수준의 플레이를 유지할 수 있게 했습니다.\n",
      "\n",
      "2. **팀워크와 조직력**: 팀의 조직력과 선수들 간의 협력을 강조하였으며, 이를 통해 탄탄한 수비와 빠른 역습을 구사할 수 있었습니다.\n",
      "\n",
      "3. **유동적인 전술**: 경기 상황에 따라 유연하게 전술을 변경하였습니다. 예를 들어, 수비일 때는 3-5-2 포메이션을 사용하며, 필요시 4-4-2 등의 다양한 전술 변화를 통해 상대를 혼란스럽게 만들었습니다.\n",
      "\n",
      "4. **심리적 준비**: 정신적으로 강한 팀을 만들기 위해 심리적 준비도 강화했으며, 이를 통해 선수들이 중요한 순간에도 냉정함을 유지할 수 있도록 했습니다.\n",
      "\n",
      "이러한 전략들은 대한민국이 역사적인 성과를 달성할 수 있게 만든 중요한 요소들이었습니다.\n"
     ]
    }
   ],
   "source": [
    "print(response.choices[0].message.content)"
   ]
  },
  {
   "cell_type": "code",
   "execution_count": null,
   "id": "1588d974-41e2-47a7-acc0-09f05b530ae6",
   "metadata": {},
   "outputs": [],
   "source": []
  }
 ],
 "metadata": {
  "kernelspec": {
   "display_name": "Python 3 (ipykernel)",
   "language": "python",
   "name": "python3"
  },
  "language_info": {
   "codemirror_mode": {
    "name": "ipython",
    "version": 3
   },
   "file_extension": ".py",
   "mimetype": "text/x-python",
   "name": "python",
   "nbconvert_exporter": "python",
   "pygments_lexer": "ipython3",
   "version": "3.9.19"
  }
 },
 "nbformat": 4,
 "nbformat_minor": 5
}
