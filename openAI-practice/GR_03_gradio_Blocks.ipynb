{
 "cells": [
  {
   "cell_type": "markdown",
   "id": "00f014c7-01be-438b-a240-63c82d4eed4f",
   "metadata": {},
   "source": [
    "# 환경설정 - Blocks"
   ]
  },
  {
   "cell_type": "code",
   "execution_count": 12,
   "id": "72288742-7bec-43aa-933f-c562126c26af",
   "metadata": {},
   "outputs": [],
   "source": [
    "import gradio as gr\n",
    "\n",
    "import numpy as np"
   ]
  },
  {
   "cell_type": "code",
   "execution_count": 10,
   "id": "f492e3a2-483e-4e76-8bfb-a920340dde5a",
   "metadata": {
    "scrolled": true
   },
   "outputs": [
    {
     "name": "stdout",
     "output_type": "stream",
     "text": [
      "Running on local URL:  http://127.0.0.1:7878\n",
      "\n",
      "To create a public link, set `share=True` in `launch()`.\n"
     ]
    },
    {
     "data": {
      "text/html": [
       "<div><iframe src=\"http://127.0.0.1:7878/\" width=\"100%\" height=\"500\" allow=\"autoplay; camera; microphone; clipboard-read; clipboard-write;\" frameborder=\"0\" allowfullscreen></iframe></div>"
      ],
      "text/plain": [
       "<IPython.core.display.HTML object>"
      ]
     },
     "metadata": {},
     "output_type": "display_data"
    },
    {
     "name": "stdout",
     "output_type": "stream",
     "text": [
      "IMPORTANT: You are using gradio version 4.0.2, however version 4.29.0 is available, please upgrade.\n",
      "--------\n"
     ]
    }
   ],
   "source": [
    "with gr.Blocks() as demo:\n",
    "    with gr.Row(): # 가로로 배치\n",
    "        with gr.Group(): # 그룹화\n",
    "        # with gr.Column(): # 행 배치\n",
    "            gr.Markdown('# Gradio Gallery')\n",
    "            # 이미지 가져오기 - 이미지 url 필요\n",
    "            gr.Image('https://img.hankyung.com/photo/202406/AKR20240613025000005_01_i_P4.jpg', width=100)\n",
    "        with gr.Column(): # 행 배치\n",
    "            gr.Markdown('Hello')\n",
    "            gr.Markdown('World')\n",
    "            \n",
    "    demo.launch()"
   ]
  },
  {
   "cell_type": "code",
   "execution_count": 16,
   "id": "fcdfea00-de2e-4b70-845a-46ee06c23f42",
   "metadata": {},
   "outputs": [
    {
     "name": "stdout",
     "output_type": "stream",
     "text": [
      "Running on local URL:  http://127.0.0.1:7879\n",
      "\n",
      "To create a public link, set `share=True` in `launch()`.\n"
     ]
    },
    {
     "data": {
      "text/html": [
       "<div><iframe src=\"http://127.0.0.1:7879/\" width=\"100%\" height=\"500\" allow=\"autoplay; camera; microphone; clipboard-read; clipboard-write;\" frameborder=\"0\" allowfullscreen></iframe></div>"
      ],
      "text/plain": [
       "<IPython.core.display.HTML object>"
      ]
     },
     "metadata": {},
     "output_type": "display_data"
    },
    {
     "data": {
      "text/plain": []
     },
     "execution_count": 16,
     "metadata": {},
     "output_type": "execute_result"
    }
   ],
   "source": [
    "# 텍스트 뒤집기\n",
    "def flip_text(x):\n",
    "    return x[::-1]\n",
    "\n",
    "# 이미지 뒤집기\n",
    "def flip_img(x):\n",
    "    return np.fliplr(x)\n",
    "\n",
    "with gr.Blocks() as demo:\n",
    "    gr.Markdown('# Flip Text or Image files using this demo!')\n",
    "    \n",
    "    gr.Markdown('## Flip Text file')\n",
    "    text_input=gr.Textbox()\n",
    "    text_output=gr.Textbox()\n",
    "    text_button=gr.Button('Flip')\n",
    "    \n",
    "    gr.Markdown('## Flip Image file')\n",
    "    img_input=gr.Image()\n",
    "    img_output=gr.Image()\n",
    "    img_button=gr.Button('Flip')\n",
    "\n",
    "    with gr.Accordion('Open for more!'):\n",
    "        gr.Markdown('Look at me..')\n",
    "        \n",
    "        # 텍스트 Flip 하는 버튼 클릭\n",
    "        text_button.click(flip_text, inputs=text_input, outputs=text_output)\n",
    "        # 이미지 Flip 하는 버튼 클릭\n",
    "        img_button.click(flip_img, inputs=img_input, outputs=img_output)\n",
    "\n",
    "demo.launch()"
   ]
  },
  {
   "cell_type": "code",
   "execution_count": null,
   "id": "ac714c2e-aba9-4fad-9a15-77d3c65c7374",
   "metadata": {},
   "outputs": [],
   "source": []
  }
 ],
 "metadata": {
  "kernelspec": {
   "display_name": "Python 3 (ipykernel)",
   "language": "python",
   "name": "python3"
  },
  "language_info": {
   "codemirror_mode": {
    "name": "ipython",
    "version": 3
   },
   "file_extension": ".py",
   "mimetype": "text/x-python",
   "name": "python",
   "nbconvert_exporter": "python",
   "pygments_lexer": "ipython3",
   "version": "3.11.7"
  }
 },
 "nbformat": 4,
 "nbformat_minor": 5
}
