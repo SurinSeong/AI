{
 "cells": [
  {
   "cell_type": "code",
   "execution_count": 1,
   "id": "679189cf-d124-4bdd-ba02-2dab4be6dcd5",
   "metadata": {},
   "outputs": [
    {
     "name": "stdout",
     "output_type": "stream",
     "text": [
      "Collecting gradio==4.0.2\n",
      "  Downloading gradio-4.0.2-py3-none-any.whl.metadata (17 kB)\n",
      "Collecting aiofiles<24.0,>=22.0 (from gradio==4.0.2)\n",
      "  Using cached aiofiles-23.2.1-py3-none-any.whl.metadata (9.7 kB)\n",
      "Requirement already satisfied: altair<6.0,>=4.2.0 in c:\\users\\tjdtn\\anaconda3\\lib\\site-packages (from gradio==4.0.2) (5.0.1)\n",
      "Collecting fastapi (from gradio==4.0.2)\n",
      "  Using cached fastapi-0.111.0-py3-none-any.whl.metadata (25 kB)\n",
      "Collecting ffmpy (from gradio==4.0.2)\n",
      "  Using cached ffmpy-0.3.2-py3-none-any.whl\n",
      "Collecting gradio-client==0.7.0 (from gradio==4.0.2)\n",
      "  Downloading gradio_client-0.7.0-py3-none-any.whl.metadata (7.1 kB)\n",
      "Requirement already satisfied: httpx in c:\\users\\tjdtn\\appdata\\roaming\\python\\python311\\site-packages (from gradio==4.0.2) (0.27.0)\n",
      "Requirement already satisfied: huggingface-hub>=0.14.0 in c:\\users\\tjdtn\\appdata\\roaming\\python\\python311\\site-packages (from gradio==4.0.2) (0.23.2)\n",
      "Collecting importlib-resources<7.0,>=1.3 (from gradio==4.0.2)\n",
      "  Using cached importlib_resources-6.4.0-py3-none-any.whl.metadata (3.9 kB)\n",
      "Requirement already satisfied: jinja2<4.0 in c:\\users\\tjdtn\\anaconda3\\lib\\site-packages (from gradio==4.0.2) (3.1.3)\n",
      "Requirement already satisfied: markupsafe~=2.0 in c:\\users\\tjdtn\\anaconda3\\lib\\site-packages (from gradio==4.0.2) (2.1.3)\n",
      "Requirement already satisfied: matplotlib~=3.0 in c:\\users\\tjdtn\\anaconda3\\lib\\site-packages (from gradio==4.0.2) (3.8.0)\n",
      "Requirement already satisfied: numpy~=1.0 in c:\\users\\tjdtn\\anaconda3\\lib\\site-packages (from gradio==4.0.2) (1.26.4)\n",
      "Collecting orjson~=3.0 (from gradio==4.0.2)\n",
      "  Using cached orjson-3.10.5-cp311-none-win_amd64.whl.metadata (50 kB)\n",
      "Requirement already satisfied: packaging in c:\\users\\tjdtn\\anaconda3\\lib\\site-packages (from gradio==4.0.2) (23.1)\n",
      "Requirement already satisfied: pandas<3.0,>=1.0 in c:\\users\\tjdtn\\anaconda3\\lib\\site-packages (from gradio==4.0.2) (2.1.4)\n",
      "Requirement already satisfied: pillow<11.0,>=8.0 in c:\\users\\tjdtn\\anaconda3\\lib\\site-packages (from gradio==4.0.2) (10.2.0)\n",
      "Collecting pydantic>=2.0 (from gradio==4.0.2)\n",
      "  Using cached pydantic-2.7.4-py3-none-any.whl.metadata (109 kB)\n",
      "Collecting pydub (from gradio==4.0.2)\n",
      "  Using cached pydub-0.25.1-py2.py3-none-any.whl.metadata (1.4 kB)\n",
      "Collecting python-multipart (from gradio==4.0.2)\n",
      "  Using cached python_multipart-0.0.9-py3-none-any.whl.metadata (2.5 kB)\n",
      "Requirement already satisfied: pyyaml<7.0,>=5.0 in c:\\users\\tjdtn\\anaconda3\\lib\\site-packages (from gradio==4.0.2) (6.0.1)\n",
      "Requirement already satisfied: requests~=2.0 in c:\\users\\tjdtn\\anaconda3\\lib\\site-packages (from gradio==4.0.2) (2.31.0)\n",
      "Collecting semantic-version~=2.0 (from gradio==4.0.2)\n",
      "  Using cached semantic_version-2.10.0-py2.py3-none-any.whl.metadata (9.7 kB)\n",
      "Collecting tomlkit==0.12.0 (from gradio==4.0.2)\n",
      "  Using cached tomlkit-0.12.0-py3-none-any.whl.metadata (2.7 kB)\n",
      "Collecting typer<1.0,>=0.9 (from typer[all]<1.0,>=0.9->gradio==4.0.2)\n",
      "  Using cached typer-0.12.3-py3-none-any.whl.metadata (15 kB)\n",
      "Requirement already satisfied: typing-extensions~=4.0 in c:\\users\\tjdtn\\anaconda3\\lib\\site-packages (from gradio==4.0.2) (4.9.0)\n",
      "Collecting uvicorn>=0.14.0 (from gradio==4.0.2)\n",
      "  Using cached uvicorn-0.30.1-py3-none-any.whl.metadata (6.3 kB)\n",
      "Collecting websockets<12.0,>=10.0 (from gradio==4.0.2)\n",
      "  Using cached websockets-11.0.3-cp311-cp311-win_amd64.whl.metadata (6.8 kB)\n",
      "Requirement already satisfied: fsspec in c:\\users\\tjdtn\\anaconda3\\lib\\site-packages (from gradio-client==0.7.0->gradio==4.0.2) (2023.10.0)\n",
      "Requirement already satisfied: jsonschema>=3.0 in c:\\users\\tjdtn\\anaconda3\\lib\\site-packages (from altair<6.0,>=4.2.0->gradio==4.0.2) (4.19.2)\n",
      "Requirement already satisfied: toolz in c:\\users\\tjdtn\\anaconda3\\lib\\site-packages (from altair<6.0,>=4.2.0->gradio==4.0.2) (0.12.0)\n",
      "Requirement already satisfied: filelock in c:\\users\\tjdtn\\anaconda3\\lib\\site-packages (from huggingface-hub>=0.14.0->gradio==4.0.2) (3.13.1)\n",
      "Requirement already satisfied: tqdm>=4.42.1 in c:\\users\\tjdtn\\anaconda3\\lib\\site-packages (from huggingface-hub>=0.14.0->gradio==4.0.2) (4.65.0)\n",
      "Requirement already satisfied: contourpy>=1.0.1 in c:\\users\\tjdtn\\anaconda3\\lib\\site-packages (from matplotlib~=3.0->gradio==4.0.2) (1.2.0)\n",
      "Requirement already satisfied: cycler>=0.10 in c:\\users\\tjdtn\\anaconda3\\lib\\site-packages (from matplotlib~=3.0->gradio==4.0.2) (0.11.0)\n",
      "Requirement already satisfied: fonttools>=4.22.0 in c:\\users\\tjdtn\\anaconda3\\lib\\site-packages (from matplotlib~=3.0->gradio==4.0.2) (4.25.0)\n",
      "Requirement already satisfied: kiwisolver>=1.0.1 in c:\\users\\tjdtn\\anaconda3\\lib\\site-packages (from matplotlib~=3.0->gradio==4.0.2) (1.4.4)\n",
      "Requirement already satisfied: pyparsing>=2.3.1 in c:\\users\\tjdtn\\anaconda3\\lib\\site-packages (from matplotlib~=3.0->gradio==4.0.2) (3.0.9)\n",
      "Requirement already satisfied: python-dateutil>=2.7 in c:\\users\\tjdtn\\anaconda3\\lib\\site-packages (from matplotlib~=3.0->gradio==4.0.2) (2.8.2)\n",
      "Requirement already satisfied: pytz>=2020.1 in c:\\users\\tjdtn\\anaconda3\\lib\\site-packages (from pandas<3.0,>=1.0->gradio==4.0.2) (2023.3.post1)\n",
      "Requirement already satisfied: tzdata>=2022.1 in c:\\users\\tjdtn\\anaconda3\\lib\\site-packages (from pandas<3.0,>=1.0->gradio==4.0.2) (2023.3)\n",
      "Collecting annotated-types>=0.4.0 (from pydantic>=2.0->gradio==4.0.2)\n",
      "  Using cached annotated_types-0.7.0-py3-none-any.whl.metadata (15 kB)\n",
      "Collecting pydantic-core==2.18.4 (from pydantic>=2.0->gradio==4.0.2)\n",
      "  Using cached pydantic_core-2.18.4-cp311-none-win_amd64.whl.metadata (6.7 kB)\n",
      "Requirement already satisfied: charset-normalizer<4,>=2 in c:\\users\\tjdtn\\anaconda3\\lib\\site-packages (from requests~=2.0->gradio==4.0.2) (2.0.4)\n",
      "Requirement already satisfied: idna<4,>=2.5 in c:\\users\\tjdtn\\anaconda3\\lib\\site-packages (from requests~=2.0->gradio==4.0.2) (3.4)\n",
      "Requirement already satisfied: urllib3<3,>=1.21.1 in c:\\users\\tjdtn\\anaconda3\\lib\\site-packages (from requests~=2.0->gradio==4.0.2) (2.0.7)\n",
      "Requirement already satisfied: certifi>=2017.4.17 in c:\\users\\tjdtn\\anaconda3\\lib\\site-packages (from requests~=2.0->gradio==4.0.2) (2024.6.2)\n",
      "Requirement already satisfied: click>=8.0.0 in c:\\users\\tjdtn\\anaconda3\\lib\\site-packages (from typer<1.0,>=0.9->typer[all]<1.0,>=0.9->gradio==4.0.2) (8.1.7)\n",
      "Collecting shellingham>=1.3.0 (from typer<1.0,>=0.9->typer[all]<1.0,>=0.9->gradio==4.0.2)\n",
      "  Using cached shellingham-1.5.4-py2.py3-none-any.whl.metadata (3.5 kB)\n",
      "Requirement already satisfied: rich>=10.11.0 in c:\\users\\tjdtn\\anaconda3\\lib\\site-packages (from typer<1.0,>=0.9->typer[all]<1.0,>=0.9->gradio==4.0.2) (13.3.5)\n",
      "Requirement already satisfied: h11>=0.8 in c:\\users\\tjdtn\\appdata\\roaming\\python\\python311\\site-packages (from uvicorn>=0.14.0->gradio==4.0.2) (0.14.0)\n",
      "Collecting starlette<0.38.0,>=0.37.2 (from fastapi->gradio==4.0.2)\n",
      "  Using cached starlette-0.37.2-py3-none-any.whl.metadata (5.9 kB)\n",
      "Collecting fastapi-cli>=0.0.2 (from fastapi->gradio==4.0.2)\n",
      "  Using cached fastapi_cli-0.0.4-py3-none-any.whl.metadata (7.0 kB)\n",
      "Requirement already satisfied: ujson!=4.0.2,!=4.1.0,!=4.2.0,!=4.3.0,!=5.0.0,!=5.1.0,>=4.0.1 in c:\\users\\tjdtn\\anaconda3\\lib\\site-packages (from fastapi->gradio==4.0.2) (5.4.0)\n",
      "Collecting email_validator>=2.0.0 (from fastapi->gradio==4.0.2)\n",
      "  Using cached email_validator-2.2.0-py3-none-any.whl.metadata (25 kB)\n",
      "Requirement already satisfied: anyio in c:\\users\\tjdtn\\anaconda3\\lib\\site-packages (from httpx->gradio==4.0.2) (4.2.0)\n",
      "Requirement already satisfied: httpcore==1.* in c:\\users\\tjdtn\\appdata\\roaming\\python\\python311\\site-packages (from httpx->gradio==4.0.2) (1.0.5)\n",
      "Requirement already satisfied: sniffio in c:\\users\\tjdtn\\anaconda3\\lib\\site-packages (from httpx->gradio==4.0.2) (1.3.0)\n",
      "Requirement already satisfied: colorama in c:\\users\\tjdtn\\anaconda3\\lib\\site-packages (from click>=8.0.0->typer<1.0,>=0.9->typer[all]<1.0,>=0.9->gradio==4.0.2) (0.4.6)\n",
      "Collecting dnspython>=2.0.0 (from email_validator>=2.0.0->fastapi->gradio==4.0.2)\n",
      "  Using cached dnspython-2.6.1-py3-none-any.whl.metadata (5.8 kB)\n",
      "Requirement already satisfied: attrs>=22.2.0 in c:\\users\\tjdtn\\appdata\\roaming\\python\\python311\\site-packages (from jsonschema>=3.0->altair<6.0,>=4.2.0->gradio==4.0.2) (23.2.0)\n",
      "Requirement already satisfied: jsonschema-specifications>=2023.03.6 in c:\\users\\tjdtn\\anaconda3\\lib\\site-packages (from jsonschema>=3.0->altair<6.0,>=4.2.0->gradio==4.0.2) (2023.7.1)\n",
      "Requirement already satisfied: referencing>=0.28.4 in c:\\users\\tjdtn\\anaconda3\\lib\\site-packages (from jsonschema>=3.0->altair<6.0,>=4.2.0->gradio==4.0.2) (0.30.2)\n",
      "Requirement already satisfied: rpds-py>=0.7.1 in c:\\users\\tjdtn\\anaconda3\\lib\\site-packages (from jsonschema>=3.0->altair<6.0,>=4.2.0->gradio==4.0.2) (0.10.6)\n",
      "Requirement already satisfied: six>=1.5 in c:\\users\\tjdtn\\anaconda3\\lib\\site-packages (from python-dateutil>=2.7->matplotlib~=3.0->gradio==4.0.2) (1.16.0)\n",
      "Requirement already satisfied: markdown-it-py<3.0.0,>=2.2.0 in c:\\users\\tjdtn\\anaconda3\\lib\\site-packages (from rich>=10.11.0->typer<1.0,>=0.9->typer[all]<1.0,>=0.9->gradio==4.0.2) (2.2.0)\n",
      "Requirement already satisfied: pygments<3.0.0,>=2.13.0 in c:\\users\\tjdtn\\anaconda3\\lib\\site-packages (from rich>=10.11.0->typer<1.0,>=0.9->typer[all]<1.0,>=0.9->gradio==4.0.2) (2.15.1)\n",
      "Collecting httptools>=0.5.0 (from uvicorn[standard]>=0.12.0->fastapi->gradio==4.0.2)\n",
      "  Using cached httptools-0.6.1-cp311-cp311-win_amd64.whl.metadata (3.7 kB)\n",
      "Requirement already satisfied: python-dotenv>=0.13 in c:\\users\\tjdtn\\anaconda3\\lib\\site-packages (from uvicorn[standard]>=0.12.0->fastapi->gradio==4.0.2) (0.21.0)\n",
      "Collecting watchfiles>=0.13 (from uvicorn[standard]>=0.12.0->fastapi->gradio==4.0.2)\n",
      "  Using cached watchfiles-0.22.0-cp311-none-win_amd64.whl.metadata (5.0 kB)\n",
      "Requirement already satisfied: mdurl~=0.1 in c:\\users\\tjdtn\\anaconda3\\lib\\site-packages (from markdown-it-py<3.0.0,>=2.2.0->rich>=10.11.0->typer<1.0,>=0.9->typer[all]<1.0,>=0.9->gradio==4.0.2) (0.1.0)\n",
      "Downloading gradio-4.0.2-py3-none-any.whl (25.3 MB)\n",
      "   ---------------------------------------- 0.0/25.3 MB ? eta -:--:--\n",
      "    --------------------------------------- 0.4/25.3 MB 8.3 MB/s eta 0:00:04\n",
      "   - -------------------------------------- 1.0/25.3 MB 9.3 MB/s eta 0:00:03\n",
      "   -- ------------------------------------- 1.4/25.3 MB 10.1 MB/s eta 0:00:03\n",
      "   -- ------------------------------------- 1.9/25.3 MB 9.2 MB/s eta 0:00:03\n",
      "   --- ------------------------------------ 2.4/25.3 MB 10.2 MB/s eta 0:00:03\n",
      "   ---- ----------------------------------- 2.9/25.3 MB 10.5 MB/s eta 0:00:03\n",
      "   ----- ---------------------------------- 3.7/25.3 MB 10.6 MB/s eta 0:00:03\n",
      "   ------ --------------------------------- 4.4/25.3 MB 11.7 MB/s eta 0:00:02\n",
      "   -------- ------------------------------- 5.1/25.3 MB 12.1 MB/s eta 0:00:02\n",
      "   --------- ------------------------------ 5.9/25.3 MB 12.6 MB/s eta 0:00:02\n",
      "   ---------- ----------------------------- 6.7/25.3 MB 13.0 MB/s eta 0:00:02\n",
      "   ------------ --------------------------- 7.6/25.3 MB 13.2 MB/s eta 0:00:02\n",
      "   ------------- -------------------------- 8.5/25.3 MB 13.6 MB/s eta 0:00:02\n",
      "   -------------- ------------------------- 9.3/25.3 MB 13.9 MB/s eta 0:00:02\n",
      "   ---------------- ----------------------- 10.2/25.3 MB 14.2 MB/s eta 0:00:02\n",
      "   ----------------- ---------------------- 11.1/25.3 MB 15.2 MB/s eta 0:00:01\n",
      "   ------------------ --------------------- 11.7/25.3 MB 15.6 MB/s eta 0:00:01\n",
      "   ------------------- -------------------- 12.6/25.3 MB 16.4 MB/s eta 0:00:01\n",
      "   --------------------- ------------------ 13.4/25.3 MB 17.3 MB/s eta 0:00:01\n",
      "   ---------------------- ----------------- 14.3/25.3 MB 17.2 MB/s eta 0:00:01\n",
      "   ------------------------ --------------- 15.2/25.3 MB 17.7 MB/s eta 0:00:01\n",
      "   ------------------------- -------------- 15.9/25.3 MB 17.2 MB/s eta 0:00:01\n",
      "   -------------------------- ------------- 16.7/25.3 MB 17.2 MB/s eta 0:00:01\n",
      "   --------------------------- ------------ 17.7/25.3 MB 17.3 MB/s eta 0:00:01\n",
      "   ---------------------------- ----------- 18.3/25.3 MB 17.2 MB/s eta 0:00:01\n",
      "   ------------------------------ --------- 19.1/25.3 MB 16.4 MB/s eta 0:00:01\n",
      "   ------------------------------- -------- 20.2/25.3 MB 16.4 MB/s eta 0:00:01\n",
      "   --------------------------------- ------ 21.5/25.3 MB 16.4 MB/s eta 0:00:01\n",
      "   ----------------------------------- ---- 22.3/25.3 MB 14.9 MB/s eta 0:00:01\n",
      "   ----------------------------------- ---- 22.5/25.3 MB 13.6 MB/s eta 0:00:01\n",
      "   ------------------------------------- -- 23.8/25.3 MB 11.9 MB/s eta 0:00:01\n",
      "   ---------------------------------------  25.2/25.3 MB 11.3 MB/s eta 0:00:01\n",
      "   ---------------------------------------  25.3/25.3 MB 11.1 MB/s eta 0:00:01\n",
      "   ---------------------------------------  25.3/25.3 MB 11.1 MB/s eta 0:00:01\n",
      "   ---------------------------------------  25.3/25.3 MB 11.1 MB/s eta 0:00:01\n",
      "   ---------------------------------------  25.3/25.3 MB 11.1 MB/s eta 0:00:01\n",
      "   ---------------------------------------  25.3/25.3 MB 11.1 MB/s eta 0:00:01\n",
      "   ---------------------------------------  25.3/25.3 MB 11.1 MB/s eta 0:00:01\n",
      "   ---------------------------------------- 25.3/25.3 MB 6.3 MB/s eta 0:00:00\n",
      "Downloading gradio_client-0.7.0-py3-none-any.whl (302 kB)\n",
      "   ---------------------------------------- 0.0/302.7 kB ? eta -:--:--\n",
      "   ---------------------------------------  297.0/302.7 kB ? eta -:--:--\n",
      "   ---------------------------------------- 302.7/302.7 kB 2.7 MB/s eta 0:00:00\n",
      "Using cached tomlkit-0.12.0-py3-none-any.whl (37 kB)\n",
      "Using cached aiofiles-23.2.1-py3-none-any.whl (15 kB)\n",
      "Using cached importlib_resources-6.4.0-py3-none-any.whl (38 kB)\n",
      "Using cached orjson-3.10.5-cp311-none-win_amd64.whl (141 kB)\n",
      "Using cached pydantic-2.7.4-py3-none-any.whl (409 kB)\n",
      "Using cached pydantic_core-2.18.4-cp311-none-win_amd64.whl (1.9 MB)\n",
      "Using cached semantic_version-2.10.0-py2.py3-none-any.whl (15 kB)\n",
      "Using cached typer-0.12.3-py3-none-any.whl (47 kB)\n",
      "Using cached uvicorn-0.30.1-py3-none-any.whl (62 kB)\n",
      "Using cached websockets-11.0.3-cp311-cp311-win_amd64.whl (124 kB)\n",
      "Using cached fastapi-0.111.0-py3-none-any.whl (91 kB)\n",
      "Using cached python_multipart-0.0.9-py3-none-any.whl (22 kB)\n",
      "Using cached pydub-0.25.1-py2.py3-none-any.whl (32 kB)\n",
      "Using cached annotated_types-0.7.0-py3-none-any.whl (13 kB)\n",
      "Using cached email_validator-2.2.0-py3-none-any.whl (33 kB)\n",
      "Using cached fastapi_cli-0.0.4-py3-none-any.whl (9.5 kB)\n",
      "Using cached shellingham-1.5.4-py2.py3-none-any.whl (9.8 kB)\n",
      "Using cached starlette-0.37.2-py3-none-any.whl (71 kB)\n",
      "Using cached dnspython-2.6.1-py3-none-any.whl (307 kB)\n",
      "Using cached httptools-0.6.1-cp311-cp311-win_amd64.whl (55 kB)\n",
      "Using cached watchfiles-0.22.0-cp311-none-win_amd64.whl (281 kB)\n",
      "Installing collected packages: pydub, ffmpy, websockets, tomlkit, shellingham, semantic-version, python-multipart, pydantic-core, orjson, importlib-resources, httptools, dnspython, annotated-types, aiofiles, watchfiles, uvicorn, starlette, pydantic, email_validator, typer, gradio-client, fastapi-cli, fastapi, gradio\n",
      "  Attempting uninstall: tomlkit\n",
      "    Found existing installation: tomlkit 0.11.1\n",
      "    Uninstalling tomlkit-0.11.1:\n",
      "      Successfully uninstalled tomlkit-0.11.1\n",
      "  Attempting uninstall: pydantic\n",
      "    Found existing installation: pydantic 1.10.12\n",
      "    Uninstalling pydantic-1.10.12:\n",
      "      Successfully uninstalled pydantic-1.10.12\n",
      "Successfully installed aiofiles-23.2.1 annotated-types-0.7.0 dnspython-2.6.1 email_validator-2.2.0 fastapi-0.111.0 fastapi-cli-0.0.4 ffmpy-0.3.2 gradio-4.0.2 gradio-client-0.7.0 httptools-0.6.1 importlib-resources-6.4.0 orjson-3.10.5 pydantic-2.7.4 pydantic-core-2.18.4 pydub-0.25.1 python-multipart-0.0.9 semantic-version-2.10.0 shellingham-1.5.4 starlette-0.37.2 tomlkit-0.12.0 typer-0.12.3 uvicorn-0.30.1 watchfiles-0.22.0 websockets-11.0.3\n"
     ]
    },
    {
     "name": "stderr",
     "output_type": "stream",
     "text": [
      "WARNING: typer 0.12.3 does not provide the extra 'all'\n"
     ]
    }
   ],
   "source": [
    "# !pip install gradio==4.0.2"
   ]
  },
  {
   "cell_type": "code",
   "execution_count": 3,
   "id": "ddddbef1-da70-4169-af7c-77e986d3ddf4",
   "metadata": {},
   "outputs": [
    {
     "name": "stdout",
     "output_type": "stream",
     "text": [
      "Fetching model from: https://huggingface.co/Helsinki-NLP/opus-mt-ko-en\n",
      "Running on local URL:  http://127.0.0.1:7860\n",
      "\n",
      "To create a public link, set `share=True` in `launch()`.\n"
     ]
    },
    {
     "data": {
      "text/html": [
       "<div><iframe src=\"http://127.0.0.1:7860/\" width=\"100%\" height=\"500\" allow=\"autoplay; camera; microphone; clipboard-read; clipboard-write;\" frameborder=\"0\" allowfullscreen></iframe></div>"
      ],
      "text/plain": [
       "<IPython.core.display.HTML object>"
      ]
     },
     "metadata": {},
     "output_type": "display_data"
    }
   ],
   "source": [
    "# 번역 인공지능 예시\n",
    "import gradio as gr\n",
    "\n",
    "demo = gr.load('Helsinki-NLP/opus-mt-ko-en', src='models').launch()"
   ]
  },
  {
   "cell_type": "code",
   "execution_count": 7,
   "id": "9b002199-f3fe-485e-bbb7-44cfe7ba9121",
   "metadata": {},
   "outputs": [
    {
     "name": "stdout",
     "output_type": "stream",
     "text": [
      "Fetching model from: https://huggingface.co/google/vit-base-patch16-384\n",
      "Running on local URL:  http://127.0.0.1:7862\n",
      "IMPORTANT: You are using gradio version 4.0.2, however version 4.29.0 is available, please upgrade.\n",
      "--------\n",
      "Running on public URL: https://e718d7bb17f8ed4847.gradio.live\n",
      "\n",
      "This share link expires in 72 hours. For free permanent hosting and GPU upgrades, run `gradio deploy` from Terminal to deploy to Spaces (https://huggingface.co/spaces)\n"
     ]
    },
    {
     "data": {
      "text/html": [
       "<div><iframe src=\"https://e718d7bb17f8ed4847.gradio.live\" width=\"100%\" height=\"500\" allow=\"autoplay; camera; microphone; clipboard-read; clipboard-write;\" frameborder=\"0\" allowfullscreen></iframe></div>"
      ],
      "text/plain": [
       "<IPython.core.display.HTML object>"
      ]
     },
     "metadata": {},
     "output_type": "display_data"
    },
    {
     "data": {
      "text/plain": []
     },
     "execution_count": 7,
     "metadata": {},
     "output_type": "execute_result"
    }
   ],
   "source": [
    "# 사물인식 인공지능 예시\n",
    "import gradio as gr\n",
    "\n",
    "gr.load(\"huggingface/google/vit-base-patch16-384\").launch(share=True)"
   ]
  },
  {
   "cell_type": "code",
   "execution_count": 11,
   "id": "0fd4c0e4-f8b6-4712-88b2-8379e5a0c986",
   "metadata": {},
   "outputs": [
    {
     "name": "stdout",
     "output_type": "stream",
     "text": [
      "Running on local URL:  http://127.0.0.1:7863\n",
      "IMPORTANT: You are using gradio version 4.0.2, however version 4.29.0 is available, please upgrade.\n",
      "--------\n",
      "Running on public URL: https://4c8659f4ee5829de1a.gradio.live\n",
      "\n",
      "This share link expires in 72 hours. For free permanent hosting and GPU upgrades, run `gradio deploy` from Terminal to deploy to Spaces (https://huggingface.co/spaces)\n"
     ]
    },
    {
     "data": {
      "text/html": [
       "<div><iframe src=\"https://4c8659f4ee5829de1a.gradio.live\" width=\"100%\" height=\"500\" allow=\"autoplay; camera; microphone; clipboard-read; clipboard-write;\" frameborder=\"0\" allowfullscreen></iframe></div>"
      ],
      "text/plain": [
       "<IPython.core.display.HTML object>"
      ]
     },
     "metadata": {},
     "output_type": "display_data"
    },
    {
     "data": {
      "text/plain": []
     },
     "execution_count": 11,
     "metadata": {},
     "output_type": "execute_result"
    }
   ],
   "source": [
    "# gradio를 통해 이름 입력 >> 인사하는 페이지 구성\n",
    "import gradio as gr\n",
    "\n",
    "def greet(name):\n",
    "    return 'Hello ' + name + ' !! ^^'\n",
    "\n",
    "demo = gr.Interface(fn=greet, inputs='text', outputs='text')\n",
    "\n",
    "demo.launch(share=True)"
   ]
  },
  {
   "cell_type": "code",
   "execution_count": 13,
   "id": "5fcfe625-0cc7-449e-a538-ff575468afdd",
   "metadata": {},
   "outputs": [
    {
     "name": "stdout",
     "output_type": "stream",
     "text": [
      "Running on local URL:  http://127.0.0.1:7864\n",
      "\n",
      "To create a public link, set `share=True` in `launch()`.\n"
     ]
    },
    {
     "data": {
      "text/html": [
       "<div><iframe src=\"http://127.0.0.1:7864/\" width=\"100%\" height=\"500\" allow=\"autoplay; camera; microphone; clipboard-read; clipboard-write;\" frameborder=\"0\" allowfullscreen></iframe></div>"
      ],
      "text/plain": [
       "<IPython.core.display.HTML object>"
      ]
     },
     "metadata": {},
     "output_type": "display_data"
    },
    {
     "data": {
      "text/plain": []
     },
     "execution_count": 13,
     "metadata": {},
     "output_type": "execute_result"
    }
   ],
   "source": [
    "# 펠린드롬\n",
    "# ex) 기러기, 스위스, 토마토\n",
    "import gradio as gr\n",
    "\n",
    "def flip_text(x):\n",
    "    return x[::-1]\n",
    "\n",
    "with gr.Blocks() as blocks_test:\n",
    "    gr.Markdown('뒤집고 싶은 문장이나 단어를 입력하고 **실행**을 눌러 결과를 확인하세요!')\n",
    "\n",
    "    with gr.Row():\n",
    "        input = gr.Textbox(placeholder='뒤집고 싶은 문장이나 단어')\n",
    "        out = gr.Textbox()\n",
    "\n",
    "    btn = gr.Button('실행')\n",
    "    btn.click(fn=flip_text, inputs=input, outputs=out)\n",
    "\n",
    "blocks_test.launch()"
   ]
  },
  {
   "cell_type": "markdown",
   "id": "c0055747-e8f5-486e-97b3-f2a3f7ff2907",
   "metadata": {},
   "source": [
    "## 펠린드롬 검사기 만들기"
   ]
  },
  {
   "cell_type": "code",
   "execution_count": 22,
   "id": "f0e72642-57f0-4178-bb07-1953fb10e6cb",
   "metadata": {},
   "outputs": [
    {
     "name": "stdout",
     "output_type": "stream",
     "text": [
      "Running on local URL:  http://127.0.0.1:7868\n",
      "\n",
      "To create a public link, set `share=True` in `launch()`.\n"
     ]
    },
    {
     "data": {
      "text/html": [
       "<div><iframe src=\"http://127.0.0.1:7868/\" width=\"100%\" height=\"500\" allow=\"autoplay; camera; microphone; clipboard-read; clipboard-write;\" frameborder=\"0\" allowfullscreen></iframe></div>"
      ],
      "text/plain": [
       "<IPython.core.display.HTML object>"
      ]
     },
     "metadata": {},
     "output_type": "display_data"
    },
    {
     "data": {
      "text/plain": []
     },
     "execution_count": 22,
     "metadata": {},
     "output_type": "execute_result"
    }
   ],
   "source": [
    "import gradio as gr\n",
    "\n",
    "def gr_is_palindrome(text):\n",
    "    reversed_text = text[::-1]\n",
    "\n",
    "    if text == reversed_text:\n",
    "        return (text + ' --> ' + reversed_text, 'Palindrome')\n",
    "    else:\n",
    "        return (text + ' --> ' + reversed_text, 'Not Palindrome')\n",
    "\n",
    "interface = \\\n",
    "gr.Interface(fn=gr_is_palindrome, inputs='text', outputs=['text', 'text'])\n",
    "\n",
    "interface.launch()"
   ]
  },
  {
   "cell_type": "code",
   "execution_count": null,
   "id": "50d0dd6c-040e-4060-b135-741e745bd985",
   "metadata": {},
   "outputs": [],
   "source": []
  }
 ],
 "metadata": {
  "kernelspec": {
   "display_name": "Python 3 (ipykernel)",
   "language": "python",
   "name": "python3"
  },
  "language_info": {
   "codemirror_mode": {
    "name": "ipython",
    "version": 3
   },
   "file_extension": ".py",
   "mimetype": "text/x-python",
   "name": "python",
   "nbconvert_exporter": "python",
   "pygments_lexer": "ipython3",
   "version": "3.11.7"
  }
 },
 "nbformat": 4,
 "nbformat_minor": 5
}
